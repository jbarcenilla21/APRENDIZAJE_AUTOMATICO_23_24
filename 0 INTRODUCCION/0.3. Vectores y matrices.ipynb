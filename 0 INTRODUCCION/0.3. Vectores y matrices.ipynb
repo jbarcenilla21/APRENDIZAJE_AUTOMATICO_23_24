{
  "cells": [
    {
      "cell_type": "markdown",
      "metadata": {
        "id": "view-in-github",
        "colab_type": "text"
      },
      "source": [
        "<a href=\"https://colab.research.google.com/github/jbarcenilla21/APRENDIZAJE_AUTOMATICO_23_24/blob/main/0%20INTRODUCCION/0.3.%20Vectores%20y%20matrices.ipynb\" target=\"_parent\"><img src=\"https://colab.research.google.com/assets/colab-badge.svg\" alt=\"Open In Colab\"/></a>"
      ]
    },
    {
      "cell_type": "code",
      "execution_count": 3,
      "metadata": {
        "pycharm": {
          "name": "#%%\n"
        },
        "id": "dKlTU2-_jdEW",
        "outputId": "42aae81a-25ee-4e40-c02d-ef89ef8aab5e",
        "colab": {
          "base_uri": "https://localhost:8080/"
        }
      },
      "outputs": [
        {
          "output_type": "stream",
          "name": "stdout",
          "text": [
            "[0, 1, 2, 3, 4, 5, 6, 7, 8, 9, 10, 11, 12, 13, 14, 15, 16, 17, 18, 19]\n"
          ]
        }
      ],
      "source": [
        "lista = []\n",
        "for i in range(20):\n",
        "  lista.append(i)\n",
        "print(lista)"
      ]
    },
    {
      "cell_type": "code",
      "execution_count": 5,
      "metadata": {
        "pycharm": {
          "name": "#%%\n"
        },
        "id": "gOC_OxpgjdEX",
        "outputId": "743f50c8-38e8-437c-e4ed-3abd58dd6534",
        "colab": {
          "base_uri": "https://localhost:8080/"
        }
      },
      "outputs": [
        {
          "output_type": "execute_result",
          "data": {
            "text/plain": [
              "True"
            ]
          },
          "metadata": {},
          "execution_count": 5
        }
      ],
      "source": [
        "2 in lista"
      ]
    },
    {
      "cell_type": "code",
      "execution_count": 6,
      "metadata": {
        "pycharm": {
          "name": "#%%\n"
        },
        "id": "kEjQwWR5jdEX",
        "outputId": "9d4f2482-4627-4d0f-9bf0-183a92f20905",
        "colab": {
          "base_uri": "https://localhost:8080/"
        }
      },
      "outputs": [
        {
          "output_type": "execute_result",
          "data": {
            "text/plain": [
              "False"
            ]
          },
          "metadata": {},
          "execution_count": 6
        }
      ],
      "source": [
        "35 in lista"
      ]
    },
    {
      "cell_type": "code",
      "execution_count": 4,
      "metadata": {
        "pycharm": {
          "name": "#%%\n"
        },
        "id": "PXLg_HjKjdEX",
        "outputId": "a573bab4-48ff-484c-a3bb-32d3b68945aa",
        "colab": {
          "base_uri": "https://localhost:8080/"
        }
      },
      "outputs": [
        {
          "output_type": "execute_result",
          "data": {
            "text/plain": [
              "0"
            ]
          },
          "metadata": {},
          "execution_count": 4
        }
      ],
      "source": [
        "lista[0]"
      ]
    },
    {
      "cell_type": "code",
      "execution_count": 7,
      "metadata": {
        "pycharm": {
          "name": "#%%\n"
        },
        "id": "yUSGbMidjdEX",
        "outputId": "9af84947-5942-4af2-fadb-0c0a4673ba38",
        "colab": {
          "base_uri": "https://localhost:8080/"
        }
      },
      "outputs": [
        {
          "output_type": "execute_result",
          "data": {
            "text/plain": [
              "19"
            ]
          },
          "metadata": {},
          "execution_count": 7
        }
      ],
      "source": [
        "lista[-1]"
      ]
    },
    {
      "cell_type": "code",
      "execution_count": 8,
      "metadata": {
        "pycharm": {
          "name": "#%%\n"
        },
        "id": "fpurXII5jdEX",
        "outputId": "c1f71663-0b80-4866-8825-4f5625da30f6",
        "colab": {
          "base_uri": "https://localhost:8080/"
        }
      },
      "outputs": [
        {
          "output_type": "execute_result",
          "data": {
            "text/plain": [
              "[2, 3]"
            ]
          },
          "metadata": {},
          "execution_count": 8
        }
      ],
      "source": [
        "lista[2:4]"
      ]
    },
    {
      "cell_type": "code",
      "execution_count": 9,
      "metadata": {
        "pycharm": {
          "name": "#%%\n"
        },
        "id": "W_XNBrLGjdEY",
        "outputId": "10044864-73c9-4a96-97db-304b36e40cbc",
        "colab": {
          "base_uri": "https://localhost:8080/"
        }
      },
      "outputs": [
        {
          "output_type": "execute_result",
          "data": {
            "text/plain": [
              "[0, 1, 2, 3, 4]"
            ]
          },
          "metadata": {},
          "execution_count": 9
        }
      ],
      "source": [
        "lista[:5]"
      ]
    },
    {
      "cell_type": "code",
      "execution_count": 10,
      "metadata": {
        "pycharm": {
          "name": "#%%\n"
        },
        "id": "WHTduMw-jdEY",
        "outputId": "44486768-fd0d-4298-af59-1961ce3e778c",
        "colab": {
          "base_uri": "https://localhost:8080/"
        }
      },
      "outputs": [
        {
          "output_type": "execute_result",
          "data": {
            "text/plain": [
              "[4, 5, 6, 7, 8, 9, 10, 11, 12, 13, 14, 15, 16, 17, 18, 19]"
            ]
          },
          "metadata": {},
          "execution_count": 10
        }
      ],
      "source": [
        "lista[4:]"
      ]
    },
    {
      "cell_type": "code",
      "execution_count": 11,
      "metadata": {
        "pycharm": {
          "name": "#%%\n"
        },
        "id": "YiLhVtRqjdEY",
        "outputId": "8c6be6d4-4e70-4b96-de7f-19b0b5f3c6fd",
        "colab": {
          "base_uri": "https://localhost:8080/"
        }
      },
      "outputs": [
        {
          "output_type": "execute_result",
          "data": {
            "text/plain": [
              "[0, 1, 2, 3, 4, 5, 6, 7, 8, 9, 10, 11, 12, 13, 14, 15, 16, 17, 18, 19]"
            ]
          },
          "metadata": {},
          "execution_count": 11
        }
      ],
      "source": [
        "lista[:]"
      ]
    },
    {
      "cell_type": "code",
      "execution_count": 12,
      "metadata": {
        "pycharm": {
          "name": "#%%\n"
        },
        "id": "LmEqnrJvjdEY",
        "outputId": "6f790c7f-ca42-4b4c-c5e0-6c2aae73345f",
        "colab": {
          "base_uri": "https://localhost:8080/"
        }
      },
      "outputs": [
        {
          "output_type": "execute_result",
          "data": {
            "text/plain": [
              "array([1, 2, 3, 4, 5, 6, 7, 8, 9])"
            ]
          },
          "metadata": {},
          "execution_count": 12
        }
      ],
      "source": [
        "import numpy as np\n",
        "\n",
        "np.arange(1,10)"
      ]
    },
    {
      "cell_type": "code",
      "execution_count": 13,
      "metadata": {
        "pycharm": {
          "name": "#%%\n"
        },
        "id": "vBl_9mjWjdEY",
        "outputId": "abbd2ca8-566f-48ec-ad21-7d6340e4fd33",
        "colab": {
          "base_uri": "https://localhost:8080/"
        }
      },
      "outputs": [
        {
          "output_type": "execute_result",
          "data": {
            "text/plain": [
              "array([1, 3, 5, 7, 9])"
            ]
          },
          "metadata": {},
          "execution_count": 13
        }
      ],
      "source": [
        "np.arange(1,10,2)\n"
      ]
    },
    {
      "cell_type": "code",
      "execution_count": 14,
      "metadata": {
        "pycharm": {
          "name": "#%%\n"
        },
        "id": "oVco8b84jdEY",
        "outputId": "3adc91a7-5790-4e6e-e860-41ec91d907af",
        "colab": {
          "base_uri": "https://localhost:8080/"
        }
      },
      "outputs": [
        {
          "output_type": "execute_result",
          "data": {
            "text/plain": [
              "array([1, 2, 3, 4])"
            ]
          },
          "metadata": {},
          "execution_count": 14
        }
      ],
      "source": [
        "a = np.array([1,2,3,4])\n",
        "a"
      ]
    },
    {
      "cell_type": "code",
      "execution_count": 15,
      "metadata": {
        "pycharm": {
          "name": "#%%\n"
        },
        "id": "MaJY7okVjdEY",
        "outputId": "d9b9d12e-3f3d-470b-cc9e-c2455f126b68",
        "colab": {
          "base_uri": "https://localhost:8080/"
        }
      },
      "outputs": [
        {
          "output_type": "execute_result",
          "data": {
            "text/plain": [
              "4"
            ]
          },
          "metadata": {},
          "execution_count": 15
        }
      ],
      "source": [
        "len(a)"
      ]
    },
    {
      "cell_type": "code",
      "execution_count": 16,
      "metadata": {
        "pycharm": {
          "name": "#%%\n"
        },
        "id": "r9dZ2I1cjdEY",
        "outputId": "322621c4-4666-422c-dc3b-737e7f06d23a",
        "colab": {
          "base_uri": "https://localhost:8080/"
        }
      },
      "outputs": [
        {
          "output_type": "execute_result",
          "data": {
            "text/plain": [
              "1"
            ]
          },
          "metadata": {},
          "execution_count": 16
        }
      ],
      "source": [
        "min(a)"
      ]
    },
    {
      "cell_type": "code",
      "execution_count": 17,
      "metadata": {
        "pycharm": {
          "name": "#%%\n"
        },
        "id": "Lq5iq0wLjdEY",
        "outputId": "c2b69fc9-5be0-42d8-9c16-002a95dd4deb",
        "colab": {
          "base_uri": "https://localhost:8080/"
        }
      },
      "outputs": [
        {
          "output_type": "execute_result",
          "data": {
            "text/plain": [
              "4"
            ]
          },
          "metadata": {},
          "execution_count": 17
        }
      ],
      "source": [
        "max(a)"
      ]
    },
    {
      "cell_type": "code",
      "execution_count": 18,
      "metadata": {
        "pycharm": {
          "name": "#%%\n"
        },
        "id": "9UkmAGMWjdEY",
        "outputId": "0c999107-3479-4f0f-8e29-afebd0ed97dd",
        "colab": {
          "base_uri": "https://localhost:8080/"
        }
      },
      "outputs": [
        {
          "output_type": "execute_result",
          "data": {
            "text/plain": [
              "array([[1, 2, 3],\n",
              "       [5, 6, 4],\n",
              "       [7, 5, 2]])"
            ]
          },
          "metadata": {},
          "execution_count": 18
        }
      ],
      "source": [
        "b = np.array([[1,2,3],[5,6,4],[7,5,2]])\n",
        "b"
      ]
    },
    {
      "cell_type": "code",
      "execution_count": 19,
      "metadata": {
        "pycharm": {
          "name": "#%%\n"
        },
        "id": "b5esWO-kjdEY",
        "outputId": "aa67c83d-48ff-4208-9ef8-9354bcdf45a1",
        "colab": {
          "base_uri": "https://localhost:8080/"
        }
      },
      "outputs": [
        {
          "output_type": "execute_result",
          "data": {
            "text/plain": [
              "array([1, 2, 3])"
            ]
          },
          "metadata": {},
          "execution_count": 19
        }
      ],
      "source": [
        "b[0]"
      ]
    },
    {
      "cell_type": "code",
      "execution_count": 20,
      "metadata": {
        "pycharm": {
          "name": "#%%\n"
        },
        "id": "FAuybA42jdEY",
        "outputId": "47c77810-0b63-40d0-e2cc-6a8f333c6a1d",
        "colab": {
          "base_uri": "https://localhost:8080/"
        }
      },
      "outputs": [
        {
          "output_type": "execute_result",
          "data": {
            "text/plain": [
              "array([2, 6, 5])"
            ]
          },
          "metadata": {},
          "execution_count": 20
        }
      ],
      "source": [
        "b[:,1]"
      ]
    },
    {
      "cell_type": "code",
      "execution_count": null,
      "metadata": {
        "pycharm": {
          "name": "#%%\n"
        },
        "id": "iiin2sSgjdEY",
        "outputId": "381beaae-72cb-4a55-da85-1f51d52c2d4b"
      },
      "outputs": [
        {
          "data": {
            "text/plain": "2"
          },
          "execution_count": 19,
          "metadata": {},
          "output_type": "execute_result"
        }
      ],
      "source": [
        "b[2,2]"
      ]
    },
    {
      "cell_type": "markdown",
      "metadata": {
        "pycharm": {
          "name": "#%% md\n"
        },
        "id": "2bT9d-TajdEY"
      },
      "source": [
        "# Revisar la indexación de matrices (filas columnas)"
      ]
    },
    {
      "cell_type": "code",
      "execution_count": 21,
      "metadata": {
        "pycharm": {
          "name": "#%%\n"
        },
        "id": "LjUpamlNjdEZ",
        "outputId": "9958be61-e5d3-4e22-fad4-8dfd0ccf2ccb",
        "colab": {
          "base_uri": "https://localhost:8080/"
        }
      },
      "outputs": [
        {
          "output_type": "execute_result",
          "data": {
            "text/plain": [
              "array([[2, 3],\n",
              "       [6, 4]])"
            ]
          },
          "metadata": {},
          "execution_count": 21
        }
      ],
      "source": [
        "b[0:2, 1:3]"
      ]
    },
    {
      "cell_type": "code",
      "execution_count": 29,
      "metadata": {
        "pycharm": {
          "name": "#%%\n"
        },
        "id": "cEqER37_jdEZ",
        "outputId": "5afcf92c-4459-4629-c3ed-9ff0e14015ff",
        "colab": {
          "base_uri": "https://localhost:8080/"
        }
      },
      "outputs": [
        {
          "output_type": "execute_result",
          "data": {
            "text/plain": [
              "array([[0.59492037, 0.77799168, 0.38890702, 0.97778473, 0.62574606],\n",
              "       [0.762927  , 0.92993642, 0.45302377, 0.4744581 , 0.35378187],\n",
              "       [0.19841587, 0.57462033, 0.50915889, 0.73974965, 0.18520654],\n",
              "       [0.65682977, 0.13711372, 0.78312701, 0.6785965 , 0.01027015],\n",
              "       [0.57259676, 0.73576841, 0.32204252, 0.75563313, 0.94908531]])"
            ]
          },
          "metadata": {},
          "execution_count": 29
        }
      ],
      "source": [
        "a = np.random.rand(5,5)\n",
        "a"
      ]
    },
    {
      "cell_type": "code",
      "execution_count": 30,
      "metadata": {
        "pycharm": {
          "name": "#%%\n"
        },
        "id": "nC7UPJGhjdEZ",
        "outputId": "cf8b60c3-2d4c-480f-9aa0-832738f7f965",
        "colab": {
          "base_uri": "https://localhost:8080/"
        }
      },
      "outputs": [
        {
          "output_type": "execute_result",
          "data": {
            "text/plain": [
              "(5, 5)"
            ]
          },
          "metadata": {},
          "execution_count": 30
        }
      ],
      "source": [
        "a.shape"
      ]
    },
    {
      "cell_type": "code",
      "execution_count": 31,
      "metadata": {
        "pycharm": {
          "name": "#%%\n"
        },
        "id": "NvtLOFIZjdEZ",
        "outputId": "4ecd79bd-99a2-47ce-aac0-3ed7c7107481",
        "colab": {
          "base_uri": "https://localhost:8080/"
        }
      },
      "outputs": [
        {
          "output_type": "execute_result",
          "data": {
            "text/plain": [
              "array([[0.04554638, 0.70277622, 0.1044264 , 0.77724607, 0.51416842],\n",
              "       [0.37699045, 0.08288526, 0.98826932, 0.05591777, 0.18164142],\n",
              "       [0.46043662, 0.8544222 , 0.2033561 , 0.47602047, 0.91941597],\n",
              "       [0.39112935, 0.51033197, 0.60401667, 0.74397538, 0.14417142],\n",
              "       [0.60977195, 0.93994903, 0.56982318, 0.73527655, 0.61545461]])"
            ]
          },
          "metadata": {},
          "execution_count": 31
        }
      ],
      "source": [
        "b  = np.random.rand(5,5)\n",
        "b"
      ]
    },
    {
      "cell_type": "code",
      "execution_count": 32,
      "metadata": {
        "pycharm": {
          "name": "#%%\n"
        },
        "id": "cQATDEhHjdEZ",
        "outputId": "3e555ea0-c2ed-4ad2-ed56-e08e60975b82",
        "colab": {
          "base_uri": "https://localhost:8080/"
        }
      },
      "outputs": [
        {
          "output_type": "execute_result",
          "data": {
            "text/plain": [
              "array([[0.64046675, 1.4807679 , 0.49333342, 1.7550308 , 1.13991448],\n",
              "       [1.13991745, 1.01282168, 1.44129309, 0.53037587, 0.53542329],\n",
              "       [0.65885249, 1.42904253, 0.71251499, 1.21577012, 1.10462251],\n",
              "       [1.04795912, 0.64744569, 1.38714368, 1.42257188, 0.15444157],\n",
              "       [1.18236871, 1.67571745, 0.8918657 , 1.49090968, 1.56453992]])"
            ]
          },
          "metadata": {},
          "execution_count": 32
        }
      ],
      "source": [
        "a + b"
      ]
    },
    {
      "cell_type": "code",
      "execution_count": 33,
      "metadata": {
        "pycharm": {
          "name": "#%%\n"
        },
        "id": "MXEH7zi2jdEZ",
        "outputId": "d75a9b5c-f4da-4f56-e124-5a41b1604ed5",
        "colab": {
          "base_uri": "https://localhost:8080/"
        }
      },
      "outputs": [
        {
          "output_type": "execute_result",
          "data": {
            "text/plain": [
              "array([[ 0.54937399,  0.07521546,  0.28448062,  0.20053866,  0.11157764],\n",
              "       [ 0.38593655,  0.84705116, -0.53524555,  0.41854034,  0.17214044],\n",
              "       [-0.26202075, -0.27980188,  0.30580279,  0.26372918, -0.73420943],\n",
              "       [ 0.26570042, -0.37321825,  0.17911035, -0.06537889, -0.13390127],\n",
              "       [-0.03717518, -0.20418062, -0.24778065,  0.02035658,  0.3336307 ]])"
            ]
          },
          "metadata": {},
          "execution_count": 33
        }
      ],
      "source": [
        "a-b"
      ]
    },
    {
      "cell_type": "code",
      "execution_count": 34,
      "metadata": {
        "pycharm": {
          "name": "#%%\n"
        },
        "id": "UrwtsArbjdEZ",
        "outputId": "3ac5b487-a16a-46e3-fa03-184d73a67a69",
        "colab": {
          "base_uri": "https://localhost:8080/"
        }
      },
      "outputs": [
        {
          "output_type": "execute_result",
          "data": {
            "text/plain": [
              "array([[0.02709647, 0.54675405, 0.04061216, 0.75997934, 0.32173886],\n",
              "       [0.28761619, 0.07707802, 0.44770949, 0.02653064, 0.06426144],\n",
              "       [0.09135793, 0.49096837, 0.10354057, 0.35213598, 0.17028185],\n",
              "       [0.2569054 , 0.06997351, 0.47302177, 0.50485909, 0.00148066],\n",
              "       [0.34915344, 0.69158481, 0.18350729, 0.55559932, 0.58411893]])"
            ]
          },
          "metadata": {},
          "execution_count": 34
        }
      ],
      "source": [
        "a*b"
      ]
    },
    {
      "cell_type": "code",
      "execution_count": 35,
      "metadata": {
        "pycharm": {
          "name": "#%%\n"
        },
        "id": "J22K6j2vjdEZ",
        "outputId": "4824b3c0-10b0-4130-fca2-0aa9b58f49cf",
        "colab": {
          "base_uri": "https://localhost:8080/"
        }
      },
      "outputs": [
        {
          "output_type": "execute_result",
          "data": {
            "text/plain": [
              "array([[13.06185874,  1.10702619,  3.7242212 ,  1.2580118 ,  1.21700602],\n",
              "       [ 2.02373029, 11.21956325,  0.45840112,  8.48492547,  1.94769375],\n",
              "       [ 0.43092982,  0.67252504,  2.50377979,  1.55402907,  0.20143934],\n",
              "       [ 1.679316  ,  0.26867554,  1.29653213,  0.91212224,  0.0712357 ],\n",
              "       [ 0.93903428,  0.7827748 ,  0.56516221,  1.02768561,  1.54208822]])"
            ]
          },
          "metadata": {},
          "execution_count": 35
        }
      ],
      "source": [
        "a/b"
      ]
    },
    {
      "cell_type": "code",
      "execution_count": 36,
      "metadata": {
        "pycharm": {
          "name": "#%%\n"
        },
        "id": "RDNn6xnTjdEZ",
        "outputId": "4b10e57c-9c49-4d3a-e1a0-ab5ba007b040",
        "colab": {
          "base_uri": "https://localhost:8080/"
        }
      },
      "outputs": [
        {
          "output_type": "execute_result",
          "data": {
            "text/plain": [
              "array([[0.59492037, 0.762927  , 0.19841587, 0.65682977, 0.57259676],\n",
              "       [0.77799168, 0.92993642, 0.57462033, 0.13711372, 0.73576841],\n",
              "       [0.38890702, 0.45302377, 0.50915889, 0.78312701, 0.32204252],\n",
              "       [0.97778473, 0.4744581 , 0.73974965, 0.6785965 , 0.75563313],\n",
              "       [0.62574606, 0.35378187, 0.18520654, 0.01027015, 0.94908531]])"
            ]
          },
          "metadata": {},
          "execution_count": 36
        }
      ],
      "source": [
        "np.transpose(a)"
      ]
    },
    {
      "cell_type": "code",
      "execution_count": 37,
      "metadata": {
        "pycharm": {
          "name": "#%%\n"
        },
        "id": "z6JDWGoOjdEZ",
        "outputId": "82e2defc-8350-4b50-a1b7-97d64e64cd18",
        "colab": {
          "base_uri": "https://localhost:8080/"
        }
      },
      "outputs": [
        {
          "output_type": "execute_result",
          "data": {
            "text/plain": [
              "array([[ 1.68089722,  1.28536079,  2.57130869,  1.02272   ,  1.59809236],\n",
              "       [ 1.3107414 ,  1.07534234,  2.20738971,  2.10766765,  2.82660049],\n",
              "       [ 5.03991948,  1.74027954,  1.96402345,  1.35180868,  5.39937724],\n",
              "       [ 1.52246449,  7.29321621,  1.27693208,  1.47362977, 97.3695369 ],\n",
              "       [ 1.74642971,  1.35912331,  3.10517999,  1.32339354,  1.05364606]])"
            ]
          },
          "metadata": {},
          "execution_count": 37
        }
      ],
      "source": [
        "1/a"
      ]
    },
    {
      "cell_type": "markdown",
      "source": [
        "## PROBLEMAS"
      ],
      "metadata": {
        "id": "OJuE4JEajeI_"
      }
    },
    {
      "cell_type": "markdown",
      "source": [
        "1. Escribe una función **suma_matrices** que tome dos matrices **NumPy** como argumentos y devuelva una nueva matriz que sea la suma de las dos matrices originales. No utilices la operación de suma incorporada de NumPy (+)."
      ],
      "metadata": {
        "id": "gan8dp57jmqX"
      }
    },
    {
      "cell_type": "code",
      "source": [
        "import numpy as np\n",
        "\n",
        "def suma_matrices(A, B):\n",
        "  # INTRODUCIR EL CÓDIGO DE LA FUNCIÓN AQUÍ\n",
        "  # VALIDA QUE LAS MATRICES DE ENTRADA TIENEN LA MISMA DIMENSIÓN\n",
        "  if not(A.shape == B.shape):\n",
        "    raise(\"Dimension erronea\")\n",
        "\n",
        "  suma = np.empty(A.shape)\n",
        "\n",
        "  for i in range(A.shape[0]):\n",
        "    for j in range(A.shape[1]):\n",
        "      suma[i][j] = A[i][j] + B[i][j]\n",
        "  return suma\n",
        "\n",
        "\n",
        "# Pruebas\n",
        "A = np.array([[1, 2],\n",
        "              [3, 4]])\n",
        "\n",
        "B = np.array([[5, 6],\n",
        "              [7, 8]])\n",
        "\n",
        "print(suma_matrices(A, B))\n",
        "\n",
        "assert np.array_equal(suma_matrices(A, B), np.array([[6, 8], [10, 12]]))\n"
      ],
      "metadata": {
        "id": "RqVmsQR3jszO",
        "colab": {
          "base_uri": "https://localhost:8080/"
        },
        "outputId": "06a336b0-e8c0-420a-f19c-85e11de69f72"
      },
      "execution_count": 40,
      "outputs": [
        {
          "output_type": "stream",
          "name": "stdout",
          "text": [
            "[[ 6.  8.]\n",
            " [10. 12.]]\n"
          ]
        }
      ]
    },
    {
      "cell_type": "markdown",
      "source": [
        "2. Escribe una función **transpuesta** que tome una matriz **NumPy** como argumento y **devuelva su transpuesta**. No utilices la propiedad T de NumPy."
      ],
      "metadata": {
        "id": "rbWnPtUjkPh5"
      }
    },
    {
      "cell_type": "code",
      "source": [
        "import numpy as np\n",
        "\n",
        "def transpuesta(A):\n",
        "  # INTRODUCIR EL CÓDIGO DE LA FUNCIÓN AQUÍ\n",
        "\n",
        "  lgtbq = np.empty(A.shape[::-1])\n",
        "\n",
        "  for i in range(A.shape[0]):\n",
        "    for j in range(A.shape[1]):\n",
        "      lgtbq[j][i] = A[i][j]\n",
        "  return lgtbq\n",
        "\n",
        "# Pruebas\n",
        "A = np.array([[1, 2, 3],\n",
        "              [4, 5, 6]])\n",
        "\n",
        "print(transpuesta(A))\n",
        "assert np.array_equal(transpuesta(A), np.array([[1, 4], [2, 5], [3, 6]]))"
      ],
      "metadata": {
        "id": "XE1LFSPmkgyw",
        "colab": {
          "base_uri": "https://localhost:8080/"
        },
        "outputId": "5492bcfd-c723-4104-9397-81f6656b1208"
      },
      "execution_count": 45,
      "outputs": [
        {
          "output_type": "stream",
          "name": "stdout",
          "text": [
            "[[1. 4.]\n",
            " [2. 5.]\n",
            " [3. 6.]]\n"
          ]
        }
      ]
    },
    {
      "cell_type": "markdown",
      "source": [
        "3. Escribe una función **multiplicar_matrices** que tome dos matrices **NumPy** como argumentos y devuelva una nueva matriz que sea el resultado de la multiplicación de las dos matrices originales. No utilices la operación de multiplicación de matrices incorporada de NumPy (@ o np.dot)."
      ],
      "metadata": {
        "id": "F1HYoqkdkw8K"
      }
    },
    {
      "cell_type": "code",
      "source": [
        "import numpy as np\n",
        "\n",
        "def multiplicar_matrices(A, B):\n",
        "  # INTRODUCIR EL CÓDIGO DE LA FUNCIÓN AQUÍ\n",
        "  # VALIDA QUE LAS MATRICES DE ENTRADA TIENEN LAS DIMENSIONES\n",
        "  # ADECUADAS QUE PERMITEN LA MULTIPLICACIÓN MATRICIAL\n",
        "  if not(A.shape[1] == B.shape[0]):\n",
        "    raise(\"Dimension erronea\")\n",
        "\n",
        "  result = np.empty(A.shape[0], B.shape[1])\n",
        "\n",
        "  for i in range(result.shape[0]):\n",
        "    for j in range(result.shape[1]):\n",
        "\n",
        "\n",
        "# Pruebas\n",
        "A = np.array([[1, 2], [3, 4]])\n",
        "B = np.array([[2, 0], [1, 2]])\n",
        "assert np.array_equal(multiplicar_matrices(A, B), np.array([[4, 4], [10, 8]]))"
      ],
      "metadata": {
        "id": "9-Aa0AHNk6sK"
      },
      "execution_count": null,
      "outputs": []
    }
  ],
  "metadata": {
    "kernelspec": {
      "display_name": "Python 3",
      "language": "python",
      "name": "python3"
    },
    "language_info": {
      "codemirror_mode": {
        "name": "ipython",
        "version": 3
      },
      "file_extension": ".py",
      "mimetype": "text/x-python",
      "name": "python",
      "nbconvert_exporter": "python",
      "pygments_lexer": "ipython3",
      "version": "3.6.5"
    },
    "colab": {
      "provenance": [],
      "include_colab_link": true
    }
  },
  "nbformat": 4,
  "nbformat_minor": 0
}