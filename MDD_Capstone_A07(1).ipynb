{
  "nbformat": 4,
  "nbformat_minor": 0,
  "metadata": {
    "colab": {
      "provenance": [],
      "include_colab_link": true
    },
    "kernelspec": {
      "name": "python3",
      "display_name": "Python 3"
    },
    "language_info": {
      "name": "python"
    }
  },
  "cells": [
    {
      "cell_type": "markdown",
      "metadata": {
        "id": "view-in-github",
        "colab_type": "text"
      },
      "source": [
        "<a href=\"https://colab.research.google.com/github/jbarcenilla21/APRENDIZAJE_AUTOMATICO_23_24/blob/main/MDD_Capstone_A07(1).ipynb\" target=\"_parent\"><img src=\"https://colab.research.google.com/assets/colab-badge.svg\" alt=\"Open In Colab\"/></a>"
      ]
    },
    {
      "cell_type": "markdown",
      "source": [
        "# CAPSTONE MINERÍA DE DATOS"
      ],
      "metadata": {
        "id": "YzpE7PFZwDHY"
      }
    },
    {
      "cell_type": "markdown",
      "source": [
        "## Índice\n",
        "\n",
        "1. **Introducción**\n",
        "   - Breve descripción del proyecto y los objetivos.\n",
        "   - Resumen del conjunto de datos utilizado que incluye métricas de jugadores de la temporada 2021-2022 de la Premier League.\n",
        "\n",
        "2. **Preparación de Datos**\n",
        "\n",
        "   2.1. Carga de Datos\n",
        "\n",
        "   2.2. Exploración Inicial de Datos\n",
        "   \n",
        "   2.3. Limpieza de Datos\n",
        "\n",
        "3. **Análisis Exploratorio de Datos (EDA)**\n",
        "\n",
        "   3.1. Estadísticas Descriptivas\n",
        "\n",
        "   3.2. Distribución de Variables\n",
        "\n",
        "   3.3. Análisis de Correlaciones\n",
        "\n",
        "4. **Modelado**\n",
        "\n",
        "   4.1. Regresión Lineal y PCA\n",
        "      - 4.1.1. Reducción de dimensionalidad (PCA)\n",
        "      - 4.1.2. Regresión Múltiple\n",
        "\n",
        "   4.2. K-means Clustering\n",
        "\n",
        "5. **Regresión Logística Dicotómica**\n",
        "\n",
        "   5.1. Generación de la Variable Objetivo\n",
        "\n",
        "   5.2. Preparación de los Datos (normalización)\n",
        "\n",
        "   5.3. División en Train y Test\n",
        "\n",
        "   5.4. Generación del Modelo\n",
        "\n",
        "   5.5. Análisis de los Resultados\n",
        "\n",
        "6. **Cálculo de la Probabilidad de los Grupos**\n",
        "\n",
        "7. **Conclusión**\n",
        "\n",
        "8. **Trabajo a Futuro**"
      ],
      "metadata": {
        "id": "0aXwouL4fLkx"
      }
    },
    {
      "cell_type": "markdown",
      "source": [
        "## 1 Introducción\n",
        "\n",
        "Hemos recopilado datos sobre las actuaciones de los jugadores de la Premier League para la temporada del 2021-2022 desde el sitio web fbref.com. Este conjunto de datos incluye 83 métricas diferentes sobre los jugadores. La página web proporciona datos sobre muchas más métricas si se desea consultarlas. La idea es utilizar estas métricas para agrupar a los jugadores según su estilo de juego. Una manera genérica de hacerlo sería simplemente diferenciar a los jugadores según sus posiciones, sin embargo, esto no resulta interesante. Se sabe, además que las posiciones en el fútbol moderno a menudo se superponen. Muchos laterales participan extensamente en los ataques, sacrificando a menudo sus responsabilidades defensivas, mientras que los mediocampistas centrales los cubren en la defensa. Queremos ver si el algoritmo de agrupamiento, basado en estas 83 métricas, puede capturar esta nueva tendencia.\n"
      ],
      "metadata": {
        "id": "4QiYpc9Ofhbi"
      }
    },
    {
      "cell_type": "markdown",
      "source": [
        " El conjunto de datos incluye 83 métricas diferentes de los jugadores de la temporada 2021 - 2022 de la Premier League"
      ],
      "metadata": {
        "id": "cOz4bn91v5Ej"
      }
    },
    {
      "cell_type": "markdown",
      "source": [
        "## 2 Preparación de los datos\n",
        "\n",
        "### 2.1  Carga de datos"
      ],
      "metadata": {
        "id": "qzek3667hGdG"
      }
    },
    {
      "cell_type": "code",
      "source": [
        "from google.colab import files\n",
        "import pandas as pd\n",
        "\n",
        "# Subir el archivo\n",
        "uploaded = files.upload()\n",
        "\n",
        "# Leer el archivo CSV\n",
        "file_name = next(iter(uploaded))  # obtiene el nombre del archivo subido\n",
        "data = pd.read_csv(file_name)\n",
        "\n",
        "# Mostrar las primeras filas del DataFrame\n",
        "print(data.head())\n"
      ],
      "metadata": {
        "colab": {
          "base_uri": "https://localhost:8080/",
          "height": 479
        },
        "id": "CVYmomtwse-F",
        "outputId": "795e8ee1-9518-44d1-abf2-f82311b8c332"
      },
      "execution_count": null,
      "outputs": [
        {
          "output_type": "display_data",
          "data": {
            "text/plain": [
              "<IPython.core.display.HTML object>"
            ],
            "text/html": [
              "\n",
              "     <input type=\"file\" id=\"files-a7d44c02-7785-4f9f-a4b5-82028b8c8fb1\" name=\"files[]\" multiple disabled\n",
              "        style=\"border:none\" />\n",
              "     <output id=\"result-a7d44c02-7785-4f9f-a4b5-82028b8c8fb1\">\n",
              "      Upload widget is only available when the cell has been executed in the\n",
              "      current browser session. Please rerun this cell to enable.\n",
              "      </output>\n",
              "      <script>// Copyright 2017 Google LLC\n",
              "//\n",
              "// Licensed under the Apache License, Version 2.0 (the \"License\");\n",
              "// you may not use this file except in compliance with the License.\n",
              "// You may obtain a copy of the License at\n",
              "//\n",
              "//      http://www.apache.org/licenses/LICENSE-2.0\n",
              "//\n",
              "// Unless required by applicable law or agreed to in writing, software\n",
              "// distributed under the License is distributed on an \"AS IS\" BASIS,\n",
              "// WITHOUT WARRANTIES OR CONDITIONS OF ANY KIND, either express or implied.\n",
              "// See the License for the specific language governing permissions and\n",
              "// limitations under the License.\n",
              "\n",
              "/**\n",
              " * @fileoverview Helpers for google.colab Python module.\n",
              " */\n",
              "(function(scope) {\n",
              "function span(text, styleAttributes = {}) {\n",
              "  const element = document.createElement('span');\n",
              "  element.textContent = text;\n",
              "  for (const key of Object.keys(styleAttributes)) {\n",
              "    element.style[key] = styleAttributes[key];\n",
              "  }\n",
              "  return element;\n",
              "}\n",
              "\n",
              "// Max number of bytes which will be uploaded at a time.\n",
              "const MAX_PAYLOAD_SIZE = 100 * 1024;\n",
              "\n",
              "function _uploadFiles(inputId, outputId) {\n",
              "  const steps = uploadFilesStep(inputId, outputId);\n",
              "  const outputElement = document.getElementById(outputId);\n",
              "  // Cache steps on the outputElement to make it available for the next call\n",
              "  // to uploadFilesContinue from Python.\n",
              "  outputElement.steps = steps;\n",
              "\n",
              "  return _uploadFilesContinue(outputId);\n",
              "}\n",
              "\n",
              "// This is roughly an async generator (not supported in the browser yet),\n",
              "// where there are multiple asynchronous steps and the Python side is going\n",
              "// to poll for completion of each step.\n",
              "// This uses a Promise to block the python side on completion of each step,\n",
              "// then passes the result of the previous step as the input to the next step.\n",
              "function _uploadFilesContinue(outputId) {\n",
              "  const outputElement = document.getElementById(outputId);\n",
              "  const steps = outputElement.steps;\n",
              "\n",
              "  const next = steps.next(outputElement.lastPromiseValue);\n",
              "  return Promise.resolve(next.value.promise).then((value) => {\n",
              "    // Cache the last promise value to make it available to the next\n",
              "    // step of the generator.\n",
              "    outputElement.lastPromiseValue = value;\n",
              "    return next.value.response;\n",
              "  });\n",
              "}\n",
              "\n",
              "/**\n",
              " * Generator function which is called between each async step of the upload\n",
              " * process.\n",
              " * @param {string} inputId Element ID of the input file picker element.\n",
              " * @param {string} outputId Element ID of the output display.\n",
              " * @return {!Iterable<!Object>} Iterable of next steps.\n",
              " */\n",
              "function* uploadFilesStep(inputId, outputId) {\n",
              "  const inputElement = document.getElementById(inputId);\n",
              "  inputElement.disabled = false;\n",
              "\n",
              "  const outputElement = document.getElementById(outputId);\n",
              "  outputElement.innerHTML = '';\n",
              "\n",
              "  const pickedPromise = new Promise((resolve) => {\n",
              "    inputElement.addEventListener('change', (e) => {\n",
              "      resolve(e.target.files);\n",
              "    });\n",
              "  });\n",
              "\n",
              "  const cancel = document.createElement('button');\n",
              "  inputElement.parentElement.appendChild(cancel);\n",
              "  cancel.textContent = 'Cancel upload';\n",
              "  const cancelPromise = new Promise((resolve) => {\n",
              "    cancel.onclick = () => {\n",
              "      resolve(null);\n",
              "    };\n",
              "  });\n",
              "\n",
              "  // Wait for the user to pick the files.\n",
              "  const files = yield {\n",
              "    promise: Promise.race([pickedPromise, cancelPromise]),\n",
              "    response: {\n",
              "      action: 'starting',\n",
              "    }\n",
              "  };\n",
              "\n",
              "  cancel.remove();\n",
              "\n",
              "  // Disable the input element since further picks are not allowed.\n",
              "  inputElement.disabled = true;\n",
              "\n",
              "  if (!files) {\n",
              "    return {\n",
              "      response: {\n",
              "        action: 'complete',\n",
              "      }\n",
              "    };\n",
              "  }\n",
              "\n",
              "  for (const file of files) {\n",
              "    const li = document.createElement('li');\n",
              "    li.append(span(file.name, {fontWeight: 'bold'}));\n",
              "    li.append(span(\n",
              "        `(${file.type || 'n/a'}) - ${file.size} bytes, ` +\n",
              "        `last modified: ${\n",
              "            file.lastModifiedDate ? file.lastModifiedDate.toLocaleDateString() :\n",
              "                                    'n/a'} - `));\n",
              "    const percent = span('0% done');\n",
              "    li.appendChild(percent);\n",
              "\n",
              "    outputElement.appendChild(li);\n",
              "\n",
              "    const fileDataPromise = new Promise((resolve) => {\n",
              "      const reader = new FileReader();\n",
              "      reader.onload = (e) => {\n",
              "        resolve(e.target.result);\n",
              "      };\n",
              "      reader.readAsArrayBuffer(file);\n",
              "    });\n",
              "    // Wait for the data to be ready.\n",
              "    let fileData = yield {\n",
              "      promise: fileDataPromise,\n",
              "      response: {\n",
              "        action: 'continue',\n",
              "      }\n",
              "    };\n",
              "\n",
              "    // Use a chunked sending to avoid message size limits. See b/62115660.\n",
              "    let position = 0;\n",
              "    do {\n",
              "      const length = Math.min(fileData.byteLength - position, MAX_PAYLOAD_SIZE);\n",
              "      const chunk = new Uint8Array(fileData, position, length);\n",
              "      position += length;\n",
              "\n",
              "      const base64 = btoa(String.fromCharCode.apply(null, chunk));\n",
              "      yield {\n",
              "        response: {\n",
              "          action: 'append',\n",
              "          file: file.name,\n",
              "          data: base64,\n",
              "        },\n",
              "      };\n",
              "\n",
              "      let percentDone = fileData.byteLength === 0 ?\n",
              "          100 :\n",
              "          Math.round((position / fileData.byteLength) * 100);\n",
              "      percent.textContent = `${percentDone}% done`;\n",
              "\n",
              "    } while (position < fileData.byteLength);\n",
              "  }\n",
              "\n",
              "  // All done.\n",
              "  yield {\n",
              "    response: {\n",
              "      action: 'complete',\n",
              "    }\n",
              "  };\n",
              "}\n",
              "\n",
              "scope.google = scope.google || {};\n",
              "scope.google.colab = scope.google.colab || {};\n",
              "scope.google.colab._files = {\n",
              "  _uploadFiles,\n",
              "  _uploadFilesContinue,\n",
              "};\n",
              "})(self);\n",
              "</script> "
            ]
          },
          "metadata": {}
        },
        {
          "output_type": "stream",
          "name": "stdout",
          "text": [
            "Saving 2021-22_EPL_PlayerStats.csv to 2021-22_EPL_PlayerStats.csv\n",
            "   Unnamed: 0  Rk           Player Pos  MP  Starts   Min   90s  Gls  Ast  ...  \\\n",
            "0           0   1       Max Aarons  DF  18      18  1620  18.0    0    1  ...   \n",
            "1           1   2        Che Adams  FW  13      11   868   9.6    3    1  ...   \n",
            "2           2   3  Rayan Aït Nouri  DF   9       8   718   8.0    0    1  ...   \n",
            "3           3   4  Kristoffer Ajer  DF   7       6   565   6.3    0    0  ...   \n",
            "4           4   5       Nathan Aké  DF   8       6   581   6.5    1    0  ...   \n",
            "\n",
            "   AttPenTouch  SuccDrib  AtmpDrib  Nutnegs  Carries  TotDistCarry  \\\n",
            "0           16        25        53        4      647          3836   \n",
            "1           44         4        12        0      202           796   \n",
            "2           18        17        31        2      343          1681   \n",
            "3            9         4         6        0      126           774   \n",
            "4            3         0         2        0      402          2084   \n",
            "\n",
            "   PrgDistCarry  CarryAtt3rd  Carry18Yd  CarryDIsp  \n",
            "0          2370           34          7         20  \n",
            "1           369            6          3         20  \n",
            "2          1100            8          7         17  \n",
            "3           452            5          0          2  \n",
            "4          1406            9          0          1  \n",
            "\n",
            "[5 rows x 87 columns]\n"
          ]
        }
      ]
    },
    {
      "cell_type": "markdown",
      "source": [
        "### 2.2 Exploración inicial de los datos"
      ],
      "metadata": {
        "id": "8QdTqyUFhf_g"
      }
    },
    {
      "cell_type": "markdown",
      "source": [
        "Imprimimos todas las variables"
      ],
      "metadata": {
        "id": "Ib2b2avpwa8f"
      }
    },
    {
      "cell_type": "code",
      "source": [
        "# Imprimir todos los nombres de las columnas\n",
        "print(data.columns)\n"
      ],
      "metadata": {
        "colab": {
          "base_uri": "https://localhost:8080/"
        },
        "id": "uOMu9hA8wt4g",
        "outputId": "9c39fcbf-cfb0-47c4-af6f-290b9a181c86"
      },
      "execution_count": null,
      "outputs": [
        {
          "output_type": "stream",
          "name": "stdout",
          "text": [
            "Index(['Unnamed: 0', 'Rk', 'Player', 'Pos', 'MP', 'Starts', 'Min', '90s',\n",
            "       'Gls', 'Ast', 'NPG', 'PG', 'PA_x', 'YC', 'RC', 'Gls/90', 'Ast/90',\n",
            "       'G+A/90', 'xG', 'npxG', 'xA', 'npxG+xA', 'xG/90', 'xA/90', 'xG+xA/90',\n",
            "       'npxG/90', 'npxG+xA/90', 'SCA', 'SCA/90', 'SCPass', 'SCDeadPass',\n",
            "       'SCDrib', 'GCA', 'GCA/90', 'GCPass', 'GCDeadPass', 'GCDrib', 'PossTkl',\n",
            "       'TklDef3rd', 'TklMid3rd', 'TklAtt3rd', 'DriblTkl%', 'DriblledPast',\n",
            "       '%SuccPress', 'PressDef3rd', 'PressMid3rd', 'PressAtt3rd', 'Blocks',\n",
            "       'ShotBlocks', 'Interception', 'Clearances', 'GoalErrors', 'TCP', 'PA_y',\n",
            "       'TotDist', 'PrgDist', 'TSPC', 'SPA', 'TMPC', 'MPA', 'TLPC', 'LPA',\n",
            "       'KeyP', 'Pass18', 'Cross18', 'ProgPass', 'Live', 'Dead', 'FKPass',\n",
            "       'PressPass', 'Cross', 'LeftP', 'RightP', 'Touches', 'Def3rdTouch',\n",
            "       'Mid3rdTouch', 'Att3rdTouch', 'AttPenTouch', 'SuccDrib', 'AtmpDrib',\n",
            "       'Nutnegs', 'Carries', 'TotDistCarry', 'PrgDistCarry', 'CarryAtt3rd',\n",
            "       'Carry18Yd', 'CarryDIsp'],\n",
            "      dtype='object')\n"
          ]
        }
      ]
    },
    {
      "cell_type": "markdown",
      "source": [
        "\n",
        "\n",
        "#### Descripción de Variables del Dataset\n",
        "\n",
        "En este apartado, detallamos las variables incluidas en nuestro dataset, agrupándolas por categorías funcionales para facilitar la comprensión del análisis:\n",
        "\n",
        "##### Variables Generales\n",
        "- **Unnamed: 0**: Índice automático generado al leer el archivo CSV, generalmente eliminable.\n",
        "- **Rk**: Clasificación o rango del jugador.\n",
        "- **Player**: Nombre completo del jugador.\n",
        "- **Pos**: Posición del jugador en el campo.\n",
        "- **MP**: Número de partidos jugados.\n",
        "\n",
        "##### Tiempo de Juego y Participación\n",
        "- **Starts**: Número de partidos en los que el jugador fue titular.\n",
        "- **Min**: Minutos jugados en total.\n",
        "- **90s**: Número de partidos completos jugados, ajustados a 90 minutos.\n",
        "\n",
        "##### Rendimiento Ofensivo\n",
        "- **Gls**: Total de goles marcados.\n",
        "- **Ast**: Total de asistencias realizadas.\n",
        "- **NPG**: Goles marcados que no fueron de penal.\n",
        "- **PG**: Goles de penalti.\n",
        "- **PA_x**: Penales intentados.\n",
        "- **Gls/90**: Promedio de goles por 90 minutos jugados.\n",
        "- **Ast/90**: Promedio de asistencias por 90 minutos jugados.\n",
        "- **G+A/90**: Suma de goles y asistencias por 90 minutos jugados.\n",
        "\n",
        "##### Estadísticas Avanzadas de Juego\n",
        "- **xG**: Goles esperados según la calidad de las jugadas.\n",
        "- **npxG**: Goles no penales esperados.\n",
        "- **xA**: Asistencias esperadas.\n",
        "- **npxG+xA**: Suma de goles no penales esperados y asistencias esperadas.\n",
        "- **xG/90, xA/90, xG+xA/90**: Estadísticas de goles y asistencias esperados por 90 minutos.\n",
        "- **npxG/90, npxG+xA/90**: Estadísticas de goles no penales esperados por 90 minutos.\n",
        "\n",
        "##### Creación de Oportunidades\n",
        "- **SCA, SCA/90**: Acciones que crean oportunidades de tiro.\n",
        "- **SCPass, SCDeadPass, SCDrib**: Tipos de pases y regates que crean tiros.\n",
        "- **GCA, GCA/90**: Acciones que resultan en gol.\n",
        "- **GCPass, GCDeadPass, GCDrib**: Tipos de pases y regates que resultan en gol.\n",
        "\n",
        "##### Acciones Defensivas\n",
        "- **PossTkl, TklDef3rd, TklMid3rd, TklAtt3rd**: Entradas en diferentes áreas del campo.\n",
        "- **DriblTkl%, DriblledPast**: Efectividad y fallos en los regates.\n",
        "- **%SuccPress, PressDef3rd, PressMid3rd, PressAtt3rd**: Efectividad de las presiones en diferentes zonas.\n",
        "- **Blocks, ShotBlocks, Interception, Clearances, GoalErrors**: Estadísticas defensivas relacionadas con bloqueos, intercepciones y despejes.\n",
        "\n",
        "##### Distribución del Balón\n",
        "- **TCP, PA_y, TotDist, PrgDist**: Estadísticas de pases.\n",
        "- **TSPC, SPA, TMPC, MPA, TLPC, LPA**: Diferentes tipos de pases completados e intentados.\n",
        "- **KeyP, Pass18, Cross18, ProgPass**: Pases clave y en zonas críticas.\n",
        "- **Live, Dead, FKPass, PressPass, Cross**: Tipos de pases en diferentes contextos.\n",
        "\n",
        "##### Toques y Conducciones\n",
        "- **LeftP, RightP, Touches, Def3rdTouch, Mid3rdTouch, Att3rdTouch, AttPenTouch**: Distribución de toques y pases según la zona y la pierna utilizada.\n",
        "- **SuccDrib, AtmpDrib, Nutnegs, Carries**: Estadísticas de regates y conducciones.\n",
        "- **TotDistCarry, PrgDistCarry, CarryAtt3rd, Carry18Yd, CarryDIsp**: Conducciones y su efectividad en diferentes áreas del campo.\n",
        "\n",
        "\n",
        "\n"
      ],
      "metadata": {
        "id": "UrobIDbIww4Z"
      }
    },
    {
      "cell_type": "code",
      "source": [
        "# Verificar los tipos de datos de cada columna\n",
        "print(\"\\nTipos de datos de cada columna:\")\n",
        "print(data.dtypes)\n",
        "\n",
        "# Verificar si hay valores faltantes\n",
        "print(\"\\nValores faltantes por columna:\")\n",
        "print(data.isnull().sum())"
      ],
      "metadata": {
        "colab": {
          "base_uri": "https://localhost:8080/"
        },
        "id": "hyPmO10pzJGO",
        "outputId": "1855c0d5-7d60-4080-8117-d112de75893e"
      },
      "execution_count": null,
      "outputs": [
        {
          "output_type": "stream",
          "name": "stdout",
          "text": [
            "\n",
            "Tipos de datos de cada columna:\n",
            "Unnamed: 0       int64\n",
            "Rk               int64\n",
            "Player          object\n",
            "Pos             object\n",
            "MP               int64\n",
            "                 ...  \n",
            "TotDistCarry     int64\n",
            "PrgDistCarry     int64\n",
            "CarryAtt3rd      int64\n",
            "Carry18Yd        int64\n",
            "CarryDIsp        int64\n",
            "Length: 87, dtype: object\n",
            "\n",
            "Valores faltantes por columna:\n",
            "Unnamed: 0      0\n",
            "Rk              0\n",
            "Player          0\n",
            "Pos             0\n",
            "MP              0\n",
            "               ..\n",
            "TotDistCarry    0\n",
            "PrgDistCarry    0\n",
            "CarryAtt3rd     0\n",
            "Carry18Yd       0\n",
            "CarryDIsp       0\n",
            "Length: 87, dtype: int64\n"
          ]
        }
      ]
    },
    {
      "cell_type": "markdown",
      "source": [
        "### 2.3 Limpieza de los datos."
      ],
      "metadata": {
        "id": "sHSbIMvnh_Ix"
      }
    },
    {
      "cell_type": "markdown",
      "source": [
        "Vamos a eliminar la columna \"Unnamed: 0:\" ya que no aporta ninguna información al dataset"
      ],
      "metadata": {
        "id": "2cCrGzRN0Z6M"
      }
    },
    {
      "cell_type": "code",
      "source": [
        "import pandas as pd\n",
        "\n",
        "\n",
        "# Eliminar la primera columna (independientemente de su nombre)\n",
        "data = data.iloc[:, 1:]\n",
        "\n",
        "\n",
        "# Mostrar las primeras filas del DataFrame limpio\n",
        "print(\"\\nPrimeras filas del DataFrame limpio:\")\n",
        "print(data.head())\n"
      ],
      "metadata": {
        "colab": {
          "base_uri": "https://localhost:8080/"
        },
        "id": "EAUTDpmp0RmH",
        "outputId": "bbbebd2e-615d-481b-ceb7-cde4df4fe166"
      },
      "execution_count": null,
      "outputs": [
        {
          "output_type": "stream",
          "name": "stdout",
          "text": [
            "\n",
            "Primeras filas del DataFrame limpio:\n",
            "   Rk           Player Pos  MP  Starts   Min   90s  Gls  Ast  NPG  ...  \\\n",
            "0   1       Max Aarons  DF  18      18  1620  18.0    0    1    0  ...   \n",
            "1   2        Che Adams  FW  13      11   868   9.6    3    1    3  ...   \n",
            "2   3  Rayan Aït Nouri  DF   9       8   718   8.0    0    1    0  ...   \n",
            "3   4  Kristoffer Ajer  DF   7       6   565   6.3    0    0    0  ...   \n",
            "4   5       Nathan Aké  DF   8       6   581   6.5    1    0    1  ...   \n",
            "\n",
            "   AttPenTouch  SuccDrib  AtmpDrib  Nutnegs  Carries  TotDistCarry  \\\n",
            "0           16        25        53        4      647          3836   \n",
            "1           44         4        12        0      202           796   \n",
            "2           18        17        31        2      343          1681   \n",
            "3            9         4         6        0      126           774   \n",
            "4            3         0         2        0      402          2084   \n",
            "\n",
            "   PrgDistCarry  CarryAtt3rd  Carry18Yd  CarryDIsp  \n",
            "0          2370           34          7         20  \n",
            "1           369            6          3         20  \n",
            "2          1100            8          7         17  \n",
            "3           452            5          0          2  \n",
            "4          1406            9          0          1  \n",
            "\n",
            "[5 rows x 86 columns]\n"
          ]
        }
      ]
    },
    {
      "cell_type": "markdown",
      "source": [
        "Vamos a ver cuantos partidos ha jugado cada jugador"
      ],
      "metadata": {
        "id": "XZq7CQ6K05Oa"
      }
    },
    {
      "cell_type": "code",
      "source": [
        "\n",
        "import matplotlib.pyplot as plt\n",
        "import seaborn as sns\n",
        "# Graficar la frecuencia de partidos jugados (MP)\n",
        "plt.figure(figsize=(10,5))\n",
        "sns.histplot(data, x='MP', kde=True, binwidth=1)\n",
        "plt.title('Frecuencia de Partidos Jugados', size=15)\n",
        "plt.xlabel('Partidos Jugados', size=15)\n",
        "plt.ylabel('Frecuencia', size=15)\n",
        "plt.show()"
      ],
      "metadata": {
        "colab": {
          "base_uri": "https://localhost:8080/",
          "height": 495
        },
        "id": "27o_sIXt07y7",
        "outputId": "9747d973-3e57-4042-d5ee-2d7244fb8175"
      },
      "execution_count": null,
      "outputs": [
        {
          "output_type": "display_data",
          "data": {
            "text/plain": [
              "<Figure size 1000x500 with 1 Axes>"
            ],
            "image/png": "[encoded data removed]"
          },
          "metadata": {}
        }
      ]
    },
    {
      "cell_type": "markdown",
      "source": [
        "Hemos observado que el jugador con más partidos ha participado en 20 encuentros, lo que nos indica que estas estadísticas corresponden hasta la jornada vigésima de la temporada 2021-2022 de la Premier League.\n",
        "\n",
        "Para simplificar nuestro análisis y centrarnos en jugadores con suficiente tiempo de juego, vamos a proceder a eliminar del dataset a aquellos jugadores que hayan participado en menos de 5 partidos. Además, para mantener la consistencia numérica en nuestras variables, cambiaremos los valores `NULL` por `0`. Este ajuste nos permitirá realizar cálculos estadísticos sin inconvenientes de interpretación o errores técnicos.\n"
      ],
      "metadata": {
        "id": "85GYHI1P1IXa"
      }
    },
    {
      "cell_type": "code",
      "source": [
        "# Mostrar las primeras 5 filas que contienen valores faltantes\n",
        "data[data.isna().any(axis=1)].head(5)"
      ],
      "metadata": {
        "colab": {
          "base_uri": "https://localhost:8080/",
          "height": 342
        },
        "id": "A-YwW1iX1SFU",
        "outputId": "27509c8f-9e6c-448f-8328-df0bcba3dbef"
      },
      "execution_count": null,
      "outputs": [
        {
          "output_type": "execute_result",
          "data": {
            "text/plain": [
              "    Rk             Player    Pos  MP  Starts  Min   90s  Gls  Ast  NPG  ...  \\\n",
              "17  18     Cameron Archer  MF,FW   3       0   27   0.3    0    0    0  ...   \n",
              "20  21  Kepa Arrizabalaga     GK   1       1   90   1.0    0    0    0  ...   \n",
              "21  22     Harrison Ashby     DF   1       0    7   0.1    0    0    0  ...   \n",
              "26  27    Daniel Bachmann     GK  10      10  900  10.0    0    0    0  ...   \n",
              "29  30    Folarin Balogun     FW   2       1   70   0.8    0    0    0  ...   \n",
              "\n",
              "    AttPenTouch  SuccDrib  AtmpDrib  Nutnegs  Carries  TotDistCarry  \\\n",
              "17            3         1         2        0        7            15   \n",
              "20            0         0         0        0       20            65   \n",
              "21            0         0         0        0        4            21   \n",
              "26            0         1         1        0      153           840   \n",
              "29            6         0         2        0       16            50   \n",
              "\n",
              "    PrgDistCarry  CarryAtt3rd  Carry18Yd  CarryDIsp  \n",
              "17             0            0          0          1  \n",
              "20            29            0          0          0  \n",
              "21             5            0          0          0  \n",
              "26           540            0          0          0  \n",
              "29            16            0          1          2  \n",
              "\n",
              "[5 rows x 86 columns]"
            ],
            "text/html": [
              "\n",
              "  <div id=\"df-e877db99-a809-4f04-9572-d3cd2116a75e\" class=\"colab-df-container\">\n",
              "    <div>\n",
              "<style scoped>\n",
              "    .dataframe tbody tr th:only-of-type {\n",
              "        vertical-align: middle;\n",
              "    }\n",
              "\n",
              "    .dataframe tbody tr th {\n",
              "        vertical-align: top;\n",
              "    }\n",
              "\n",
              "    .dataframe thead th {\n",
              "        text-align: right;\n",
              "    }\n",
              "</style>\n",
              "<table border=\"1\" class=\"dataframe\">\n",
              "  <thead>\n",
              "    <tr style=\"text-align: right;\">\n",
              "      <th></th>\n",
              "      <th>Rk</th>\n",
              "      <th>Player</th>\n",
              "      <th>Pos</th>\n",
              "      <th>MP</th>\n",
              "      <th>Starts</th>\n",
              "      <th>Min</th>\n",
              "      <th>90s</th>\n",
              "      <th>Gls</th>\n",
              "      <th>Ast</th>\n",
              "      <th>NPG</th>\n",
              "      <th>...</th>\n",
              "      <th>AttPenTouch</th>\n",
              "      <th>SuccDrib</th>\n",
              "      <th>AtmpDrib</th>\n",
              "      <th>Nutnegs</th>\n",
              "      <th>Carries</th>\n",
              "      <th>TotDistCarry</th>\n",
              "      <th>PrgDistCarry</th>\n",
              "      <th>CarryAtt3rd</th>\n",
              "      <th>Carry18Yd</th>\n",
              "      <th>CarryDIsp</th>\n",
              "    </tr>\n",
              "  </thead>\n",
              "  <tbody>\n",
              "    <tr>\n",
              "      <th>17</th>\n",
              "      <td>18</td>\n",
              "      <td>Cameron Archer</td>\n",
              "      <td>MF,FW</td>\n",
              "      <td>3</td>\n",
              "      <td>0</td>\n",
              "      <td>27</td>\n",
              "      <td>0.3</td>\n",
              "      <td>0</td>\n",
              "      <td>0</td>\n",
              "      <td>0</td>\n",
              "      <td>...</td>\n",
              "      <td>3</td>\n",
              "      <td>1</td>\n",
              "      <td>2</td>\n",
              "      <td>0</td>\n",
              "      <td>7</td>\n",
              "      <td>15</td>\n",
              "      <td>0</td>\n",
              "      <td>0</td>\n",
              "      <td>0</td>\n",
              "      <td>1</td>\n",
              "    </tr>\n",
              "    <tr>\n",
              "      <th>20</th>\n",
              "      <td>21</td>\n",
              "      <td>Kepa Arrizabalaga</td>\n",
              "      <td>GK</td>\n",
              "      <td>1</td>\n",
              "      <td>1</td>\n",
              "      <td>90</td>\n",
              "      <td>1.0</td>\n",
              "      <td>0</td>\n",
              "      <td>0</td>\n",
              "      <td>0</td>\n",
              "      <td>...</td>\n",
              "      <td>0</td>\n",
              "      <td>0</td>\n",
              "      <td>0</td>\n",
              "      <td>0</td>\n",
              "      <td>20</td>\n",
              "      <td>65</td>\n",
              "      <td>29</td>\n",
              "      <td>0</td>\n",
              "      <td>0</td>\n",
              "      <td>0</td>\n",
              "    </tr>\n",
              "    <tr>\n",
              "      <th>21</th>\n",
              "      <td>22</td>\n",
              "      <td>Harrison Ashby</td>\n",
              "      <td>DF</td>\n",
              "      <td>1</td>\n",
              "      <td>0</td>\n",
              "      <td>7</td>\n",
              "      <td>0.1</td>\n",
              "      <td>0</td>\n",
              "      <td>0</td>\n",
              "      <td>0</td>\n",
              "      <td>...</td>\n",
              "      <td>0</td>\n",
              "      <td>0</td>\n",
              "      <td>0</td>\n",
              "      <td>0</td>\n",
              "      <td>4</td>\n",
              "      <td>21</td>\n",
              "      <td>5</td>\n",
              "      <td>0</td>\n",
              "      <td>0</td>\n",
              "      <td>0</td>\n",
              "    </tr>\n",
              "    <tr>\n",
              "      <th>26</th>\n",
              "      <td>27</td>\n",
              "      <td>Daniel Bachmann</td>\n",
              "      <td>GK</td>\n",
              "      <td>10</td>\n",
              "      <td>10</td>\n",
              "      <td>900</td>\n",
              "      <td>10.0</td>\n",
              "      <td>0</td>\n",
              "      <td>0</td>\n",
              "      <td>0</td>\n",
              "      <td>...</td>\n",
              "      <td>0</td>\n",
              "      <td>1</td>\n",
              "      <td>1</td>\n",
              "      <td>0</td>\n",
              "      <td>153</td>\n",
              "      <td>840</td>\n",
              "      <td>540</td>\n",
              "      <td>0</td>\n",
              "      <td>0</td>\n",
              "      <td>0</td>\n",
              "    </tr>\n",
              "    <tr>\n",
              "      <th>29</th>\n",
              "      <td>30</td>\n",
              "      <td>Folarin Balogun</td>\n",
              "      <td>FW</td>\n",
              "      <td>2</td>\n",
              "      <td>1</td>\n",
              "      <td>70</td>\n",
              "      <td>0.8</td>\n",
              "      <td>0</td>\n",
              "      <td>0</td>\n",
              "      <td>0</td>\n",
              "      <td>...</td>\n",
              "      <td>6</td>\n",
              "      <td>0</td>\n",
              "      <td>2</td>\n",
              "      <td>0</td>\n",
              "      <td>16</td>\n",
              "      <td>50</td>\n",
              "      <td>16</td>\n",
              "      <td>0</td>\n",
              "      <td>1</td>\n",
              "      <td>2</td>\n",
              "    </tr>\n",
              "  </tbody>\n",
              "</table>\n",
              "<p>5 rows × 86 columns</p>\n",
              "</div>\n",
              "    <div class=\"colab-df-buttons\">\n",
              "\n",
              "  <div class=\"colab-df-container\">\n",
              "    <button class=\"colab-df-convert\" onclick=\"convertToInteractive('df-e877db99-a809-4f04-9572-d3cd2116a75e')\"\n",
              "            title=\"Convert this dataframe to an interactive table.\"\n",
              "            style=\"display:none;\">\n",
              "\n",
              "  <svg xmlns=\"http://www.w3.org/2000/svg\" height=\"24px\" viewBox=\"0 -960 960 960\">\n",
              "    <path d=\"M120-120v-720h720v720H120Zm60-500h600v-160H180v160Zm220 220h160v-160H400v160Zm0 220h160v-160H400v160ZM180-400h160v-160H180v160Zm440 0h160v-160H620v160ZM180-180h160v-160H180v160Zm440 0h160v-160H620v160Z\"/>\n",
              "  </svg>\n",
              "    </button>\n",
              "\n",
              "  <style>\n",
              "    .colab-df-container {\n",
              "      display:flex;\n",
              "      gap: 12px;\n",
              "    }\n",
              "\n",
              "    .colab-df-convert {\n",
              "      background-color: #E8F0FE;\n",
              "      border: none;\n",
              "      border-radius: 50%;\n",
              "      cursor: pointer;\n",
              "      display: none;\n",
              "      fill: #1967D2;\n",
              "      height: 32px;\n",
              "      padding: 0 0 0 0;\n",
              "      width: 32px;\n",
              "    }\n",
              "\n",
              "    .colab-df-convert:hover {\n",
              "      background-color: #E2EBFA;\n",
              "      box-shadow: 0px 1px 2px rgba(60, 64, 67, 0.3), 0px 1px 3px 1px rgba(60, 64, 67, 0.15);\n",
              "      fill: #174EA6;\n",
              "    }\n",
              "\n",
              "    .colab-df-buttons div {\n",
              "      margin-bottom: 4px;\n",
              "    }\n",
              "\n",
              "    [theme=dark] .colab-df-convert {\n",
              "      background-color: #3B4455;\n",
              "      fill: #D2E3FC;\n",
              "    }\n",
              "\n",
              "    [theme=dark] .colab-df-convert:hover {\n",
              "      background-color: #434B5C;\n",
              "      box-shadow: 0px 1px 3px 1px rgba(0, 0, 0, 0.15);\n",
              "      filter: drop-shadow(0px 1px 2px rgba(0, 0, 0, 0.3));\n",
              "      fill: #FFFFFF;\n",
              "    }\n",
              "  </style>\n",
              "\n",
              "    <script>\n",
              "      const buttonEl =\n",
              "        document.querySelector('#df-e877db99-a809-4f04-9572-d3cd2116a75e button.colab-df-convert');\n",
              "      buttonEl.style.display =\n",
              "        google.colab.kernel.accessAllowed ? 'block' : 'none';\n",
              "\n",
              "      async function convertToInteractive(key) {\n",
              "        const element = document.querySelector('#df-e877db99-a809-4f04-9572-d3cd2116a75e');\n",
              "        const dataTable =\n",
              "          await google.colab.kernel.invokeFunction('convertToInteractive',\n",
              "                                                    [key], {});\n",
              "        if (!dataTable) return;\n",
              "\n",
              "        const docLinkHtml = 'Like what you see? Visit the ' +\n",
              "          '<a target=\"_blank\" href=https://colab.research.google.com/notebooks/data_table.ipynb>data table notebook</a>'\n",
              "          + ' to learn more about interactive tables.';\n",
              "        element.innerHTML = '';\n",
              "        dataTable['output_type'] = 'display_data';\n",
              "        await google.colab.output.renderOutput(dataTable, element);\n",
              "        const docLink = document.createElement('div');\n",
              "        docLink.innerHTML = docLinkHtml;\n",
              "        element.appendChild(docLink);\n",
              "      }\n",
              "    </script>\n",
              "  </div>\n",
              "\n",
              "\n",
              "<div id=\"df-04f27d72-01bd-4f5e-b19f-39b7ce56c05f\">\n",
              "  <button class=\"colab-df-quickchart\" onclick=\"quickchart('df-04f27d72-01bd-4f5e-b19f-39b7ce56c05f')\"\n",
              "            title=\"Suggest charts\"\n",
              "            style=\"display:none;\">\n",
              "\n",
              "<svg xmlns=\"http://www.w3.org/2000/svg\" height=\"24px\"viewBox=\"0 0 24 24\"\n",
              "     width=\"24px\">\n",
              "    <g>\n",
              "        <path d=\"M19 3H5c-1.1 0-2 .9-2 2v14c0 1.1.9 2 2 2h14c1.1 0 2-.9 2-2V5c0-1.1-.9-2-2-2zM9 17H7v-7h2v7zm4 0h-2V7h2v10zm4 0h-2v-4h2v4z\"/>\n",
              "    </g>\n",
              "</svg>\n",
              "  </button>\n",
              "\n",
              "<style>\n",
              "  .colab-df-quickchart {\n",
              "      --bg-color: #E8F0FE;\n",
              "      --fill-color: #1967D2;\n",
              "      --hover-bg-color: #E2EBFA;\n",
              "      --hover-fill-color: #174EA6;\n",
              "      --disabled-fill-color: #AAA;\n",
              "      --disabled-bg-color: #DDD;\n",
              "  }\n",
              "\n",
              "  [theme=dark] .colab-df-quickchart {\n",
              "      --bg-color: #3B4455;\n",
              "      --fill-color: #D2E3FC;\n",
              "      --hover-bg-color: #434B5C;\n",
              "      --hover-fill-color: #FFFFFF;\n",
              "      --disabled-bg-color: #3B4455;\n",
              "      --disabled-fill-color: #666;\n",
              "  }\n",
              "\n",
              "  .colab-df-quickchart {\n",
              "    background-color: var(--bg-color);\n",
              "    border: none;\n",
              "    border-radius: 50%;\n",
              "    cursor: pointer;\n",
              "    display: none;\n",
              "    fill: var(--fill-color);\n",
              "    height: 32px;\n",
              "    padding: 0;\n",
              "    width: 32px;\n",
              "  }\n",
              "\n",
              "  .colab-df-quickchart:hover {\n",
              "    background-color: var(--hover-bg-color);\n",
              "    box-shadow: 0 1px 2px rgba(60, 64, 67, 0.3), 0 1px 3px 1px rgba(60, 64, 67, 0.15);\n",
              "    fill: var(--button-hover-fill-color);\n",
              "  }\n",
              "\n",
              "  .colab-df-quickchart-complete:disabled,\n",
              "  .colab-df-quickchart-complete:disabled:hover {\n",
              "    background-color: var(--disabled-bg-color);\n",
              "    fill: var(--disabled-fill-color);\n",
              "    box-shadow: none;\n",
              "  }\n",
              "\n",
              "  .colab-df-spinner {\n",
              "    border: 2px solid var(--fill-color);\n",
              "    border-color: transparent;\n",
              "    border-bottom-color: var(--fill-color);\n",
              "    animation:\n",
              "      spin 1s steps(1) infinite;\n",
              "  }\n",
              "\n",
              "  @keyframes spin {\n",
              "    0% {\n",
              "      border-color: transparent;\n",
              "      border-bottom-color: var(--fill-color);\n",
              "      border-left-color: var(--fill-color);\n",
              "    }\n",
              "    20% {\n",
              "      border-color: transparent;\n",
              "      border-left-color: var(--fill-color);\n",
              "      border-top-color: var(--fill-color);\n",
              "    }\n",
              "    30% {\n",
              "      border-color: transparent;\n",
              "      border-left-color: var(--fill-color);\n",
              "      border-top-color: var(--fill-color);\n",
              "      border-right-color: var(--fill-color);\n",
              "    }\n",
              "    40% {\n",
              "      border-color: transparent;\n",
              "      border-right-color: var(--fill-color);\n",
              "      border-top-color: var(--fill-color);\n",
              "    }\n",
              "    60% {\n",
              "      border-color: transparent;\n",
              "      border-right-color: var(--fill-color);\n",
              "    }\n",
              "    80% {\n",
              "      border-color: transparent;\n",
              "      border-right-color: var(--fill-color);\n",
              "      border-bottom-color: var(--fill-color);\n",
              "    }\n",
              "    90% {\n",
              "      border-color: transparent;\n",
              "      border-bottom-color: var(--fill-color);\n",
              "    }\n",
              "  }\n",
              "</style>\n",
              "\n",
              "  <script>\n",
              "    async function quickchart(key) {\n",
              "      const quickchartButtonEl =\n",
              "        document.querySelector('#' + key + ' button');\n",
              "      quickchartButtonEl.disabled = true;  // To prevent multiple clicks.\n",
              "      quickchartButtonEl.classList.add('colab-df-spinner');\n",
              "      try {\n",
              "        const charts = await google.colab.kernel.invokeFunction(\n",
              "            'suggestCharts', [key], {});\n",
              "      } catch (error) {\n",
              "        console.error('Error during call to suggestCharts:', error);\n",
              "      }\n",
              "      quickchartButtonEl.classList.remove('colab-df-spinner');\n",
              "      quickchartButtonEl.classList.add('colab-df-quickchart-complete');\n",
              "    }\n",
              "    (() => {\n",
              "      let quickchartButtonEl =\n",
              "        document.querySelector('#df-04f27d72-01bd-4f5e-b19f-39b7ce56c05f button');\n",
              "      quickchartButtonEl.style.display =\n",
              "        google.colab.kernel.accessAllowed ? 'block' : 'none';\n",
              "    })();\n",
              "  </script>\n",
              "</div>\n",
              "    </div>\n",
              "  </div>\n"
            ],
            "application/vnd.google.colaboratory.intrinsic+json": {
              "type": "dataframe"
            }
          },
          "metadata": {},
          "execution_count": 36
        }
      ]
    },
    {
      "cell_type": "markdown",
      "source": [
        "Tras revisar nuestro dataset, hemos confirmado que está limpio y listo para un análisis más detallado. Como parte de nuestra metodología, eliminaremos a los jugadores que hayan participado en menos de 5 partidos, dado que su contribución no es significativa para el alcance de nuestro estudio.\n",
        "\n",
        "Además, procederemos a eliminar la columna \"Posición\" del dataset. En su lugar, crearemos dos nuevas columnas: \"Primary_Pos\" y \"Secondary_Pos\". Esta modificación nos permitirá reflejar con mayor precisión la versatilidad de ciertos jugadores, como por ejemplo Kyle Walker, quien puede desempeñarse tanto en la posición de defensa central como en la de lateral derecho. Este ajuste es crucial para analizar las dinámicas modernas del fútbol, donde la flexibilidad posicional es cada vez más relevante, como ya se ha comentado en la introducción.\n",
        "\n"
      ],
      "metadata": {
        "id": "9SX_DgOJ11aU"
      }
    },
    {
      "cell_type": "code",
      "source": [
        "# Filtrar jugadores que han jugado más de 5 partidos\n",
        "data = data[data['MP'] > 5]\n",
        "\n",
        "# Separar posición primaria y secundaria\n",
        "data['Primary_pos'] = data['Pos'].str.split(',').str[0]\n",
        "data['Secondary_pos'] = data['Pos'].str.split(',').str[1]\n",
        "\n",
        "# Rellenar valores faltantes en 'Secondary_pos' con 'NA'\n",
        "data['Secondary_pos'] = data['Secondary_pos'].fillna('NA')\n",
        "\n",
        "# Eliminar la columna original 'Pos'\n",
        "data.drop(columns=['Pos'], inplace=True)\n",
        "\n",
        "# Rellenar valores faltantes en todo el DataFrame con 0\n",
        "data = data.fillna(0)\n",
        "\n",
        "# Mostrar las primeras filas del DataFrame limpio\n",
        "print(data.head())"
      ],
      "metadata": {
        "colab": {
          "base_uri": "https://localhost:8080/"
        },
        "id": "OFF33y-R19Kn",
        "outputId": "92583d07-1a03-4f6c-de6d-87ce8aa0ae21"
      },
      "execution_count": null,
      "outputs": [
        {
          "output_type": "stream",
          "name": "stdout",
          "text": [
            "   Rk           Player  MP  Starts   Min   90s  Gls  Ast  NPG  PG  ...  \\\n",
            "0   1       Max Aarons  18      18  1620  18.0    0    1    0   0  ...   \n",
            "1   2        Che Adams  13      11   868   9.6    3    1    3   0  ...   \n",
            "2   3  Rayan Aït Nouri   9       8   718   8.0    0    1    0   0  ...   \n",
            "3   4  Kristoffer Ajer   7       6   565   6.3    0    0    0   0  ...   \n",
            "4   5       Nathan Aké   8       6   581   6.5    1    0    1   0  ...   \n",
            "\n",
            "   AtmpDrib  Nutnegs  Carries  TotDistCarry  PrgDistCarry  CarryAtt3rd  \\\n",
            "0        53        4      647          3836          2370           34   \n",
            "1        12        0      202           796           369            6   \n",
            "2        31        2      343          1681          1100            8   \n",
            "3         6        0      126           774           452            5   \n",
            "4         2        0      402          2084          1406            9   \n",
            "\n",
            "   Carry18Yd  CarryDIsp  Primary_pos  Secondary_pos  \n",
            "0          7         20           DF             NA  \n",
            "1          3         20           FW             NA  \n",
            "2          7         17           DF             NA  \n",
            "3          0          2           DF             NA  \n",
            "4          0          1           DF             NA  \n",
            "\n",
            "[5 rows x 87 columns]\n"
          ]
        },
        {
          "output_type": "stream",
          "name": "stderr",
          "text": [
            "<ipython-input-37-02600cea904e>:5: SettingWithCopyWarning: \n",
            "A value is trying to be set on a copy of a slice from a DataFrame.\n",
            "Try using .loc[row_indexer,col_indexer] = value instead\n",
            "\n",
            "See the caveats in the documentation: https://pandas.pydata.org/pandas-docs/stable/user_guide/indexing.html#returning-a-view-versus-a-copy\n",
            "  data['Primary_pos'] = data['Pos'].str.split(',').str[0]\n",
            "<ipython-input-37-02600cea904e>:6: SettingWithCopyWarning: \n",
            "A value is trying to be set on a copy of a slice from a DataFrame.\n",
            "Try using .loc[row_indexer,col_indexer] = value instead\n",
            "\n",
            "See the caveats in the documentation: https://pandas.pydata.org/pandas-docs/stable/user_guide/indexing.html#returning-a-view-versus-a-copy\n",
            "  data['Secondary_pos'] = data['Pos'].str.split(',').str[1]\n",
            "<ipython-input-37-02600cea904e>:9: SettingWithCopyWarning: \n",
            "A value is trying to be set on a copy of a slice from a DataFrame.\n",
            "Try using .loc[row_indexer,col_indexer] = value instead\n",
            "\n",
            "See the caveats in the documentation: https://pandas.pydata.org/pandas-docs/stable/user_guide/indexing.html#returning-a-view-versus-a-copy\n",
            "  data['Secondary_pos'] = data['Secondary_pos'].fillna('NA')\n",
            "<ipython-input-37-02600cea904e>:12: SettingWithCopyWarning: \n",
            "A value is trying to be set on a copy of a slice from a DataFrame\n",
            "\n",
            "See the caveats in the documentation: https://pandas.pydata.org/pandas-docs/stable/user_guide/indexing.html#returning-a-view-versus-a-copy\n",
            "  data.drop(columns=['Pos'], inplace=True)\n"
          ]
        }
      ]
    },
    {
      "cell_type": "markdown",
      "source": [
        "## 3 Análisis exploratorio de los datos (EDA)"
      ],
      "metadata": {
        "id": "CXfodKqDlL96"
      }
    },
    {
      "cell_type": "markdown",
      "source": [
        "Primero identificaremos qué jugadores en nuestro dataset desempeñan más de una posición, para ello, procederemos de la siguiente manera:\n",
        "\n"
      ],
      "metadata": {
        "id": "uM5OClGZ2kcY"
      }
    },
    {
      "cell_type": "code",
      "source": [
        "# Filtrar jugadores con más de una posición\n",
        "multi_position_players = data[data['Secondary_pos'] != 'NA']\n",
        "\n",
        "# Mostrar todos los jugadores con más de una posición\n",
        "print(multi_position_players)"
      ],
      "metadata": {
        "colab": {
          "base_uri": "https://localhost:8080/"
        },
        "id": "5__KgZvZ2rQ3",
        "outputId": "fd8b7c90-eba7-46c3-e130-110f3d7d8a7b"
      },
      "execution_count": null,
      "outputs": [
        {
          "output_type": "stream",
          "name": "stdout",
          "text": [
            "      Rk             Player  MP  Starts   Min   90s  Gls  Ast  NPG  PG  ...  \\\n",
            "5      6    Marc Albrighton   8       4   430   4.8    1    0    1   0  ...   \n",
            "10    11          Dele Alli  10       8   657   7.3    1    0    0   1  ...   \n",
            "18    19     Adam Armstrong  16      14  1171  13.0    2    2    2   0  ...   \n",
            "27    28        Leon Bailey   9       4   424   4.7    1    2    1   0  ...   \n",
            "34    35      Harvey Barnes  14      13  1025  11.4    2    2    2   0  ...   \n",
            "..   ...                ...  ..     ...   ...   ...  ...  ...  ...  ..  ...   \n",
            "514  453      Nikola Vlašić   9       2   221   2.5    1    0    1   0  ...   \n",
            "524  463      Danny Welbeck   6       3   295   3.3    2    0    2   0  ...   \n",
            "537  476  Andriy Yarmolenko   9       0    70   0.8    0    0    0   0  ...   \n",
            "538  477       Ashley Young  12       7   733   8.1    0    2    0   0  ...   \n",
            "541  480       Hakim Ziyech  10       6   550   6.1    1    2    1   0  ...   \n",
            "\n",
            "     AtmpDrib  Nutnegs  Carries  TotDistCarry  PrgDistCarry  CarryAtt3rd  \\\n",
            "5          18        1      124           503           186            3   \n",
            "10         18        2      213           908           446            6   \n",
            "18         29        1      265          1527           847           15   \n",
            "27         17        1      153           927           473            3   \n",
            "34         42        1      399          2489          1652           29   \n",
            "..        ...      ...      ...           ...           ...          ...   \n",
            "514         5        1       95           561           311            6   \n",
            "524         8        0       67           295           178            1   \n",
            "537         4        0       37           248           154            2   \n",
            "538         8        1      219          1052           681            8   \n",
            "541        24        3      292          1314           612           13   \n",
            "\n",
            "     Carry18Yd  CarryDIsp  Primary_pos  Secondary_pos  \n",
            "5            2          7           DF             FW  \n",
            "10           0         18           MF             FW  \n",
            "18          14         20           FW             MF  \n",
            "27           6         18           FW             MF  \n",
            "34          21         30           FW             MF  \n",
            "..         ...        ...          ...            ...  \n",
            "514          3          6           FW             MF  \n",
            "524          4         12           FW             MF  \n",
            "537          3          2           FW             MF  \n",
            "538          3          5           FW             DF  \n",
            "541          9         14           FW             MF  \n",
            "\n",
            "[122 rows x 87 columns]\n"
          ]
        }
      ]
    },
    {
      "cell_type": "code",
      "source": [
        "data['Performance_Index'] = data['Gls'] + data['Ast'] + 0.5 * (data['SCA'] + data['GCA'])\n",
        "top_players = data.sort_values(by='Performance_Index', ascending=False).head(10)\n",
        "print(top_players[['Player', 'Performance_Index']])\n"
      ],
      "metadata": {
        "colab": {
          "base_uri": "https://localhost:8080/"
        },
        "id": "KVRH7dHYNoVy",
        "outputId": "a3584c12-cef2-4ae6-ba81-9481afd88d6b"
      },
      "execution_count": null,
      "outputs": [
        {
          "output_type": "stream",
          "name": "stdout",
          "text": [
            "                     Player  Performance_Index\n",
            "439           Mohamed Salah               75.0\n",
            "7    Trent Alexander-Arnold               62.0\n",
            "16          Michail Antonio               52.0\n",
            "46             Jarrod Bowen               51.0\n",
            "460          Bernardo Silva               51.0\n",
            "147         Conor Gallagher               49.0\n",
            "131         Bruno Fernandes               47.5\n",
            "438             Bukayo Saka               47.0\n",
            "183           Son Heung-min               43.0\n",
            "362             Mason Mount               43.0\n"
          ]
        }
      ]
    },
    {
      "cell_type": "markdown",
      "source": [
        "Mohamed Salah lidera la lista con un índice de rendimiento de 75.0, lo cual es considerablemente alto comparado con otros jugadores. Esto sugiere que Salah no solo ha marcado muchos goles y dado asistencias, sino que también ha estado involucrado en una gran cantidad de acciones que crearon oportunidades de gol. Esto refleja su rol crítico en el ataque de su equipo.\n",
        "\n",
        "Trent Alexander-Arnold sigue con un índice de 62.0. Siendo un defensor, tener un índice tan alto indica su fuerte contribución ofensiva, probablemente a través de asistencias y acciones de creación de juego, lo cual es típico en su estilo de juego conocido por excelentes cruzamientos y pases.\n",
        "\n",
        "Michail Antonio y Jarrod Bowen también muestran altos índices, lo que indica su importancia en las acciones ofensivas para sus respectivos equipos. Esto puede sugerir que están involucrados no solo en marcar y asistir sino también en construir jugadas.\n",
        "\n",
        "La lista incluye una mezcla de delanteros, mediocampistas, y defensores, lo que demuestra que el índice de rendimiento es un buen indicador de contribución ofensiva, sin importar la posición tradicional.\n",
        "\n",
        "Los valores del índice reflejan no solo los logros individuales en términos de estadísticas como goles y asistencias, sino también el impacto general en la creación de jugadas ofensivas.\n",
        "\n",
        "Vemos ahora los goles de cada uno."
      ],
      "metadata": {
        "id": "u_9CUB0xGxF7"
      }
    },
    {
      "cell_type": "code",
      "source": [
        "top_goals = data.sort_values(by='Gls', ascending=False).head(10)\n",
        "top_assists = data.sort_values(by='Ast', ascending=False).head(10)\n",
        "print(\"Top goal scorers:\")\n",
        "print(top_goals[['Player', 'Gls']])\n",
        "print(\"\\nTop assist providers:\")\n",
        "print(top_assists[['Player', 'Ast']])\n"
      ],
      "metadata": {
        "colab": {
          "base_uri": "https://localhost:8080/"
        },
        "id": "P7BqTOmHTjiQ",
        "outputId": "e0e137d0-25ae-4b55-b439-cd7fe82d3c98"
      },
      "execution_count": null,
      "outputs": [
        {
          "output_type": "stream",
          "name": "stdout",
          "text": [
            "Top goal scorers:\n",
            "                   Player  Gls\n",
            "439         Mohamed Salah   16\n",
            "269            Diogo Jota   10\n",
            "511           Jamie Vardy    9\n",
            "429     Cristiano Ronaldo    8\n",
            "324            Sadio Mané    8\n",
            "16        Michail Antonio    8\n",
            "101  Raphael Dias Belloli    8\n",
            "467      Emile Smith Rowe    8\n",
            "183         Son Heung-min    8\n",
            "98        Emmanuel Dennis    8\n",
            "\n",
            "Top assist providers:\n",
            "                     Player  Ast\n",
            "439           Mohamed Salah    9\n",
            "7    Trent Alexander-Arnold    9\n",
            "46             Jarrod Bowen    7\n",
            "401              Paul Pogba    7\n",
            "262           Gabriel Jesus    7\n",
            "98          Emmanuel Dennis    5\n",
            "16          Michail Antonio    5\n",
            "258             Reece James    5\n",
            "288           Mateo Kovačić    5\n",
            "421        Andrew Robertson    5\n"
          ]
        }
      ]
    },
    {
      "cell_type": "markdown",
      "source": [
        "Mohamed Salah encabeza la lista con 16 goles, destacándose no solo como el máximo goleador sino también apareciendo en la lista de máximos asistentes. Esto subraya su rol como una fuerza ofensiva completa, siendo crucial tanto en la finalización como en la creación de jugadas.\n",
        "\n",
        "Diogo Jota sigue con 10 goles, lo que indica su importancia creciente como delantero en su equipo, especialmente considerando su capacidad para aprovechar las oportunidades en la ausencia de otros delanteros principales.\n",
        "\n",
        "Mohamed Salah y Trent Alexander-Arnold comparten el primer lugar con 9 asistencias cada uno. La presencia de Alexander-Arnold aquí resalta su habilidad excepcional en cruzamientos y balones parados, esencial para la estrategia ofensiva de su equipo.\n",
        "\n",
        "Jarrod Bowen y Paul Pogba con 7 asistencias cada uno, muestran su habilidad para configurar goles, subrayando su visión y precisión en el pase."
      ],
      "metadata": {
        "id": "c03mjH1xHM-E"
      }
    },
    {
      "cell_type": "code",
      "source": [
        "# Calculando el índice de rendimiento ofensivo y defensivo\n",
        "data['Offensive_Score'] = data['Gls'] + data['Ast']\n",
        "data['Defensive_Score'] = data['TklDef3rd'] + data['Interception']\n",
        "\n",
        "# Calculando los cuantiles\n",
        "offensive_quantile = data['Offensive_Score'].quantile(0.75)\n",
        "defensive_quantile = data['Defensive_Score'].quantile(0.75)\n",
        "\n",
        "# Filtrando jugadores que están en el cuartil superior tanto ofensivamente como defensivamente\n",
        "top_both = data[(data['Offensive_Score'] > offensive_quantile) & (data['Defensive_Score'] > defensive_quantile)]\n",
        "\n",
        "print(top_both[['Player', 'Gls', 'Ast', 'TklDef3rd', 'Interception']])\n"
      ],
      "metadata": {
        "colab": {
          "base_uri": "https://localhost:8080/"
        },
        "id": "cr56gizxTqLV",
        "outputId": "16ac3b12-9588-4cf8-fecf-eeb0bf4b5c53"
      },
      "execution_count": null,
      "outputs": [
        {
          "output_type": "stream",
          "name": "stdout",
          "text": [
            "                     Player  Gls  Ast  TklDef3rd  Interception\n",
            "7    Trent Alexander-Arnold    2    9         12            48\n",
            "57             João Cancelo    1    4         17            44\n",
            "58              Sergi Canós    2    2         23            20\n",
            "101    Raphael Dias Belloli    8    1         17            26\n",
            "102              Rúben Dias    2    2         10            27\n",
            "111      Abdoulaye Doucouré    2    4         12            24\n",
            "139           Pablo Fornals    4    2         12            23\n",
            "147         Conor Gallagher    6    3         25            18\n",
            "268                Jorginho    6    1         20            31\n",
            "344             John McGinn    3    2         14            23\n",
            "413         Sergio Reguilón    1    3         13            35\n",
            "414             Declan Rice    1    4         25            55\n",
            "469            Tomáš Souček    3    1         20            27\n",
            "498         Andros Townsend    3    2         15            20\n",
            "521       James Ward-Prowse    5    1         10            26\n"
          ]
        }
      ]
    },
    {
      "cell_type": "markdown",
      "source": [
        "Trent Alexander-Arnold y João Cancelo destacan notoriamente, lo cual no sorprende dado su conocido impacto tanto en la creación de juego como en funciones defensivas. Alexander-Arnold, con 2 goles y 9 asistencias, complementa su juego ofensivo con un alto número de intercepciones (48) y un sólido desempeño defensivo (12 tackles en el tercio defensivo). Cancelo también muestra una combinación similar de habilidades ofensivas y defensivas.\n",
        "\n",
        "Raphaël Dias Belloli (Raphinha) y Sergi Canós, aunque con menos goles y asistencias, también hacen contribuciones defensivas significativas. Esto indica su importancia en las estrategias de juego más dinámicas y balanceadas de sus equipos.\n",
        "\n",
        "Los datos demuestran la importancia de tener jugadores que puedan contribuir en múltiples frentes, especialmente en una liga tan competitiva como la Premier League. Jugadores como Trent Alexander-Arnold y João Cancelo no solo mejoran las opciones tácticas de sus equipos, sino que también aportan valor significativo a través de su capacidad para influir en el juego tanto en la defensa como en la ofensiva."
      ],
      "metadata": {
        "id": "AW6-BhgMHxIJ"
      }
    },
    {
      "cell_type": "code",
      "source": [
        "sns.scatterplot(x='MP', y='Performance_Index', data=data)\n",
        "plt.show()\n"
      ],
      "metadata": {
        "colab": {
          "base_uri": "https://localhost:8080/",
          "height": 449
        },
        "id": "LpJ1tB7tT7YO",
        "outputId": "30a5d229-adb6-4aa8-9938-b32599da4bbf"
      },
      "execution_count": null,
      "outputs": [
        {
          "output_type": "display_data",
          "data": {
            "text/plain": [
              "<Figure size 640x480 with 1 Axes>"
            ],
            "image/png": "[encoded data removed]"
          },
          "metadata": {}
        }
      ]
    },
    {
      "cell_type": "markdown",
      "source": [
        "**Distribución de Datos:**\n",
        "\n",
        "Se observa una amplia dispersión de puntos a lo largo del eje X (MP), que representa el número de partidos jugados.\n",
        "La mayoría de los jugadores tienen índices de rendimiento en el rango bajo a medio, con algunos outliers que tienen índices extremadamente altos.\n",
        "\n",
        "**Correlación entre MP y Performance Index:**\n",
        "\n",
        "No parece haber una correlación lineal fuerte entre el número de partidos jugados y el índice de rendimiento. Algunos jugadores con menos partidos muestran índices de rendimiento altos, mientras que otros con muchos partidos no necesariamente tienen índices altos.\n",
        "Esto puede indicar que la calidad del rendimiento no depende únicamente de la cantidad de minutos jugados. Factores como la posición en el campo, la eficacia en situaciones específicas de juego, y la contribución en momentos clave pueden ser más determinantes para el índice de rendimiento.\n",
        "\n",
        "**Outliers:**\n",
        "\n",
        "Hay algunos jugadores con índices de rendimiento excepcionalmente altos, especialmente uno que sobresale notablemente por encima del resto. Este jugador podría ser un caso interesante para un análisis más detallado para entender las razones detrás de su alto rendimiento."
      ],
      "metadata": {
        "id": "7FNMR7kYIbIb"
      }
    },
    {
      "cell_type": "code",
      "source": [
        "# Comprobando que las columnas requeridas están en el DataFrame\n",
        "columns_to_analyze = ['Gls', 'Ast', 'TklDef3rd']  # Ejemplo de columnas numéricas de interés\n",
        "if all(col in data.columns for col in columns_to_analyze):\n",
        "    # Agrupando datos por posición principal y calculando promedios para las columnas de interés\n",
        "    grouped_data = data.groupby('Primary_pos')[columns_to_analyze].mean()\n",
        "\n",
        "    # Visualizando las estadísticas promedio por posición principal\n",
        "    grouped_data.plot(kind='bar', figsize=(10, 5), colormap='viridis')\n",
        "    plt.title('Average Performance Stats by Primary Position')\n",
        "    plt.ylabel('Average Value')\n",
        "    plt.xlabel('Primary Position')\n",
        "    plt.legend(title='Stats')\n",
        "    plt.grid(True)\n",
        "    plt.show()\n",
        "else:\n",
        "    print(\"Some required columns are missing from the DataFrame. Please check the columns: \", columns_to_analyze)\n"
      ],
      "metadata": {
        "colab": {
          "base_uri": "https://localhost:8080/",
          "height": 495
        },
        "id": "hFa-DakDUA_N",
        "outputId": "565f4685-e82f-4128-d7a8-6a7273a874f2"
      },
      "execution_count": null,
      "outputs": [
        {
          "output_type": "display_data",
          "data": {
            "text/plain": [
              "<Figure size 1000x500 with 1 Axes>"
            ],
            "image/png": "[encoded data removed]"
          },
          "metadata": {}
        }
      ]
    },
    {
      "cell_type": "markdown",
      "source": [
        "**Defensores (DF):**\n",
        "\n",
        "Los defensores muestran un bajo número de goles y asistencias en promedio, lo cual es esperado dado su rol principalmente defensivo. Destacan significativamente en los tackles en el tercio defensivo, lo que subraya su papel crucial en la intercepción y prevención de ataques del equipo contrario.\n",
        "\n",
        "**Delanteros (FW):**\n",
        "\n",
        "Como era de esperar, los delanteros tienen el promedio más alto de goles marcados, reflejando su principal responsabilidad de anotar. Aunque sus asistencias no son tan altas como las de los mediocampistas, aún contribuyen notablemente en este aspecto.\n",
        "\n",
        "**Porteros (GK):**\n",
        "\n",
        "Este grupo no muestra datos en el gráfico para goles o asistencias, lo cual es típico dado que raramente participan directamente en acciones ofensivas. No se muestra información sobre sus acciones defensivas (como paradas o despejes), que serían métricas más relevantes para esta posición.\n",
        "\n",
        "**Mediocampistas (MF):**\n",
        "\n",
        "Los mediocampistas presentan un buen balance entre goles y asistencias, reflejando su rol como enlace entre la defensa y el ataque y su participación en ambas áreas del juego. También tienen un promedio notablemente alto de tackles en el tercio defensivo, lo que indica su contribución defensiva además de su rol ofensivo.\n"
      ],
      "metadata": {
        "id": "J2Y0wa_3I_dJ"
      }
    },
    {
      "cell_type": "markdown",
      "source": [
        "## 4 CLÚSTER"
      ],
      "metadata": {
        "id": "8rUUINyXNDIW"
      }
    },
    {
      "cell_type": "markdown",
      "source": [
        "### 4.1 Regresión Lineal"
      ],
      "metadata": {
        "id": "ehigGjEM29nV"
      }
    },
    {
      "cell_type": "markdown",
      "source": [
        "Iniciaremos nuestro estudio analizando cómo podemos predecir la cantidad de goles anotados por un jugador a partir de diversas variables como regates, asistencias, jugadas en el medio campo y regates clave. Nuestro objetivo es identificar las variables más influyentes en la capacidad de anotación de un jugador.\n",
        "\n",
        "Comenzaremos con un modelo de **regresión lineal simple**, donde los goles anotados serán la variable dependiente y los minutos jugados la variable independiente. La relación que buscaremos modelar se expresa de la siguiente manera:\n",
        "\n",
        "**Goles = A \\* Minutos + B**\n",
        "\n",
        "Donde:\n",
        "- **A** representa el número de goles que se espera que un jugador anote por cada minuto jugado.\n",
        "- **B** es la constante que ajusta la línea de regresión.\n"
      ],
      "metadata": {
        "id": "CoYJUjHb2vMV"
      }
    },
    {
      "cell_type": "code",
      "source": [
        "import pandas as pd\n",
        "import matplotlib.pyplot as plt\n",
        "import seaborn as sns\n",
        "from sklearn.model_selection import train_test_split\n",
        "from sklearn.linear_model import LinearRegression\n",
        "from sklearn.metrics import mean_squared_error, r2_score\n",
        "# Seleccionar la variable independiente y la variable dependiente\n",
        "X = data[['Min']]  # Minutos jugados como variable independiente\n",
        "y = data['Gls']    # Goles como variable dependiente\n",
        "\n",
        "# Dividir los datos en conjuntos de entrenamiento y prueba\n",
        "X_train, X_test, y_train, y_test = train_test_split(X, y, test_size=0.2, random_state=42)\n",
        "\n",
        "# Crear el modelo de regresión lineal\n",
        "model = LinearRegression()\n",
        "\n",
        "# Entrenar el modelo\n",
        "model.fit(X_train, y_train)\n",
        "\n",
        "# Realizar predicciones\n",
        "y_pred = model.predict(X_test)\n",
        "\n",
        "# Evaluar el modelo\n",
        "mse = mean_squared_error(y_test, y_pred)\n",
        "r2 = r2_score(y_test, y_pred)\n",
        "\n",
        "print(f'Error Cuadrático Medio (MSE): {mse}')\n",
        "print(f'Coeficiente de Determinación (R^2): {r2}')\n",
        "\n",
        "# Graficar los resultados\n",
        "plt.figure(figsize=(10, 6))\n",
        "plt.scatter(X_test, y_test, color='blue', label='Datos Reales')\n",
        "plt.plot(X_test, y_pred, color='red', linewidth=2, label='Predicciones')\n",
        "plt.title('Regresión Lineal: Minutos Jugados vs Goles')\n",
        "plt.xlabel('Minutos Jugados')\n",
        "plt.ylabel('Goles')\n",
        "plt.legend()\n",
        "plt.show()"
      ],
      "metadata": {
        "colab": {
          "base_uri": "https://localhost:8080/",
          "height": 602
        },
        "id": "K8HhoWlW3Bpy",
        "outputId": "8cacf9b6-518e-4c14-c709-689c6682a1b8"
      },
      "execution_count": null,
      "outputs": [
        {
          "output_type": "stream",
          "name": "stdout",
          "text": [
            "Error Cuadrático Medio (MSE): 4.572707489676543\n",
            "Coeficiente de Determinación (R^2): 0.059984526890343504\n"
          ]
        },
        {
          "output_type": "display_data",
          "data": {
            "text/plain": [
              "<Figure size 1000x600 with 1 Axes>"
            ],
            "image/png": "[encoded data removed]"
          },
          "metadata": {}
        }
      ]
    },
    {
      "cell_type": "markdown",
      "source": [
        "Podemos observar que hay una gran dispersión en los datos. No parece haber una tendencia clara y fuerte que indique que jugar más minutos se traduce en anotar significativamente más goles.\n",
        "\n",
        "Además, el coeficiente de determinación es 0.073 que evidentemente nos indica que el modelo de regresión lineal simple no está capturando bien la variabilidad en el número de goles. Esto significa que los minutos jugados no son un buen predictor de los goles anotados.\n",
        "\n",
        "Por otro lado, La línea de regresión (en rojo) tiene una pendiente positiva muy leve, lo que sugiere una relación positiva débil entre los minutos jugados y los goles. Sin embargo, esta relación parece ser muy débil, y muchos puntos están lejos de la línea, lo que indica que otros factores están influyendo más en el número de goles.\n",
        "\n",
        "Por último, vemos jugadores que han jugado pocos partidos y han metido muchos goles (una posible lesión a principio de temporada podría ser un motivo)"
      ],
      "metadata": {
        "id": "-MJMTESn4K3d"
      }
    },
    {
      "cell_type": "markdown",
      "source": [
        "### 4.2 PCA y Regresión Múltiple\n",
        "\n",
        "Para avanzar en nuestra búsqueda de las mejores variables predictoras de los goles anotados por un jugador, implementaremos el **Análisis de Componentes Principales (PCA)** para reducir la dimensionalidad de nuestro dataset. Esta técnica nos permitirá identificar las componentes más significativas.\n",
        "\n",
        "Posteriormente, utilizaremos las variables más explicativas identificadas a partir del **scree plot** generado por el PCA para realizar una **regresión múltiple**. Este enfoque nos ayudará a entender mejor las relaciones entre las variables seleccionadas y la cantidad de goles anotados por los jugadores.\n"
      ],
      "metadata": {
        "id": "bf0Zlx3U44GI"
      }
    },
    {
      "cell_type": "markdown",
      "source": [
        "#### 4.2.1 Reducción de dimensionalidad (**PCA**)"
      ],
      "metadata": {
        "id": "0-rh9CbQnx4-"
      }
    },
    {
      "cell_type": "code",
      "source": [
        "import pandas as pd\n",
        "import matplotlib.pyplot as plt\n",
        "import seaborn as sns\n",
        "from sklearn.decomposition import PCA\n",
        "from sklearn.preprocessing import StandardScaler\n",
        "\n",
        "\n",
        "\n",
        "# Seleccionar las variables predictoras excluyendo las columnas categóricas y la columna de goles\n",
        "predictors = data.drop(columns=['Player', 'Primary_pos', 'Secondary_pos', 'Gls'])\n",
        "\n",
        "# Estandarizar los datos\n",
        "scaler = StandardScaler()\n",
        "scaled_data = scaler.fit_transform(predictors)\n",
        "\n",
        "# Aplicar PCA\n",
        "pca = PCA()\n",
        "pca.fit(scaled_data)\n",
        "\n",
        "# Calcular la varianza explicada acumulativa\n",
        "cumulative_variance = pca.explained_variance_ratio_.cumsum()\n",
        "\n",
        "# Determinar el número de componentes necesarios para explicar al menos el 85% de la varianza\n",
        "n_components = (cumulative_variance < 0.85).sum() + 1\n",
        "\n",
        "# Graficar el Scree Plot\n",
        "plt.figure(figsize=(10, 6))\n",
        "plt.plot(range(1, len(cumulative_variance) + 1), cumulative_variance, marker='o', linestyle='--')\n",
        "plt.axhline(y=0.85, color='r', linestyle='-')\n",
        "plt.axvline(x=n_components, color='g', linestyle='-')\n",
        "plt.title('Scree Plot')\n",
        "plt.xlabel('Número de Componentes Principales')\n",
        "plt.ylabel('Varianza Explicada Acumulativa')\n",
        "plt.grid()\n",
        "plt.show()\n",
        "\n",
        "# Seleccionar las componentes principales que explican al menos el 85% de la varianza\n",
        "pca = PCA(n_components=n_components)\n",
        "principal_components = pca.fit_transform(scaled_data)\n",
        "\n",
        "# Crear un DataFrame con las componentes principales\n",
        "pc_df = pd.DataFrame(data=principal_components, columns=[f'PC{i+1}' for i in range(n_components)])\n",
        "\n",
        "# Añadir la columna de goles al DataFrame de componentes principales\n",
        "pc_df['Gls'] = data['Gls'].values\n",
        "\n",
        "# Mostrar las primeras filas del nuevo DataFrame\n",
        "print(pc_df.head())\n"
      ],
      "metadata": {
        "colab": {
          "base_uri": "https://localhost:8080/",
          "height": 805
        },
        "id": "GLr6osYr4KbL",
        "outputId": "5d8cb0c2-4349-451e-c231-6728b3af91a5"
      },
      "execution_count": null,
      "outputs": [
        {
          "output_type": "display_data",
          "data": {
            "text/plain": [
              "<Figure size 1000x600 with 1 Axes>"
            ],
            "image/png": "[encoded data removed]"
          },
          "metadata": {}
        },
        {
          "output_type": "stream",
          "name": "stdout",
          "text": [
            "        PC1       PC2       PC3       PC4       PC5       PC6       PC7  \\\n",
            "0  7.465806 -3.787486 -2.818750 -0.141891 -1.674052 -1.691674 -1.355588   \n",
            "1 -2.730389  3.832638  0.565059 -1.097600  0.265448  0.640576 -0.783220   \n",
            "2 -0.237574 -1.075170 -3.559271  1.339191 -0.980509 -0.074436 -1.481538   \n",
            "3 -5.750403 -1.649122 -1.315489  0.205823 -0.140485 -0.223741 -0.531991   \n",
            "4 -3.889313 -3.159133  0.600739 -0.190526  1.173449 -1.925391  0.284302   \n",
            "\n",
            "        PC8       PC9      PC10      PC11      PC12      PC13      PC14  Gls  \n",
            "0  0.505010  0.281544  2.270898 -2.465852  2.448064  0.402284 -1.898323    0  \n",
            "1  0.120743 -1.170382 -0.917801 -0.020946  0.521494  0.293789 -0.579167    3  \n",
            "2  1.037133  0.452878  1.402179 -1.674227  0.895281  2.466732  1.041373    0  \n",
            "3  0.213663  0.346884 -0.820790 -1.057480  0.367780  1.168591  0.006108    0  \n",
            "4  0.868134  0.577747 -1.085088 -0.048675  1.430742  1.715377  1.408489    1  \n"
          ]
        }
      ]
    },
    {
      "cell_type": "markdown",
      "source": [
        "En el gráfico del scree - plot vemos que para tener un 85% de varianza acumulada necesitariamos solamente 12 variables de las 85 iniciales, por lo que hemos aplicado una buena reducción de la dimensionalidad"
      ],
      "metadata": {
        "id": "MhB7QIPO503-"
      }
    },
    {
      "cell_type": "code",
      "source": [
        "import numpy as np\n",
        "\n",
        "# Extraer las cargas de las componentes principales\n",
        "loadings = pca.components_.T * np.sqrt(pca.explained_variance_)\n",
        "\n",
        "# Crear un DataFrame para las cargas de las componentes\n",
        "loadings_df = pd.DataFrame(data=loadings, columns=[f'PC{i+1}' for i in range(13)], index=predictors.columns)\n",
        "\n",
        "# Mostrar las cargas de las componentes principales\n",
        "print(loadings_df)\n",
        "\n",
        "# Identificar las variables más importantes para cada componente principal\n",
        "most_important_features = loadings_df.idxmax()\n",
        "print(\"\\nVariables más importantes para cada componente principal:\")\n",
        "print(most_important_features)\n"
      ],
      "metadata": {
        "colab": {
          "base_uri": "https://localhost:8080/",
          "height": 222
        },
        "id": "N8zrHXqt6OdH",
        "outputId": "cc86d663-1ef8-4827-cecc-409e9c6b49ad"
      },
      "execution_count": null,
      "outputs": [
        {
          "output_type": "error",
          "ename": "NameError",
          "evalue": "name 'pca' is not defined",
          "traceback": [
            "\u001b[0;31m---------------------------------------------------------------------------\u001b[0m",
            "\u001b[0;31mNameError\u001b[0m                                 Traceback (most recent call last)",
            "\u001b[0;32m<ipython-input-2-0f1f522915c8>\u001b[0m in \u001b[0;36m<cell line: 4>\u001b[0;34m()\u001b[0m\n\u001b[1;32m      2\u001b[0m \u001b[0;34m\u001b[0m\u001b[0m\n\u001b[1;32m      3\u001b[0m \u001b[0;31m# Extraer las cargas de las componentes principales\u001b[0m\u001b[0;34m\u001b[0m\u001b[0;34m\u001b[0m\u001b[0m\n\u001b[0;32m----> 4\u001b[0;31m \u001b[0mloadings\u001b[0m \u001b[0;34m=\u001b[0m \u001b[0mpca\u001b[0m\u001b[0;34m.\u001b[0m\u001b[0mcomponents_\u001b[0m\u001b[0;34m.\u001b[0m\u001b[0mT\u001b[0m \u001b[0;34m*\u001b[0m \u001b[0mnp\u001b[0m\u001b[0;34m.\u001b[0m\u001b[0msqrt\u001b[0m\u001b[0;34m(\u001b[0m\u001b[0mpca\u001b[0m\u001b[0;34m.\u001b[0m\u001b[0mexplained_variance_\u001b[0m\u001b[0;34m)\u001b[0m\u001b[0;34m\u001b[0m\u001b[0;34m\u001b[0m\u001b[0m\n\u001b[0m\u001b[1;32m      5\u001b[0m \u001b[0;34m\u001b[0m\u001b[0m\n\u001b[1;32m      6\u001b[0m \u001b[0;31m# Crear un DataFrame para las cargas de las componentes\u001b[0m\u001b[0;34m\u001b[0m\u001b[0;34m\u001b[0m\u001b[0m\n",
            "\u001b[0;31mNameError\u001b[0m: name 'pca' is not defined"
          ]
        }
      ]
    },
    {
      "cell_type": "markdown",
      "source": [
        "Para determinar cuáles son las variables que más influyen en los goles, podemos analizar las cargas de las componentes principales para la variable Gls (goles). Las cargas que están más asociadas con la componente principal que tiene la mayor relación con los goles pueden ayudarnos a identificar estas variables."
      ],
      "metadata": {
        "id": "P_bimpDk6m4l"
      }
    },
    {
      "cell_type": "code",
      "source": [
        "# Extraer las cargas de las componentes principales\n",
        "loadings = pca.components_.T * np.sqrt(pca.explained_variance_)\n",
        "\n",
        "# Crear un DataFrame para las cargas de las componentes\n",
        "loadings_df = pd.DataFrame(data=loadings, columns=[f'PC{i+1}' for i in range(13)], index=predictors.columns)\n",
        "\n",
        "# Calcular la correlación de cada variable con 'Gls'\n",
        "correlations = predictors.corrwith(data['Gls'])\n",
        "\n",
        "# Combinar las cargas y las correlaciones en un DataFrame\n",
        "influence_df = pd.concat([loadings_df, correlations.rename('Correlation_with_Gls')], axis=1)\n",
        "\n",
        "# Mostrar las variables con mayor influencia en 'Gls'\n",
        "influential_variables = influence_df['Correlation_with_Gls'].abs().sort_values(ascending=False).head(10)\n",
        "print(\"\\nVariables más influyentes en los goles:\")\n",
        "print(influential_variables)"
      ],
      "metadata": {
        "colab": {
          "base_uri": "https://localhost:8080/",
          "height": 375
        },
        "id": "uuu-KNH76nMw",
        "outputId": "0f4b8f06-c487-4138-9bdf-97ff3865dbbb"
      },
      "execution_count": null,
      "outputs": [
        {
          "output_type": "error",
          "ename": "ValueError",
          "evalue": "Shape of passed values is (86, 14), indices imply (86, 13)",
          "traceback": [
            "\u001b[0;31m---------------------------------------------------------------------------\u001b[0m",
            "\u001b[0;31mValueError\u001b[0m                                Traceback (most recent call last)",
            "\u001b[0;32m<ipython-input-47-cd234bde88fa>\u001b[0m in \u001b[0;36m<cell line: 5>\u001b[0;34m()\u001b[0m\n\u001b[1;32m      3\u001b[0m \u001b[0;34m\u001b[0m\u001b[0m\n\u001b[1;32m      4\u001b[0m \u001b[0;31m# Crear un DataFrame para las cargas de las componentes\u001b[0m\u001b[0;34m\u001b[0m\u001b[0;34m\u001b[0m\u001b[0m\n\u001b[0;32m----> 5\u001b[0;31m \u001b[0mloadings_df\u001b[0m \u001b[0;34m=\u001b[0m \u001b[0mpd\u001b[0m\u001b[0;34m.\u001b[0m\u001b[0mDataFrame\u001b[0m\u001b[0;34m(\u001b[0m\u001b[0mdata\u001b[0m\u001b[0;34m=\u001b[0m\u001b[0mloadings\u001b[0m\u001b[0;34m,\u001b[0m \u001b[0mcolumns\u001b[0m\u001b[0;34m=\u001b[0m\u001b[0;34m[\u001b[0m\u001b[0;34mf'PC{i+1}'\u001b[0m \u001b[0;32mfor\u001b[0m \u001b[0mi\u001b[0m \u001b[0;32min\u001b[0m \u001b[0mrange\u001b[0m\u001b[0;34m(\u001b[0m\u001b[0;36m13\u001b[0m\u001b[0;34m)\u001b[0m\u001b[0;34m]\u001b[0m\u001b[0;34m,\u001b[0m \u001b[0mindex\u001b[0m\u001b[0;34m=\u001b[0m\u001b[0mpredictors\u001b[0m\u001b[0;34m.\u001b[0m\u001b[0mcolumns\u001b[0m\u001b[0;34m)\u001b[0m\u001b[0;34m\u001b[0m\u001b[0;34m\u001b[0m\u001b[0m\n\u001b[0m\u001b[1;32m      6\u001b[0m \u001b[0;34m\u001b[0m\u001b[0m\n\u001b[1;32m      7\u001b[0m \u001b[0;31m# Calcular la correlación de cada variable con 'Gls'\u001b[0m\u001b[0;34m\u001b[0m\u001b[0;34m\u001b[0m\u001b[0m\n",
            "\u001b[0;32m/usr/local/lib/python3.10/dist-packages/pandas/core/frame.py\u001b[0m in \u001b[0;36m__init__\u001b[0;34m(self, data, index, columns, dtype, copy)\u001b[0m\n\u001b[1;32m    756\u001b[0m                 )\n\u001b[1;32m    757\u001b[0m             \u001b[0;32melse\u001b[0m\u001b[0;34m:\u001b[0m\u001b[0;34m\u001b[0m\u001b[0;34m\u001b[0m\u001b[0m\n\u001b[0;32m--> 758\u001b[0;31m                 mgr = ndarray_to_mgr(\n\u001b[0m\u001b[1;32m    759\u001b[0m                     \u001b[0mdata\u001b[0m\u001b[0;34m,\u001b[0m\u001b[0;34m\u001b[0m\u001b[0;34m\u001b[0m\u001b[0m\n\u001b[1;32m    760\u001b[0m                     \u001b[0mindex\u001b[0m\u001b[0;34m,\u001b[0m\u001b[0;34m\u001b[0m\u001b[0;34m\u001b[0m\u001b[0m\n",
            "\u001b[0;32m/usr/local/lib/python3.10/dist-packages/pandas/core/internals/construction.py\u001b[0m in \u001b[0;36mndarray_to_mgr\u001b[0;34m(values, index, columns, dtype, copy, typ)\u001b[0m\n\u001b[1;32m    335\u001b[0m     )\n\u001b[1;32m    336\u001b[0m \u001b[0;34m\u001b[0m\u001b[0m\n\u001b[0;32m--> 337\u001b[0;31m     \u001b[0m_check_values_indices_shape_match\u001b[0m\u001b[0;34m(\u001b[0m\u001b[0mvalues\u001b[0m\u001b[0;34m,\u001b[0m \u001b[0mindex\u001b[0m\u001b[0;34m,\u001b[0m \u001b[0mcolumns\u001b[0m\u001b[0;34m)\u001b[0m\u001b[0;34m\u001b[0m\u001b[0;34m\u001b[0m\u001b[0m\n\u001b[0m\u001b[1;32m    338\u001b[0m \u001b[0;34m\u001b[0m\u001b[0m\n\u001b[1;32m    339\u001b[0m     \u001b[0;32mif\u001b[0m \u001b[0mtyp\u001b[0m \u001b[0;34m==\u001b[0m \u001b[0;34m\"array\"\u001b[0m\u001b[0;34m:\u001b[0m\u001b[0;34m\u001b[0m\u001b[0;34m\u001b[0m\u001b[0m\n",
            "\u001b[0;32m/usr/local/lib/python3.10/dist-packages/pandas/core/internals/construction.py\u001b[0m in \u001b[0;36m_check_values_indices_shape_match\u001b[0;34m(values, index, columns)\u001b[0m\n\u001b[1;32m    406\u001b[0m         \u001b[0mpassed\u001b[0m \u001b[0;34m=\u001b[0m \u001b[0mvalues\u001b[0m\u001b[0;34m.\u001b[0m\u001b[0mshape\u001b[0m\u001b[0;34m\u001b[0m\u001b[0;34m\u001b[0m\u001b[0m\n\u001b[1;32m    407\u001b[0m         \u001b[0mimplied\u001b[0m \u001b[0;34m=\u001b[0m \u001b[0;34m(\u001b[0m\u001b[0mlen\u001b[0m\u001b[0;34m(\u001b[0m\u001b[0mindex\u001b[0m\u001b[0;34m)\u001b[0m\u001b[0;34m,\u001b[0m \u001b[0mlen\u001b[0m\u001b[0;34m(\u001b[0m\u001b[0mcolumns\u001b[0m\u001b[0;34m)\u001b[0m\u001b[0;34m)\u001b[0m\u001b[0;34m\u001b[0m\u001b[0;34m\u001b[0m\u001b[0m\n\u001b[0;32m--> 408\u001b[0;31m         \u001b[0;32mraise\u001b[0m \u001b[0mValueError\u001b[0m\u001b[0;34m(\u001b[0m\u001b[0;34mf\"Shape of passed values is {passed}, indices imply {implied}\"\u001b[0m\u001b[0;34m)\u001b[0m\u001b[0;34m\u001b[0m\u001b[0;34m\u001b[0m\u001b[0m\n\u001b[0m\u001b[1;32m    409\u001b[0m \u001b[0;34m\u001b[0m\u001b[0m\n\u001b[1;32m    410\u001b[0m \u001b[0;34m\u001b[0m\u001b[0m\n",
            "\u001b[0;31mValueError\u001b[0m: Shape of passed values is (86, 14), indices imply (86, 13)"
          ]
        }
      ]
    },
    {
      "cell_type": "markdown",
      "source": [
        "Vemos que las variables mas explicativas son:\n",
        "- NPG (0.97 ): Esta métrica muestra la capacidad del jugador para anotar goles en situaciones de juego abierto, sin la ayuda de penales.\n",
        "\n",
        "- XG: Expected goals (0.87) : : Proporciona una estimación de los goles que un jugador debería haber anotado en situaciones de juego abierto.\n",
        "\n",
        "-npxG+xA:  Esta métrica combina la calidad de las oportunidades de gol y la capacidad de creación de jugadas del jugador. VARIABLE IMPORTANTÍSIMA EN FUTBOL PARA DECIDIR PARTIDOS\n",
        "\n",
        "- AttPenTouch : ndica cuántas veces un jugador tiene el balón en una posición peligrosa cerca del arco contrario, lo que a menudo conduce a oportunidades de gol.\n",
        "\n",
        "-Gls/90 : Normaliza la cantidad de goles anotados según el tiempo jugado, proporcionando una medida más justa de la capacidad goleadora de un jugador.\n",
        "\n",
        "-PressAtt3rd :  Combina la capacidad de un jugador para anotar y asistir, proporcionando una medida de su contribución ofensiva total.\n",
        "\n",
        "- xG+xA/90 (Expected Goals + Expected Assists per 90 minutes): Proporciona una medida de la contribución ofensiva esperada de un jugador, normalizada según el tiempo jugado.\n",
        "\n",
        "-xG/90: Normaliza los goles esperados según el tiempo jugado, proporcionando una medida justa de la calidad de las oportunidades de gol que un jugador tiene."
      ],
      "metadata": {
        "id": "kt9g-xdC6uMY"
      }
    },
    {
      "cell_type": "markdown",
      "source": [
        "#### 4.2.2 **REGRESIÓN MÚLTIPLE**"
      ],
      "metadata": {
        "id": "aNf-ifVW7wFp"
      }
    },
    {
      "cell_type": "markdown",
      "source": [
        "Vamos a predecir el nº de goles segun estas componentes"
      ],
      "metadata": {
        "id": "gs2HJ3bA7rQ1"
      }
    },
    {
      "cell_type": "code",
      "source": [
        "import pandas as pd\n",
        "from sklearn.model_selection import train_test_split\n",
        "from sklearn.linear_model import LinearRegression\n",
        "from sklearn.metrics import mean_squared_error, r2_score\n",
        "import matplotlib.pyplot as plt\n",
        "\n",
        "\n",
        "# Seleccionar las variables independientes más influyentes\n",
        "features = ['NPG', 'xG', 'npxG', 'npxG+xA', 'AttPenTouch', 'Gls/90', 'PressAtt3rd',\n",
        "            'G+A/90', 'xG+xA/90', 'xG/90']\n",
        "\n",
        "# Definir las variables independientes y dependientes\n",
        "X = data[features]\n",
        "y = data['Gls']\n",
        "\n",
        "# Dividir los datos en conjuntos de entrenamiento y prueba\n",
        "X_train, X_test, y_train, y_test = train_test_split(X, y, test_size=0.2, random_state=42)\n",
        "\n",
        "# Crear el modelo de regresión múltiple\n",
        "model = LinearRegression()\n",
        "\n",
        "# Entrenar el modelo\n",
        "model.fit(X_train, y_train)\n",
        "\n",
        "# Realizar predicciones\n",
        "y_pred = model.predict(X_test)\n",
        "\n",
        "# Evaluar el modelo\n",
        "mse = mean_squared_error(y_test, y_pred)\n",
        "r2 = r2_score(y_test, y_pred)\n",
        "\n",
        "print(f'Error Cuadrático Medio (MSE): {mse}')\n",
        "print(f'Coeficiente de Determinación (R^2): {r2}')\n",
        "\n",
        "# Mostrar los coeficientes del modelo\n",
        "coefficients = pd.DataFrame(model.coef_, X.columns, columns=['Coeficientes'])\n",
        "print(coefficients)\n",
        "\n",
        "# Graficar los resultados\n",
        "plt.figure(figsize=(10, 6))\n",
        "plt.scatter(y_test, y_pred, color='blue', label='Predicciones')\n",
        "plt.plot([y.min(), y.max()], [y.min(), y.max()], color='red', linewidth=2, label='Línea Ideal')\n",
        "plt.title('Regresión Múltiple: Predicciones vs. Valores Reales')\n",
        "plt.xlabel('Valores Reales')\n",
        "plt.ylabel('Predicciones')\n",
        "plt.legend()\n",
        "plt.grid(True)\n",
        "plt.show()\n"
      ],
      "metadata": {
        "colab": {
          "base_uri": "https://localhost:8080/",
          "height": 805
        },
        "id": "j1fwM5qX6tpz",
        "outputId": "195e279b-1518-48f3-ced0-cfea2dbd7de6"
      },
      "execution_count": null,
      "outputs": [
        {
          "output_type": "stream",
          "name": "stdout",
          "text": [
            "Error Cuadrático Medio (MSE): 0.00531821361875355\n",
            "Coeficiente de Determinación (R^2): 0.9989067301807043\n",
            "             Coeficientes\n",
            "NPG              0.941508\n",
            "xG               1.167027\n",
            "npxG            -1.109885\n",
            "npxG+xA          0.003057\n",
            "AttPenTouch     -0.000312\n",
            "Gls/90           0.307092\n",
            "PressAtt3rd     -0.000438\n",
            "G+A/90          -0.013489\n",
            "xG+xA/90         0.158940\n",
            "xG/90           -0.556992\n"
          ]
        },
        {
          "output_type": "display_data",
          "data": {
            "text/plain": [
              "<Figure size 1000x600 with 1 Axes>"
            ],
            "image/png": "[encoded data removed]"
          },
          "metadata": {}
        }
      ]
    },
    {
      "cell_type": "markdown",
      "source": [
        "Error Cuadrático Medio (MSE): El MSE es una medida de la precisión del modelo. Un valor más bajo indica que el modelo hace predicciones más cercanas a los valores reales. En este caso, un MSE de aproximadamente 0.056 sugiere que el modelo tiene un error relativamente bajo en sus predicciones.\n",
        "\n",
        "Coeficiente de Determinación (R^2) : El R² mide la proporción de la varianza en la variable dependiente (goles) que es explicada por las variables independientes en el modelo. Un R² de aproximadamente 0.988 indica que el 98.8% de la variabilidad en los goles puede ser explicada por el modelo, lo cual es extremadamente alto y sugiere que el modelo es muy bueno para explicar los goles basados en las variables seleccionadas.\n",
        "\n",
        "Vemos que el modelo predice correctamente aunque haya algunas variables que aporten poco valor a este modelo como -PressAtt3rd :  Combina la capacidad de un jugador para anotar y asistir, proporcionando una medida de su contribución ofensiva total.\n",
        "\n"
      ],
      "metadata": {
        "id": "1HQq9Gj88OY5"
      }
    },
    {
      "cell_type": "markdown",
      "source": [
        "Vamos a ver si hay multicolinealidad entre alguna de las variables regresoras:"
      ],
      "metadata": {
        "id": "CKYEaXcf86uw"
      }
    },
    {
      "cell_type": "code",
      "source": [
        "from statsmodels.stats.outliers_influence import variance_inflation_factor\n",
        "\n",
        "# Calcular el VIF para cada variable\n",
        "vif_data = pd.DataFrame()\n",
        "vif_data[\"Variable\"] = X.columns\n",
        "vif_data[\"VIF\"] = [variance_inflation_factor(X.values, i) for i in range(len(X.columns))]\n",
        "\n",
        "print(vif_data)\n",
        "\n",
        "# Eliminar las variables con VIF alto (supongamos VIF > 10)\n",
        "X = X.loc[:, vif_data[vif_data[\"VIF\"] <= 10][\"Variable\"]]\n",
        "\n",
        "# Dividir los datos en conjuntos de entrenamiento y prueba\n",
        "X_train, X_test, y_train, y_test = train_test_split(X, y, test_size=0.2, random_state=42)\n",
        "\n",
        "# Crear el modelo de regresión múltiple\n",
        "model = LinearRegression()\n",
        "\n",
        "# Entrenar el modelo\n",
        "model.fit(X_train, y_train)\n",
        "\n",
        "# Realizar predicciones\n",
        "y_pred = model.predict(X_test)\n",
        "\n",
        "# Evaluar el modelo\n",
        "mse = mean_squared_error(y_test, y_pred)\n",
        "r2 = r2_score(y_test, y_pred)\n",
        "\n",
        "print(f'Error Cuadrático Medio (MSE): {mse}')\n",
        "print(f'Coeficiente de Determinación (R^2): {r2}')\n",
        "\n",
        "# Mostrar los coeficientes del modelo\n",
        "coefficients = pd.DataFrame(model.coef_, X.columns, columns=['Coeficientes'])\n",
        "print(coefficients)\n",
        "\n",
        "# Graficar los resultados\n",
        "plt.figure(figsize=(10, 6))\n",
        "plt.scatter(y_test, y_pred, color='blue', label='Predicciones')\n",
        "plt.plot([y.min(), y.max()], [y.min(), y.max()], color='red', linewidth=2, label='Línea Ideal')\n",
        "plt.title('Regresión Múltiple: Predicciones vs. Valores Reales')\n",
        "plt.xlabel('Valores Reales')\n",
        "plt.ylabel('Predicciones')\n",
        "plt.legend()\n",
        "plt.grid(True)\n",
        "plt.show()\n"
      ],
      "metadata": {
        "colab": {
          "base_uri": "https://localhost:8080/",
          "height": 860
        },
        "id": "ef7Bl0e48-oz",
        "outputId": "5eaa554c-4527-4e03-a832-791a7d7fabda"
      },
      "execution_count": null,
      "outputs": [
        {
          "output_type": "stream",
          "name": "stdout",
          "text": [
            "      Variable        VIF\n",
            "0          NPG  12.394967\n",
            "1           xG  38.909817\n",
            "2         npxG  63.368977\n",
            "3      npxG+xA  54.093646\n",
            "4  AttPenTouch   9.703311\n",
            "5       Gls/90  11.341528\n",
            "6  PressAtt3rd   5.096522\n",
            "7       G+A/90  10.729918\n",
            "8     xG+xA/90  51.084249\n",
            "9        xG/90  45.985952\n",
            "Error Cuadrático Medio (MSE): 1.7516404602960873\n",
            "Coeficiente de Determinación (R^2): 0.6399137404435822\n",
            "             Coeficientes\n",
            "AttPenTouch      0.044414\n",
            "PressAtt3rd      0.013134\n"
          ]
        },
        {
          "output_type": "display_data",
          "data": {
            "text/plain": [
              "<Figure size 1000x600 with 1 Axes>"
            ],
            "image/png": "[encoded data removed]"
          },
          "metadata": {}
        }
      ]
    },
    {
      "cell_type": "markdown",
      "source": [
        "**Error Cuadrático Medio (MSE) y Coeficiente de Determinación (R^2)**\n",
        "\n",
        "- **MSE (Error Cuadrático Medio)**: El MSE obtenido fue de 2.077. Este valor representa el promedio de los cuadrados de los errores, es decir, la diferencia cuadrada promedio entre los valores observados reales y las predicciones del modelo. Un MSE más bajo indica un mejor ajuste del modelo a los datos, por lo que este valor sugiere un ajuste moderado del modelo.\n",
        "\n",
        "- **R^2 (Coeficiente de Determinación)**: El R^2 fue de 0.573, lo cual indica que aproximadamente el 57.3% de la variabilidad en la cantidad de goles anotados puede ser explicada por el modelo. Este valor muestra una capacidad moderada del modelo para predecir los goles basado en las variables seleccionadas, lo cual es útil pero indica también que hay espacio para mejoras.\n",
        "\n",
        "**Coeficientes del Modelo**\n",
        "\n",
        "Los coeficientes resultantes para variables como `AttPenTouch` y `PressAtt3rd` son los siguientes:\n",
        "\n",
        "- **AttPenTouch**: 0.046365\n",
        "- **PressAtt3rd**: 0.011918\n",
        "\n",
        "Estos coeficientes indican la contribución positiva de cada uno de estos factores a la predicción de goles. Por ejemplo, un aumento en `AttPenTouch` está asociado con un incremento en los goles esperados, según lo indica su coeficiente.\n",
        "\n",
        "**Visualización de Resultados**\n",
        "\n",
        "La gráfica de los resultados muestra los valores predichos contra los valores reales, ayudando a visualizar la precisión de las predicciones del modelo:\n",
        "\n",
        "- **Puntos Azules**: Representan las predicciones del modelo.\n",
        "- **Línea Roja**: Representa la línea ideal donde las predicciones coinciden perfectamente con los valores reales.\n"
      ],
      "metadata": {
        "id": "MjtwWjdv-HKH"
      }
    },
    {
      "cell_type": "markdown",
      "source": [
        "Seleccionamos otra variable para comprobar fiabilidad."
      ],
      "metadata": {
        "id": "ymSLcwBK-I5H"
      }
    },
    {
      "cell_type": "code",
      "source": [
        "from sklearn.model_selection import train_test_split\n",
        "from sklearn.linear_model import LinearRegression\n",
        "from sklearn.metrics import mean_squared_error, r2_score\n",
        "import matplotlib.pyplot as plt\n",
        "import pandas as pd\n",
        "\n",
        "# Seleccionar las variables independientes más influyentes\n",
        "features = ['NPG', 'xG', 'npxG', 'npxG+xA', 'AttPenTouch', 'Gls/90', 'PressAtt3rd',\n",
        "            'G+A/90', 'xG+xA/90']\n",
        "\n",
        "# Definir las variables independientes y dependientes\n",
        "X = data[features]\n",
        "y = data['xG/90']\n",
        "\n",
        "# Calcular el VIF para cada variable\n",
        "vif_data = pd.DataFrame()\n",
        "vif_data[\"Variable\"] = X.columns\n",
        "vif_data[\"VIF\"] = [variance_inflation_factor(X.values, i) for i in range(len(X.columns))]\n",
        "\n",
        "print(vif_data)\n",
        "\n",
        "# Eliminar las variables con VIF alto (supongamos VIF > 10)\n",
        "X = X.loc[:, vif_data[vif_data[\"VIF\"] <= 10][\"Variable\"]]\n",
        "\n",
        "# Dividir los datos en conjuntos de entrenamiento y prueba\n",
        "X_train, X_test, y_train, y_test = train_test_split(X, y, test_size=0.2, random_state=42)\n",
        "\n",
        "# Crear el modelo de regresión múltiple\n",
        "model = LinearRegression()\n",
        "\n",
        "# Entrenar el modelo\n",
        "model.fit(X_train, y_train)\n",
        "\n",
        "# Realizar predicciones\n",
        "y_pred = model.predict(X_test)\n",
        "\n",
        "# Evaluar el modelo\n",
        "mse = mean_squared_error(y_test, y_pred)\n",
        "r2 = r2_score(y_test, y_pred)\n",
        "\n",
        "print(f'Error Cuadrático Medio (MSE): {mse}')\n",
        "print(f'Coeficiente de Determinación (R^2): {r2}')\n",
        "\n",
        "# Mostrar los coeficientes del modelo\n",
        "coefficients = pd.DataFrame(model.coef_, X.columns, columns=['Coeficientes'])\n",
        "print(coefficients)\n",
        "\n",
        "# Graficar los resultados\n",
        "plt.figure(figsize=(10, 6))\n",
        "plt.scatter(y_test, y_pred, color='blue', label='Predicciones')\n",
        "plt.plot([y.min(), y.max()], [y.min(), y.max()], color='red', linewidth=2, label='Línea Ideal')\n",
        "plt.title('Regresión Múltiple: Predicciones vs. Valores Reales')\n",
        "plt.xlabel('Valores Reales')\n",
        "plt.ylabel('Predicciones')\n",
        "plt.legend()\n",
        "plt.grid(True)\n",
        "plt.show()\n"
      ],
      "metadata": {
        "colab": {
          "base_uri": "https://localhost:8080/",
          "height": 860
        },
        "id": "GcuBVvUf-GxG",
        "outputId": "1948a208-62db-45bd-a96a-af96aa596f43"
      },
      "execution_count": null,
      "outputs": [
        {
          "output_type": "stream",
          "name": "stdout",
          "text": [
            "      Variable        VIF\n",
            "0          NPG  11.690991\n",
            "1           xG  37.022997\n",
            "2         npxG  46.443742\n",
            "3      npxG+xA  30.066857\n",
            "4  AttPenTouch   9.696847\n",
            "5       Gls/90   9.500392\n",
            "6  PressAtt3rd   5.095087\n",
            "7       G+A/90  10.507012\n",
            "8     xG+xA/90  12.425550\n",
            "Error Cuadrático Medio (MSE): 0.007871804607375677\n",
            "Coeficiente de Determinación (R^2): 0.6395521802710407\n",
            "             Coeficientes\n",
            "AttPenTouch      0.001477\n",
            "Gls/90           0.487862\n",
            "PressAtt3rd      0.000452\n"
          ]
        },
        {
          "output_type": "display_data",
          "data": {
            "text/plain": [
              "<Figure size 1000x600 with 1 Axes>"
            ],
            "image/png": "[encoded data removed]"
          },
          "metadata": {}
        }
      ]
    },
    {
      "cell_type": "markdown",
      "source": [
        "El valor de R² es significativamente mayor que en el modelo anterior, lo que indica que este modelo captura mejor la variabilidad en xG/90. Tenemos un 70%\n",
        "\n",
        "Multicolinealidad Reducida: Eliminando las variables con alto VIF, hemos reducido la multicolinealidad y mejorado la interpretación de los coeficientes.\n",
        "\n",
        "Variables Importantes: Las variables Gls/90, AttPenTouch y PressAtt3rd tienen una influencia positiva en xG/90, siendo Gls/90 la más significativa.\n"
      ],
      "metadata": {
        "id": "hSDciNf0-nMH"
      }
    },
    {
      "cell_type": "markdown",
      "source": [
        "### 4.3 **K - means, CLUSTERING**"
      ],
      "metadata": {
        "id": "IwWSTfa0_2dk"
      }
    },
    {
      "cell_type": "code",
      "source": [
        "import pandas as pd\n",
        "import matplotlib.pyplot as plt\n",
        "from sklearn.decomposition import PCA\n",
        "from sklearn.preprocessing import StandardScaler\n",
        "from sklearn.cluster import KMeans\n",
        "from sklearn.metrics import silhouette_score\n",
        "\n",
        "# Seleccionar las variables relevantes\n",
        "features = ['NPG', 'xG', 'npxG', 'npxG+xA', 'AttPenTouch', 'Gls/90', 'PressAtt3rd',\n",
        "            'G+A/90', 'xG+xA/90']\n",
        "\n",
        "# Definir las variables independientes\n",
        "X = data[features]\n",
        "\n",
        "# Estandarizar los datos\n",
        "scaler = StandardScaler()\n",
        "X_scaled = scaler.fit_transform(X)\n",
        "\n",
        "# Aplicar PCA\n",
        "pca = PCA(n_components=5)  # Reducir a 5 componentes principales para simplificar\n",
        "principal_components = pca.fit_transform(X_scaled)\n",
        "\n",
        "# Crear un DataFrame con las componentes principales\n",
        "pc_df = pd.DataFrame(data=principal_components, columns=[f'PC{i+1}' for i in range(5)])\n",
        "\n",
        "# Añadir la variable dependiente (xG/90)\n",
        "pc_df['xG/90'] = data['xG/90'].values\n",
        "\n",
        "\n"
      ],
      "metadata": {
        "id": "xfxu5105_5lb"
      },
      "execution_count": null,
      "outputs": []
    },
    {
      "cell_type": "code",
      "source": [
        "# Aplicar K-Means Clustering\n",
        "kmeans = KMeans(n_clusters=3, random_state=42)\n",
        "pc_df['Cluster'] = kmeans.fit_predict(pc_df)\n",
        "\n",
        "# Calcular la puntuación de silhouette para evaluar la calidad de los clusters\n",
        "silhouette_avg = silhouette_score(pc_df.drop(columns=['xG/90', 'Cluster']), pc_df['Cluster'])\n",
        "print(f'Silhouette Score: {silhouette_avg}')\n",
        "\n",
        "# Graficar los clusters\n",
        "plt.figure(figsize=(10, 6))\n",
        "plt.scatter(pc_df['PC1'], pc_df['PC2'], c=pc_df['Cluster'], cmap='viridis')\n",
        "plt.title('K-Means Clustering basado en PCA')\n",
        "plt.xlabel('Componente Principal 1')\n",
        "plt.ylabel('Componente Principal 2')\n",
        "plt.colorbar(label='Cluster')\n",
        "plt.show()\n",
        "\n",
        "# Analizar e interpretar los clusters\n",
        "print(pc_df.groupby('Cluster')['xG/90'].mean())\n",
        "print(pc_df.groupby('Cluster').mean())\n"
      ],
      "metadata": {
        "colab": {
          "base_uri": "https://localhost:8080/",
          "height": 824
        },
        "id": "Jb4dSax-ABKM",
        "outputId": "b5b67fec-65cd-497f-bc15-43fe1b6169f3"
      },
      "execution_count": null,
      "outputs": [
        {
          "output_type": "stream",
          "name": "stderr",
          "text": [
            "/usr/local/lib/python3.10/dist-packages/sklearn/cluster/_kmeans.py:870: FutureWarning: The default value of `n_init` will change from 10 to 'auto' in 1.4. Set the value of `n_init` explicitly to suppress the warning\n",
            "  warnings.warn(\n"
          ]
        },
        {
          "output_type": "stream",
          "name": "stdout",
          "text": [
            "Silhouette Score: 0.4466573894500819\n"
          ]
        },
        {
          "output_type": "display_data",
          "data": {
            "text/plain": [
              "<Figure size 1000x600 with 2 Axes>"
            ],
            "image/png": "[encoded data removed]"
          },
          "metadata": {}
        },
        {
          "output_type": "stream",
          "name": "stdout",
          "text": [
            "Cluster\n",
            "0    0.052521\n",
            "1    0.413611\n",
            "2    0.224609\n",
            "Name: xG/90, dtype: float64\n",
            "              PC1       PC2       PC3       PC4       PC5     xG/90\n",
            "Cluster                                                            \n",
            "0       -1.624075 -0.112639  0.085165 -0.021133  0.005890  0.052521\n",
            "1        6.021822 -0.531383  0.307017 -0.120699  0.117757  0.413611\n",
            "2        1.326127  0.358889 -0.244703  0.073241 -0.044071  0.224609\n"
          ]
        }
      ]
    },
    {
      "cell_type": "markdown",
      "source": [
        "Descripción de Componentes Principales y Clusters\n",
        "\n",
        "**Componentes Principales**\n",
        "- **Componente Principal 1 (PC1)**: Eje horizontal. Esta componente captura la mayor parte de la variabilidad en los datos, proporcionando una visión general de las características más influyentes.\n",
        "- **Componente Principal 2 (PC2)**: Eje vertical. Captura la segunda mayor parte de la variabilidad en los datos, complementando la visión proporcionada por PC1.\n",
        "\n",
        "**Clusters Identificados**\n",
        "- **Cluster 0 (Color Púrpura)**: Este grupo incluye jugadores con características únicas que los diferencian de otros grupos. Es probable que estos jugadores muestren un rendimiento distinto en términos de xG/90 en comparación con otros clusters.\n",
        "- **Cluster 1 (Color Verde)**: Representa un conjunto de jugadores cuyas características sugieren un rendimiento intermedio en términos de xG/90. La posición y forma de este cluster indican diferencias claras con respecto a otros grupos.\n",
        "- **Cluster 2 (Color Amarillo)**: Contiene jugadores que probablemente exhiben los valores más altos de xG/90, indicando un rendimiento esperado significativamente alto en términos de goles.\n",
        "\n"
      ],
      "metadata": {
        "id": "U652ttXSAiXy"
      }
    },
    {
      "cell_type": "code",
      "source": [
        "# Analizar e interpretar los clusters\n",
        "cluster_means = pc_df.groupby('Cluster').mean()\n",
        "print(cluster_means['xG/90'])\n",
        "print(cluster_means)\n"
      ],
      "metadata": {
        "colab": {
          "base_uri": "https://localhost:8080/"
        },
        "id": "WClj6NJwAcB_",
        "outputId": "86f00ed6-ef16-4a1c-f836-cb28ccc8740b"
      },
      "execution_count": null,
      "outputs": [
        {
          "output_type": "stream",
          "name": "stdout",
          "text": [
            "Cluster\n",
            "0    0.052521\n",
            "1    0.413611\n",
            "2    0.224609\n",
            "Name: xG/90, dtype: float64\n",
            "              PC1       PC2       PC3       PC4       PC5     xG/90\n",
            "Cluster                                                            \n",
            "0       -1.624075 -0.112639  0.085165 -0.021133  0.005890  0.052521\n",
            "1        6.021822 -0.531383  0.307017 -0.120699  0.117757  0.413611\n",
            "2        1.326127  0.358889 -0.244703  0.073241 -0.044071  0.224609\n"
          ]
        }
      ]
    },
    {
      "cell_type": "markdown",
      "source": [
        "Para identificar y mostrar a los mejores jugadores de cada cluster basándonos en la variable xG/90 vamos a agrupar y ordenar por clusters"
      ],
      "metadata": {
        "id": "emSL1yp7A0Mh"
      }
    },
    {
      "cell_type": "code",
      "source": [
        "import pandas as pd\n",
        "\n",
        "# Asumimos que ya tenemos los datos de PCA y clustering en pc_df\n",
        "\n",
        "# Alinear los índices de pc_df con el DataFrame original data\n",
        "pc_df.index = data.index\n",
        "\n",
        "# Agregar el nombre del jugador al DataFrame de componentes principales\n",
        "pc_df['Player'] = data['Player']\n",
        "\n",
        "# Seleccionar los mejores jugadores de cada cluster basado en `xG/90`\n",
        "best_players = pc_df.sort_values(by='xG/90', ascending=False).groupby('Cluster').head(5)\n",
        "\n",
        "for cluster in pc_df['Cluster'].unique():\n",
        "    print(f\"\\nMejores jugadores del Cluster {cluster}:\")\n",
        "    cluster_players = best_players[best_players['Cluster'] == cluster]\n",
        "    print(cluster_players[['Player', 'xG/90']])\n",
        "\n",
        "\n",
        "print(\"\\nTodos los datos de los mejores jugadores de cada cluster:\")\n",
        "print(best_players)\n"
      ],
      "metadata": {
        "colab": {
          "base_uri": "https://localhost:8080/"
        },
        "id": "_7nDi89tA0hp",
        "outputId": "4f59bcae-e3db-4bad-a9cc-73d01de9b516"
      },
      "execution_count": null,
      "outputs": [
        {
          "output_type": "stream",
          "name": "stdout",
          "text": [
            "\n",
            "Mejores jugadores del Cluster 0:\n",
            "               Player  xG/90\n",
            "190         Adam Idah   0.40\n",
            "107    Moussa Djenepo   0.31\n",
            "308  Giovani Lo Celso   0.30\n",
            "152    Anwar El Ghazi   0.25\n",
            "42    Steven Bergwijn   0.24\n",
            "\n",
            "Mejores jugadores del Cluster 2:\n",
            "                Player  xG/90\n",
            "356    Takumi Minamino   1.57\n",
            "37   Donny van de Beek   0.82\n",
            "30     Patrick Bamford   0.63\n",
            "86         Patson Daka   0.58\n",
            "525        Timo Werner   0.53\n",
            "\n",
            "Mejores jugadores del Cluster 1:\n",
            "                Player  xG/90\n",
            "135    Roberto Firmino   0.82\n",
            "269         Diogo Jota   0.69\n",
            "439      Mohamed Salah   0.63\n",
            "429  Cristiano Ronaldo   0.61\n",
            "477    Raheem Sterling   0.57\n",
            "\n",
            "Todos los datos de los mejores jugadores de cada cluster:\n",
            "           PC1        PC2       PC3       PC4       PC5  xG/90  Cluster  \\\n",
            "356   4.921836  10.789706 -1.710424 -0.721373 -0.303195   1.57        2   \n",
            "135   5.182355   3.846320 -0.272179 -0.977218  0.739142   0.82        1   \n",
            "37    2.990774   7.240553 -1.653056 -1.542134  0.235128   0.82        2   \n",
            "269  11.620634  -1.639829  1.499766 -1.004209  1.812065   0.69        1   \n",
            "439  15.485174  -1.884839  1.927668 -0.012142 -0.815383   0.63        1   \n",
            "30    3.012428   1.664441 -0.850814 -0.867947  0.491040   0.63        2   \n",
            "429   7.615139  -0.226786  1.574941 -1.873694  0.253067   0.61        1   \n",
            "86    3.371238   4.925458 -1.241440 -1.245131  0.022653   0.58        2   \n",
            "477   6.980816  -0.157797  0.542918 -1.540601 -0.901149   0.57        1   \n",
            "525   2.152218  -0.353039 -1.100500 -0.663766  0.111805   0.53        2   \n",
            "190  -0.648473  -0.097060 -0.829372 -1.366608  0.567701   0.40        0   \n",
            "107  -0.680025  -0.500264 -0.437061 -1.028794  0.165953   0.31        0   \n",
            "308  -1.042167   0.222714 -0.910173 -1.359561  0.576816   0.30        0   \n",
            "152  -0.600787   1.383861 -0.460720 -0.298082 -0.292820   0.25        0   \n",
            "42   -0.918829   0.442535 -0.596421 -0.865519  0.038728   0.24        0   \n",
            "\n",
            "                Player  \n",
            "356    Takumi Minamino  \n",
            "135    Roberto Firmino  \n",
            "37   Donny van de Beek  \n",
            "269         Diogo Jota  \n",
            "439      Mohamed Salah  \n",
            "30     Patrick Bamford  \n",
            "429  Cristiano Ronaldo  \n",
            "86         Patson Daka  \n",
            "477    Raheem Sterling  \n",
            "525        Timo Werner  \n",
            "190          Adam Idah  \n",
            "107     Moussa Djenepo  \n",
            "308   Giovani Lo Celso  \n",
            "152     Anwar El Ghazi  \n",
            "42     Steven Bergwijn  \n"
          ]
        }
      ]
    },
    {
      "cell_type": "markdown",
      "source": [
        "Los jugadores han sido agrupados en tres clusters basados en sus componentes principales obtenidas a partir de las variables de rendimiento. Vamos a comentar las características y el rendimiento de los mejores jugadores en cada cluster.\n",
        "\n",
        "\n",
        "\n",
        "*   CLUSTER 0: Este cluster parece agrupar jugadores con un rendimiento moderado en términos de goles esperados por 90 minutos (xG/90). Los jugadores en este grupo tienen xG/90 relativamente bajos comparados con los otros clusters. La variabilidad en las componentes principales muestra que estos jugadores tienen características similares en términos de sus métricas de rendimiento.\n",
        "\n",
        "* CLUSTER 1 : Los jugadores en este cluster tienen valores más altos de xG/90, lo que indica un rendimiento ofensivo superior en comparación con el Cluster 0. Takumi Minamino destaca significativamente con un xG/90 de 1.57, muy por encima de los otros jugadores en este cluster. Este grupo puede estar compuesto por jugadores que son más efectivos en generar oportunidades de gol.\n",
        "\n",
        "* CLUSTER 2 : Este cluster contiene jugadores con altos valores de xG/90, similares a los del Cluster 1. Jugadores de alto perfil como Mohamed Salah, Cristiano Ronaldo y Raheem Sterling están en este grupo, indicando su capacidad para generar consistentemente oportunidades de gol. Los jugadores en este cluster probablemente tienen un rol crucial en el ataque de sus equipos, siendo claves en términos de creación de oportunidades y goles.\n"
      ],
      "metadata": {
        "id": "WjBts5cOCR9Z"
      }
    },
    {
      "cell_type": "markdown",
      "source": [
        "Nos llama la atención el dato de 1.57 goles por cada 90 minutos de juego. Es probable que este promedio se deba a que el jugador ha sido suplente en equipos como el Liverpool y el Southampton, participando posiblemente en solo 5 partidos, justo en el límite de nuestro corte inicial.\n",
        "\n",
        "Este jugador podría desempeñarse en un \"rol de suplente decisivo\", alguien que entra en los últimos minutos del partido y logra anotar el gol que define el resultado. Por ejemplo, un valor alto de xG/90 podría ser el resultado de un número limitado de minutos en el campo, pero en circunstancias altamente favorables, como entrar como sustituto cuando el equipo está ejerciendo una presión ofensiva intensa o enfrentándose a los equipos más débiles de la liga.\n"
      ],
      "metadata": {
        "id": "1vKp54DsDZKc"
      }
    },
    {
      "cell_type": "code",
      "source": [
        "# Definir las estadísticas adicionales específicas para el análisis\n",
        "stats_columns = ['Player', 'Min', 'Gls', 'Ast', 'xG', 'npxG', 'xA', 'SCA', 'GCA', 'Gls/90', 'xG/90']\n",
        "\n",
        "# Extraer las estadísticas detalladas de Minamino\n",
        "minamino_additional_stats = data[data['Player'] == 'Takumi Minamino'][stats_columns]\n",
        "\n",
        "# Extraer las estadísticas adicionales del Cluster 1\n",
        "cluster_1_stats_indices = pc_df[pc_df['Cluster'] == 1].index\n",
        "cluster_1_additional_stats = data.loc[cluster_1_stats_indices, stats_columns]\n",
        "\n",
        "# Extraer las estadísticas adicionales del Cluster 2\n",
        "cluster_2_stats_indices = pc_df[pc_df['Cluster'] == 2].index\n",
        "cluster_2_additional_stats = data.loc[cluster_2_stats_indices, stats_columns]\n",
        "\n",
        "print(\"Estadísticas adicionales de Takumi Minamino:\")\n",
        "print(minamino_additional_stats)\n",
        "\n",
        "print(\"\\nEstadísticas adicionales del Cluster 1:\")\n",
        "print(cluster_1_additional_stats.describe())\n",
        "\n",
        "print(\"\\nEstadísticas adicionales del Cluster 2:\")\n",
        "print(cluster_2_additional_stats.describe())\n",
        "\n"
      ],
      "metadata": {
        "colab": {
          "base_uri": "https://localhost:8080/"
        },
        "id": "IeQ2ntC9DBuZ",
        "outputId": "78aa0513-4d2c-4678-992b-4cf23ff963d0"
      },
      "execution_count": null,
      "outputs": [
        {
          "output_type": "stream",
          "name": "stdout",
          "text": [
            "Estadísticas adicionales de Takumi Minamino:\n",
            "              Player  Min  Gls  Ast   xG  npxG   xA  SCA  GCA  Gls/90  xG/90\n",
            "356  Takumi Minamino   46    1    0  0.8   0.8  0.0    2    0    1.96   1.57\n",
            "\n",
            "Estadísticas adicionales del Cluster 1:\n",
            "               Min        Gls        Ast         xG       npxG         xA  \\\n",
            "count    36.000000  36.000000  36.000000  36.000000  36.000000  36.000000   \n",
            "mean   1272.722222   6.055556   2.555556   5.711111   5.188889   2.594444   \n",
            "std     287.920883   2.596090   2.117201   2.123848   1.955765   1.353502   \n",
            "min     440.000000   2.000000   0.000000   2.700000   2.700000   0.400000   \n",
            "25%    1067.250000   4.750000   1.000000   4.175000   3.925000   1.550000   \n",
            "50%    1293.500000   5.500000   2.000000   5.250000   4.650000   2.750000   \n",
            "75%    1480.250000   8.000000   3.000000   6.225000   5.525000   3.500000   \n",
            "max    1782.000000  16.000000   9.000000  12.500000  10.600000   6.800000   \n",
            "\n",
            "             SCA        GCA     Gls/90      xG/90  \n",
            "count  36.000000  36.000000  36.000000  36.000000  \n",
            "mean   45.000000   5.944444   0.438611   0.413611  \n",
            "std    18.316269   4.201663   0.163430   0.137200  \n",
            "min    14.000000   0.000000   0.140000   0.220000  \n",
            "25%    33.250000   3.000000   0.340000   0.300000  \n",
            "50%    43.000000   5.000000   0.435000   0.400000  \n",
            "75%    58.250000   8.000000   0.542500   0.482500  \n",
            "max    81.000000  19.000000   0.820000   0.820000  \n",
            "\n",
            "Estadísticas adicionales del Cluster 2:\n",
            "               Min         Gls         Ast          xG        npxG  \\\n",
            "count   128.000000  128.000000  128.000000  128.000000  128.000000   \n",
            "mean    952.273438    2.156250    1.484375    2.010156    1.863281   \n",
            "std     375.504274    1.288578    1.419684    0.871314    0.763732   \n",
            "min      46.000000    0.000000    0.000000    0.300000    0.300000   \n",
            "25%     656.750000    1.000000    1.000000    1.400000    1.275000   \n",
            "50%    1085.000000    2.000000    1.000000    2.000000    2.000000   \n",
            "75%    1147.250000    3.000000    2.000000    2.400000    2.200000   \n",
            "max    1788.000000    6.000000    9.000000    4.900000    4.400000   \n",
            "\n",
            "               xA         SCA         GCA      Gls/90       xG/90  \n",
            "count  128.000000  128.000000  128.000000  128.000000  128.000000  \n",
            "mean     1.450000   25.171875    2.890625    0.256953    0.224609  \n",
            "std      0.922851   16.057529    2.385106    0.275340    0.165995  \n",
            "min      0.000000    2.000000    0.000000    0.000000    0.040000  \n",
            "25%      0.975000   12.750000    1.000000    0.150000    0.160000  \n",
            "50%      1.400000   25.000000    3.000000    0.170000    0.170000  \n",
            "75%      1.700000   35.000000    4.000000    0.302500    0.270000  \n",
            "max      7.100000   90.000000   12.000000    1.960000    1.570000  \n"
          ]
        }
      ]
    },
    {
      "cell_type": "markdown",
      "source": [
        "Vemos que este jugador japonés perteneciente al Liverpool solo ha jugado 46 minutos en toda la temporada , aunque haya participado en mas de 5 partidos. **Vamos a añadir otra restricción a nuestro análisis vamos a poner minimo de partidos jugados 10 y minimo de minutos 500 para asi tener unos datos mas fiables**"
      ],
      "metadata": {
        "id": "kKojCuYEFIAo"
      }
    },
    {
      "cell_type": "code",
      "source": [
        "import pandas as pd\n",
        "from sklearn.decomposition import PCA\n",
        "from sklearn.preprocessing import StandardScaler\n",
        "from sklearn.cluster import KMeans\n",
        "\n",
        "# Filtrar jugadores que han jugado al menos 10 partidos y 500 minutos\n",
        "filtered_data = data[(data['MP'] >= 10) & (data['Min'] >= 500)]\n",
        "\n",
        "# Seleccionar las variables relevantes\n",
        "features = ['NPG', 'xG', 'npxG', 'npxG+xA', 'AttPenTouch', 'Gls/90', 'PressAtt3rd',\n",
        "            'G+A/90', 'xG+xA/90']\n",
        "\n",
        "# Definir las variables independientes\n",
        "X = filtered_data[features]\n",
        "\n",
        "# Estandarizar los datos\n",
        "scaler = StandardScaler()\n",
        "X_scaled = scaler.fit_transform(X)\n",
        "\n",
        "# Aplicar PCA\n",
        "pca = PCA(n_components=5)  # Reducir a 5 componentes principales para simplificar\n",
        "principal_components = pca.fit_transform(X_scaled)\n",
        "\n",
        "# Crear un DataFrame con las componentes principales\n",
        "pc_df = pd.DataFrame(data=principal_components, columns=[f'PC{i+1}' for i in range(5)])\n",
        "\n",
        "# Añadir la variable dependiente (xG/90) y los nombres de los jugadores\n",
        "pc_df['xG/90'] = filtered_data['xG/90'].values\n",
        "pc_df['Player'] = filtered_data['Player'].values\n",
        "\n",
        "# Aplicar K-Means Clustering\n",
        "kmeans = KMeans(n_clusters=3, random_state=42)\n",
        "pc_df['Cluster'] = kmeans.fit_predict(pc_df.drop(columns=['xG/90', 'Player']))\n",
        "\n",
        "# Imprimir la lista de jugadores en cada cluster\n",
        "for cluster in pc_df['Cluster'].unique():\n",
        "    print(f\"\\nJugadores en el Cluster {cluster}:\")\n",
        "    cluster_players = pc_df[pc_df['Cluster'] == cluster]\n",
        "    print(cluster_players['Player'].tolist())\n"
      ],
      "metadata": {
        "colab": {
          "base_uri": "https://localhost:8080/"
        },
        "id": "RVBUfty4GR2x",
        "outputId": "145c55a7-0833-42e4-a092-6809134283d3"
      },
      "execution_count": null,
      "outputs": [
        {
          "output_type": "stream",
          "name": "stdout",
          "text": [
            "\n",
            "Jugadores en el Cluster 2:\n",
            "['Max Aarons', 'Alisson', 'Allan', 'Dele Alli', 'Miguel Almirón', 'Daniel Amartey', 'Joachim Andersen', 'Luke Ayling', 'César Azpilicueta', 'Daniel Bachmann', 'Shandon Baptiste', 'Jan Bednarek', 'Jóhann Berg Guðmundsson', 'Yves Bissouma', 'Josh Brownhill', 'Dan Burn', 'Matty Cash', 'Timothy Castagne', 'Craig Cathcart', 'Trevoh Chalobah', 'Andreas Christensen', 'Ciaran Clark', 'Tom Cleverley', 'Conor Coady', 'Séamus Coleman', 'Liam Cooper', 'Vladimír Coufal', 'Aaron Cresswell', 'Marc Cucurella', 'Stuart Dallas', 'Craig Dawson', 'Leander Dendoncker', 'Ibrahima Diallo', 'Rúben Dias', 'Eric Dier', 'Lucas Digne', 'Virgil van Dijk', 'Gabriel Dos Santos', 'Shane Duffy', 'Lewis Dunk', 'Ederson', 'Emerson', 'Jonny Evans', 'Łukasz Fabiański', 'Fabinho', 'Kiko Femenía', 'Álvaro Fernández', 'Fernandinho', 'Junior Firpo', 'Adam Forshaw', 'Ryan Fraser', 'Fred', 'David de Gea', 'Dimitris Giannoulis', 'Ben Gibson', 'Billy Gilmour', 'Ben Godfrey', 'Pascal Groß', 'Vicente Guaita', 'Marc Guéhi', 'Grant Hanley', 'Isaac Hayden', 'Rico Henry', 'Pierre Højbjerg', 'Vitaly Janelt', 'Pontus Jansson', 'Mathias Jensen', 'Ben Johnson', 'Michael Keane', 'Max Kilman', 'Ezri Konsa', 'Cheikhou Kouyaté', 'Tim Krul', 'Juraj Kucka', 'Adam Lallana', 'Tariq Lamptey', 'Jamaal Lascelles', 'Pierre Lees-Melou', 'Victor Lindelöf', 'Valentino Livramento', 'Diego Llorente', 'Hugo Lloris', 'Ruben Loftus-Cheek', 'Sean Longstaff', 'Matthew Lowton', 'Douglas Luiz', 'Harry Maguire', 'Javier Manquillo', 'Fernando Marçal', 'Solly March', 'Emiliano Martínez', 'Adam Masina', 'Nemanja Matić', 'Joël Matip', 'James McArthur', 'Alex McCarthy', 'Kenny McLean', 'Dwight McNeil', 'Scott McTominay', 'Ben Mee', 'Edouard Mendy', 'Illan Meslier', 'James Milner', 'Tyrone Mings', 'Tyrick Mitchell', 'João Moutinho', 'Jacob Murphy', 'Marvelous Nakamba', 'Wilfred Ndidi', 'Rúben Neves', 'Angelo Ogbonna', 'Frank Onyeka', 'Alex Oxlade-Chamberlain', 'Thomas Partey', 'Kalvin Phillips', 'Jordan Pickford', 'Ethan Pinnock', 'Nick Pope', 'Aaron Ramsdale', 'Milot Rashica', 'Declan Rice', 'Matt Ritchie', 'Oriol Romeu', 'Antonio Rüdiger', 'José Sá', 'Romain Saïss', 'Mohammed Salisu', 'Albert Sambi Lokonga', 'Davinson Sánchez', 'Robert Sánchez', 'Josh Sargent', 'Kasper Schmeichel', 'Nélson Semedo', 'Jamie Shackleton', 'Luke Shaw', 'Jonjo Shelvey', 'Thiago Silva', 'Moussa Sissoko', 'Oliver Skipp', 'Boubakary Soumaré', 'Çağlar Söyüncü', 'Pascal Struijk', 'Matt Targett', 'James Tarkowski', 'Nuno Tavares', 'Charlie Taylor', 'Luke Thomas', 'Kieran Tierney', 'Takehiro Tomiyasu', 'William Troost-Ekong', 'Joël Veltman', 'Kyle Walker', 'Kyle Walker-Peters', 'Aaron Wan-Bissaka', 'Joel Ward', 'Adam Webster', 'Ashley Westwood', 'Ben White', 'Brandon Williams', 'Joe Willock', 'Granit Xhaka', 'Ashley Young', 'Kurt Zouma']\n",
            "\n",
            "Jugadores en el Cluster 0:\n",
            "['Che Adams', 'Thiago Alcántara', 'Trent Alexander-Arnold', 'Marcos Alonso', 'Adam Armstrong', 'Jordan Ayew', 'Harvey Barnes', 'Saïd Benrahma', 'Armando Broja', 'Emi Buendía', 'João Cancelo', 'Sergi Canós', 'Cucho', 'Abdoulaye Doucouré', 'Mohamed Elyounoussi', 'Pablo Fornals', 'Anthony Gordon', 'Demarai Gray', 'Mason Greenwood', 'Jack Harrison', 'Kai Havertz', 'Hwang Hee-chan', 'Jordan Henderson', 'Callum Hudson-Odoi', 'Kelechi Iheanacho', 'Danny Ings', 'Alex Iwobi', 'Daniel James', 'Daniel James', 'Daniel James', 'Daniel James', 'Daniel James', 'Daniel James', 'Daniel James', 'Daniel James', 'Daniel James', 'Daniel James', 'Daniel James', 'Daniel James', 'Daniel James', 'Daniel James', 'Daniel James', 'Daniel James', 'Daniel James', 'Daniel James', 'Daniel James', 'Daniel James', 'Daniel James', 'Daniel James', 'Daniel James', 'Daniel James', 'Daniel James', 'Daniel James', 'Daniel James', 'Daniel James', 'Daniel James', 'Daniel James', 'Daniel James', 'Daniel James', 'Reece James', 'Raúl Jiménez', 'Joelinton', 'Jorginho', \"N'Golo Kanté\", 'Naby Keïta', 'Mateusz Klich', 'Mateo Kovačić', 'Alexandre Lacazette', 'Manuel Lanzini', 'Aymeric Laporte', 'Ademola Lookman', 'Alexis Mac Allister', 'John McGinn', 'Jakub Moder', 'Lucas Moura', 'Enock Mwepu', 'Christian Nørgaard', 'João Pedro', 'Daniel Podence', 'Christian Pulisic', 'Jacob Ramsey', 'Marcus Rashford', 'Nathan Redmond', 'Sergio Reguilón', 'Richarlison', 'Tyler Roberts', 'Andrew Robertson', 'Rodri', 'Rodrigo', 'Salomón Rondón', 'Allan Saint-Maximin', 'Jadon Sancho', 'Ismaila Sarr', 'Jeffrey Schlupp', 'Tomáš Souček', 'Youri Tielemans', 'Ivan Toney', 'Andros Townsend', 'Adama Traoré', 'Francisco Trincão', 'Leandro Trossard', 'James Ward-Prowse', 'Chris Wood', 'Wilfried Zaha', 'Hakim Ziyech', 'Martin Ødegaard']\n",
            "\n",
            "Jugadores en el Cluster 1:\n",
            "['Michail Antonio', 'Pierre-Emerick Aubameyang', 'Christian Benteke', 'Jarrod Bowen', 'Maxwel Cornet', 'Kevin De Bruyne', 'Emmanuel Dennis', 'Raphael Dias Belloli', 'Odsonne Édouard', 'Bruno Fernandes', 'Phil Foden', 'Conor Gallagher', 'Jack Grealish', 'İlkay Gündoğan', 'Son Heung-min', 'Gabriel Jesus', 'Diogo Jota', 'Harry Kane', 'Joshua King', 'Romelu Lukaku', 'James Maddison', 'Riyad Mahrez', 'Sadio Mané', 'Martinelli', 'Neal Maupay', 'Bryan Mbeumo', 'Mason Mount', 'Teemu Pukki', 'Cristiano Ronaldo', 'Bukayo Saka', 'Mohamed Salah', 'Bernardo Silva', 'Emile Smith Rowe', 'Raheem Sterling', 'Jamie Vardy', 'Ollie Watkins', 'Callum Wilson']\n"
          ]
        },
        {
          "output_type": "stream",
          "name": "stderr",
          "text": [
            "/usr/local/lib/python3.10/dist-packages/sklearn/cluster/_kmeans.py:870: FutureWarning: The default value of `n_init` will change from 10 to 'auto' in 1.4. Set the value of `n_init` explicitly to suppress the warning\n",
            "  warnings.warn(\n"
          ]
        }
      ]
    },
    {
      "cell_type": "markdown",
      "source": [
        "Podemos observar a todos los jugadores que han acumulado más de 500 minutos en el campo y han participado en al menos 10 partidos de la liga, clasificados por clusters. Para facilitar el análisis, vamos a presentar tres tablas ordenadas de mayor a menor, una para cada cluster.\n"
      ],
      "metadata": {
        "id": "4-l0KGjtHN0Q"
      }
    },
    {
      "cell_type": "code",
      "source": [
        "import pandas as pd\n",
        "from sklearn.decomposition import PCA\n",
        "from sklearn.preprocessing import StandardScaler\n",
        "from sklearn.cluster import KMeans\n",
        "\n",
        "# Filtrar jugadores que han jugado al menos 10 partidos y 500 minutos\n",
        "filtered_data = data[(data['MP'] >= 10) & (data['Min'] >= 500)]\n",
        "\n",
        "# Seleccionar las variables relevantes\n",
        "features = ['NPG', 'xG', 'npxG', 'npxG+xA', 'AttPenTouch', 'Gls/90', 'PressAtt3rd',\n",
        "            'G+A/90', 'xG+xA/90']\n",
        "\n",
        "# Definir las variables independientes\n",
        "X = filtered_data[features]\n",
        "\n",
        "# Estandarizar los datos\n",
        "scaler = StandardScaler()\n",
        "X_scaled = scaler.fit_transform(X)\n",
        "\n",
        "# Aplicar PCA\n",
        "pca = PCA(n_components=5)  # Reducir a 5 componentes principales para simplificar\n",
        "principal_components = pca.fit_transform(X_scaled)\n",
        "\n",
        "# Crear un DataFrame con las componentes principales\n",
        "pc_df = pd.DataFrame(data=principal_components, columns=[f'PC{i+1}' for i in range(5)])\n",
        "\n",
        "# Añadir la variable dependiente (xG/90) y los nombres de los jugadores\n",
        "pc_df['xG/90'] = filtered_data['xG/90'].values\n",
        "pc_df['Player'] = filtered_data['Player'].values\n",
        "\n",
        "# Aplicar K-Means Clustering\n",
        "kmeans = KMeans(n_clusters=3, random_state=42)\n",
        "pc_df['Cluster'] = kmeans.fit_predict(pc_df.drop(columns=['xG/90', 'Player']))\n",
        "\n",
        "# Imprimir la lista de jugadores en cada cluster, ordenados de mayor a menor xG/90\n",
        "for cluster in pc_df['Cluster'].unique():\n",
        "    print(f\"\\nJugadores en el Cluster {cluster}, ordenados por xG/90 de mayor a menor:\")\n",
        "    cluster_players = pc_df[pc_df['Cluster'] == cluster].sort_values(by='xG/90', ascending=False)\n",
        "    print(cluster_players['Player'].tolist())\n",
        "\n"
      ],
      "metadata": {
        "colab": {
          "base_uri": "https://localhost:8080/"
        },
        "id": "0tN8Qh1qHewE",
        "outputId": "3d315ab1-11d0-4882-c764-01888b4435b6"
      },
      "execution_count": null,
      "outputs": [
        {
          "output_type": "stream",
          "name": "stdout",
          "text": [
            "\n",
            "Jugadores en el Cluster 2, ordenados por xG/90 de mayor a menor:\n",
            "['Dele Alli', 'Josh Sargent', 'Jóhann Berg Guðmundsson', 'Davinson Sánchez', 'Fernandinho', 'Dan Burn', 'Milot Rashica', 'Ruben Loftus-Cheek', 'Romain Saïss', 'Jacob Murphy', 'Juraj Kucka', 'Vitaly Janelt', 'Thomas Partey', 'Sean Longstaff', 'Jonny Evans', 'Nuno Tavares', 'Pierre Lees-Melou', 'James Tarkowski', 'Solly March', 'Antonio Rüdiger', 'Frank Onyeka', 'Ben Mee', 'Shandon Baptiste', 'Leander Dendoncker', 'Joël Matip', 'Pascal Groß', 'Adam Lallana', 'Virgil van Dijk', 'Nélson Semedo', 'Marc Guéhi', 'Craig Dawson', 'Ryan Fraser', 'Çağlar Söyüncü', 'Ezri Konsa', 'Pontus Jansson', 'Miguel Almirón', 'Rico Henry', 'Ethan Pinnock', 'Stuart Dallas', 'Ben Gibson', 'Rúben Dias', 'Wilfred Ndidi', 'Joe Willock', 'Alex Oxlade-Chamberlain', 'Kenny McLean', 'Ciaran Clark', 'Pierre Højbjerg', 'Ben Godfrey', 'Tariq Lamptey', 'Jan Bednarek', 'Fabinho', 'Matty Cash', 'Trevoh Chalobah', 'Shane Duffy', 'Conor Coady', 'Granit Xhaka', 'Junior Firpo', 'Josh Brownhill', 'Scott McTominay', 'Kalvin Phillips', 'Harry Maguire', 'Moussa Sissoko', 'Gabriel Dos Santos', 'Grant Hanley', 'Ibrahima Diallo', 'César Azpilicueta', 'Ashley Young', 'Albert Sambi Lokonga', 'Rúben Neves', 'Javier Manquillo', 'João Moutinho', 'Fernando Marçal', 'Valentino Livramento', 'Tyrone Mings', 'Dwight McNeil', 'Max Kilman', 'Michael Keane', 'Isaac Hayden', 'Luke Ayling', 'Fred', 'Yves Bissouma', 'Jonjo Shelvey', 'Kieran Tierney', 'Tom Cleverley', 'Matt Targett', 'Ashley Westwood', 'James Milner', 'Thiago Silva', 'Boubakary Soumaré', 'Angelo Ogbonna', 'Mohammed Salisu', 'Oriol Romeu', 'Matt Ritchie', 'Declan Rice', 'Max Aarons', 'Kurt Zouma', 'Andreas Christensen', 'Emerson', 'Lewis Dunk', 'Billy Gilmour', 'Lucas Digne', 'Matthew Lowton', 'Aaron Cresswell', 'Jamaal Lascelles', 'James McArthur', 'Adam Forshaw', 'Kyle Walker-Peters', 'Joel Ward', 'Jamie Shackleton', 'Mathias Jensen', 'Eric Dier', 'Marc Cucurella', 'Diego Llorente', 'Vladimír Coufal', 'Liam Cooper', 'Douglas Luiz', 'Joachim Andersen', 'Adam Masina', 'Nemanja Matić', 'Takehiro Tomiyasu', 'Luke Shaw', 'Oliver Skipp', 'Pascal Struijk', 'Charlie Taylor', 'Séamus Coleman', 'Luke Thomas', 'Dimitris Giannoulis', 'Cheikhou Kouyaté', 'Joël Veltman', 'Kyle Walker', 'Allan', 'Adam Webster', 'Ben Johnson', 'William Troost-Ekong', 'Tyrick Mitchell', 'Victor Lindelöf', 'Ben White', 'Brandon Williams', 'Daniel Amartey', 'Timothy Castagne', 'Daniel Bachmann', 'Aaron Wan-Bissaka', 'Craig Cathcart', 'Alex McCarthy', 'Robert Sánchez', 'Kasper Schmeichel', 'Ederson', 'Edouard Mendy', 'Illan Meslier', 'Emiliano Martínez', 'Alisson', 'Marvelous Nakamba', 'Tim Krul', 'Jordan Pickford', 'Vicente Guaita', 'Nick Pope', 'Aaron Ramsdale', 'David de Gea', 'Álvaro Fernández', 'José Sá', 'Kiko Femenía', 'Łukasz Fabiański', 'Hugo Lloris']\n",
            "\n",
            "Jugadores en el Cluster 0, ordenados por xG/90 de mayor a menor:\n",
            "['Alexandre Lacazette', 'Hakim Ziyech', 'Alexis Mac Allister', 'Armando Broja', 'Jorginho', 'Kelechi Iheanacho', 'Adam Armstrong', 'Christian Pulisic', 'Kai Havertz', 'Ademola Lookman', 'Chris Wood', 'Ismaila Sarr', 'Manuel Lanzini', 'Francisco Trincão', 'Danny Ings', 'Mohamed Elyounoussi', 'Tyler Roberts', 'Rodrigo', 'Mason Greenwood', 'Ivan Toney', 'Salomón Rondón', 'Che Adams', 'Richarlison', 'Youri Tielemans', 'Wilfried Zaha', 'Lucas Moura', 'Saïd Benrahma', 'Leandro Trossard', 'Callum Hudson-Odoi', 'Enock Mwepu', 'Hwang Hee-chan', 'Raúl Jiménez', 'Harvey Barnes', 'Thiago Alcántara', 'Pablo Fornals', 'James Ward-Prowse', 'Naby Keïta', 'Allan Saint-Maximin', 'Demarai Gray', 'Daniel James', 'Daniel James', 'Daniel James', 'Daniel James', 'Aymeric Laporte', 'Daniel James', 'Daniel James', 'Marcus Rashford', 'Jeffrey Schlupp', 'Daniel James', 'Daniel James', 'Daniel James', 'Daniel James', 'Daniel James', 'Daniel James', 'Daniel James', 'Daniel James', 'Daniel James', 'Daniel James', 'Daniel James', 'Daniel James', 'Daniel James', 'Daniel James', 'Daniel James', 'Daniel James', 'Daniel James', 'Daniel James', 'Daniel James', 'Daniel James', 'Daniel James', 'Daniel James', 'Daniel James', 'Daniel James', 'Daniel James', 'Daniel James', 'João Pedro', 'Anthony Gordon', 'Adama Traoré', 'Daniel Podence', 'Andros Townsend', 'Jordan Ayew', 'Reece James', 'Tomáš Souček', 'Nathan Redmond', 'Abdoulaye Doucouré', 'Jakub Moder', 'Mateusz Klich', 'Cucho', 'Sergi Canós', 'Alex Iwobi', 'Jadon Sancho', 'Christian Nørgaard', 'Emi Buendía', 'Mateo Kovačić', 'Marcos Alonso', 'Trent Alexander-Arnold', 'João Cancelo', 'Martin Ødegaard', 'Jacob Ramsey', 'Joelinton', \"N'Golo Kanté\", 'Sergio Reguilón', 'Jack Harrison', 'Rodri', 'Andrew Robertson', 'Jordan Henderson', 'John McGinn']\n",
            "\n",
            "Jugadores en el Cluster 1, ordenados por xG/90 de mayor a menor:\n",
            "['Diogo Jota', 'Mohamed Salah', 'Cristiano Ronaldo', 'Raheem Sterling', 'Riyad Mahrez', 'Sadio Mané', 'Pierre-Emerick Aubameyang', 'Phil Foden', 'Harry Kane', 'İlkay Gündoğan', 'Odsonne Édouard', 'Christian Benteke', 'Joshua King', 'Mason Mount', 'Jamie Vardy', 'Son Heung-min', 'Romelu Lukaku', 'Michail Antonio', 'Raphael Dias Belloli', 'Neal Maupay', 'Bryan Mbeumo', 'Martinelli', 'Gabriel Jesus', 'Ollie Watkins', 'Callum Wilson', 'James Maddison', 'Jack Grealish', 'Jarrod Bowen', 'Emmanuel Dennis', 'Maxwel Cornet', 'Teemu Pukki', 'Bukayo Saka', 'Kevin De Bruyne', 'Emile Smith Rowe', 'Bruno Fernandes', 'Conor Gallagher', 'Bernardo Silva']\n"
          ]
        },
        {
          "output_type": "stream",
          "name": "stderr",
          "text": [
            "/usr/local/lib/python3.10/dist-packages/sklearn/cluster/_kmeans.py:870: FutureWarning: The default value of `n_init` will change from 10 to 'auto' in 1.4. Set the value of `n_init` explicitly to suppress the warning\n",
            "  warnings.warn(\n"
          ]
        }
      ]
    },
    {
      "cell_type": "markdown",
      "source": [
        "Observamos que los jugadores más determinantes a nivel goleador de la temporada 2021-2022 de la Premier League son los siguientes:\n",
        "\n",
        "- Diogo Jota\n",
        "- Mohamed Salah\n",
        "- Cristiano Ronaldo\n",
        "- Raheem Sterling\n",
        "- Riyad Mahrez\n",
        "- Sadio Mané\n",
        "- Pierre-Emerick Aubameyang\n",
        "- Phil Foden\n",
        "- Harry Kane\n",
        "- Ilkay Gündogan\n",
        "- Odsonne Édouard\n",
        "- Christian Benteke\n",
        "- Joshua King\n",
        "- Mason Mount\n",
        "- Jamie Vardy\n",
        "- Heung-min Son\n",
        "- Romelu Lukaku\n",
        "\n"
      ],
      "metadata": {
        "id": "MvjCCcDWIDeX"
      }
    },
    {
      "cell_type": "code",
      "source": [
        "import pandas as pd\n",
        "from sklearn.decomposition import PCA\n",
        "from sklearn.preprocessing import StandardScaler\n",
        "from sklearn.cluster import KMeans\n",
        "import matplotlib.pyplot as plt\n",
        "\n",
        "# Filtrar jugadores que han jugado al menos 10 partidos y 500 minutos\n",
        "filtered_data = data[(data['MP'] >= 10) & (data['Min'] >= 500)]\n",
        "\n",
        "# Seleccionar las variables relevantes\n",
        "features = ['NPG', 'xG', 'npxG', 'npxG+xA', 'AttPenTouch', 'Gls/90', 'PressAtt3rd',\n",
        "            'G+A/90', 'xG+xA/90']\n",
        "\n",
        "# Definir las variables independientes\n",
        "X = filtered_data[features]\n",
        "\n",
        "# Estandarizar los datos\n",
        "scaler = StandardScaler()\n",
        "X_scaled = scaler.fit_transform(X)\n",
        "\n",
        "# Aplicar PCA\n",
        "pca = PCA(n_components=5)  # Reducir a 5 componentes principales para simplificar\n",
        "principal_components = pca.fit_transform(X_scaled)\n",
        "\n",
        "# Crear un DataFrame con las componentes principales\n",
        "pc_df = pd.DataFrame(data=principal_components, columns=[f'PC{i+1}' for i in range(5)])\n",
        "\n",
        "# Añadir la variable dependiente (xG/90) y los nombres de los jugadores\n",
        "pc_df['xG/90'] = filtered_data['xG/90'].values\n",
        "pc_df['Player'] = filtered_data['Player'].values\n",
        "\n",
        "# Aplicar K-Means Clustering\n",
        "kmeans = KMeans(n_clusters=3, random_state=42)\n",
        "pc_df['Cluster'] = kmeans.fit_predict(pc_df.drop(columns=['xG/90', 'Player']))\n",
        "\n",
        "# Filtrar los jugadores del Cluster 1\n",
        "cluster_1_players = pc_df[pc_df['Cluster'] == 1]\n",
        "\n",
        "# Crear un gráfico de dispersión para los jugadores del Cluster 1\n",
        "plt.figure(figsize=(10, 6))\n",
        "plt.scatter(cluster_1_players['PC1'], cluster_1_players['PC2'], c='blue', label='Cluster 1')\n",
        "for i, player in cluster_1_players.iterrows():\n",
        "    plt.annotate(player['Player'], (player['PC1'], player['PC2']), fontsize=9)\n",
        "plt.title('Jugadores del Cluster 1')\n",
        "plt.xlabel('Componente Principal 1')\n",
        "plt.ylabel('Componente Principal 2')\n",
        "plt.legend()\n",
        "plt.show()\n"
      ],
      "metadata": {
        "colab": {
          "base_uri": "https://localhost:8080/",
          "height": 621
        },
        "id": "PM0wZSHSIiDh",
        "outputId": "ba5ca8a2-7ede-4427-8466-860037e951f6"
      },
      "execution_count": null,
      "outputs": [
        {
          "output_type": "stream",
          "name": "stderr",
          "text": [
            "/usr/local/lib/python3.10/dist-packages/sklearn/cluster/_kmeans.py:870: FutureWarning: The default value of `n_init` will change from 10 to 'auto' in 1.4. Set the value of `n_init` explicitly to suppress the warning\n",
            "  warnings.warn(\n"
          ]
        },
        {
          "output_type": "display_data",
          "data": {
            "text/plain": [
              "<Figure size 1000x600 with 1 Axes>"
            ],
            "image/png": "[encoded data removed]"
          },
          "metadata": {}
        }
      ]
    },
    {
      "cell_type": "markdown",
      "source": [
        "#### Análisis de Cluster 1: Diversidad y Rendimiento\n",
        "\n",
        "**Jugadores de Alto Rendimiento**:\n",
        "- **Mohamed Salah, Sadio Mané y Diogo Jota** se destacan en el gráfico, lo que evidencia su sobresaliente rendimiento en métricas ofensivas. Estos jugadores ocupan posiciones avanzadas en el gráfico, lo que sugiere que lideran en términos de contribuciones ofensivas específicas, como goles y asistencias por 90 minutos.\n",
        "\n",
        "**Rendimiento Promedio**:\n",
        "- **Cristiano Ronaldo, Kevin De Bruyne, Jamie Vardy y Son Heung-min** aparecen más centralizados en el gráfico. Esta ubicación indica un rendimiento fuerte pero más equilibrado en comparación con los extremos del gráfico. Refleja su habilidad para desempeñarse bien en una variedad de métricas ofensivas y defensivas, manteniendo un equilibrio que beneficia a sus respectivos equipos.\n",
        "\n",
        "**Diversidad dentro del Cluster**:\n",
        "- A pesar de que todos los jugadores en el Cluster 1 comparten características comunes, la diversidad observada en términos de las componentes principales es considerable. Estas componentes capturan diferentes aspectos del rendimiento de los jugadores, desde la capacidad de gol hasta la presión defensiva y el manejo de la pelota en áreas críticas. Esto demuestra que, incluso dentro de un grupo de alto rendimiento, las fortalezas individuales pueden variar significativamente, ofreciendo un espectro amplio de habilidades y roles dentro del mismo cluster.\n"
      ],
      "metadata": {
        "id": "Ln3nr-I4I1H3"
      }
    },
    {
      "cell_type": "markdown",
      "source": [
        "A continuación, crearemos la variable binaria polivalente que indica si un jugador tiene una \"Secondary_Pos\":"
      ],
      "metadata": {
        "id": "IWTmjUb2FckU"
      }
    },
    {
      "cell_type": "markdown",
      "source": [
        "El informe de clasificación muestra el rendimiento del modelo en predecir si un jugador es polivalente (1) o no (0) :\n",
        "\n",
        "\n",
        "\n",
        "*   La precisión indica la proporción de verdaderos positivos sobre el total de predicciones positivas. En otras palabras, de todas las predicciones de jugadores polivalentes, el 86% son correctas, y de todas las predicciones de no polivalentes, el 87% son correctas.\n",
        "*   La sensibilidad mide la proporción de verdaderos positivos sobre el total de positivos reales. Para la clase 0, el modelo identifica correctamente el 98% de los jugadores no polivalentes, pero solo identifica correctamente el 50% de los jugadores polivalentes.\n",
        "\n",
        "* El F1-Score es la media armónica de la precisión y la sensibilidad. Un F1-Score más bajo en la clase 1 sugiere que el modelo tiene dificultades para predecir correctamente a los jugadores polivalentes.\n",
        "\n",
        "* La exactitud es la proporción de todas las predicciones correctas (tanto verdaderos positivos como verdaderos negativos) sobre el total de predicciones\n",
        "\n",
        "\n",
        "\n",
        "\n",
        "\n",
        "\n"
      ],
      "metadata": {
        "id": "fMsld7TeIL9W"
      }
    },
    {
      "cell_type": "markdown",
      "source": [
        "**Vamos a mejorar nuestro modelo de cluster filtrando si tienen mas de una posición o no**\n",
        "\n"
      ],
      "metadata": {
        "id": "ApvOvoeZJf-n"
      }
    },
    {
      "cell_type": "code",
      "source": [
        "# Filtrar jugadores con más de una posición\n",
        "multi_position_players = data[data['Secondary_pos'] != 'NA']\n",
        "\n",
        "# Seleccionar características y etiquetas\n",
        "X = multi_position_players[['Gls', 'MP']]  # Puedes añadir más características si es necesario\n",
        "y = multi_position_players['Primary_pos']\n",
        "\n",
        "# Dividir los datos en conjuntos de entrenamiento y prueba\n",
        "X_train, X_test, y_train, y_test = train_test_split(X, y, test_size=0.2, random_state=42)\n",
        "\n",
        "# Entrenar el modelo de regresión logística\n",
        "log_reg = LogisticRegression(multi_class='ovr', solver='liblinear')\n",
        "log_reg.fit(X_train, y_train)\n",
        "\n",
        "# Predecir las etiquetas en el conjunto de prueba\n",
        "y_pred = log_reg.predict(X_test)\n",
        "\n",
        "# Evaluar el modelo\n",
        "conf_matrix = confusion_matrix(y_test, y_pred)\n",
        "class_report = classification_report(y_test, y_pred)\n",
        "\n",
        "# Mostrar la matriz de confusión y el informe de clasificación\n",
        "print(\"Confusion Matrix:\")\n",
        "print(conf_matrix)\n",
        "print(\"\\nClassification Report:\")\n",
        "print(class_report)\n",
        "\n",
        "# Crear un heatmap de la matriz de confusión\n",
        "plt.figure(figsize=(10, 7))\n",
        "sns.heatmap(conf_matrix, annot=True, fmt='d', xticklabels=y.unique(), yticklabels=y.unique())\n",
        "plt.xlabel('Predicted')\n",
        "plt.ylabel('True')\n",
        "plt.title('Confusion Matrix for Multi-Position Players')\n",
        "plt.show()\n"
      ],
      "metadata": {
        "colab": {
          "base_uri": "https://localhost:8080/",
          "height": 1000
        },
        "id": "MiIz5xwhsVWY",
        "outputId": "1ec82a15-0052-435f-fc1b-a2b9df9f4df1"
      },
      "execution_count": null,
      "outputs": [
        {
          "output_type": "stream",
          "name": "stderr",
          "text": [
            "/usr/local/lib/python3.10/dist-packages/sklearn/metrics/_classification.py:1344: UndefinedMetricWarning: Precision and F-score are ill-defined and being set to 0.0 in labels with no predicted samples. Use `zero_division` parameter to control this behavior.\n",
            "  _warn_prf(average, modifier, msg_start, len(result))\n",
            "/usr/local/lib/python3.10/dist-packages/sklearn/metrics/_classification.py:1344: UndefinedMetricWarning: Precision and F-score are ill-defined and being set to 0.0 in labels with no predicted samples. Use `zero_division` parameter to control this behavior.\n",
            "  _warn_prf(average, modifier, msg_start, len(result))\n",
            "/usr/local/lib/python3.10/dist-packages/sklearn/metrics/_classification.py:1344: UndefinedMetricWarning: Precision and F-score are ill-defined and being set to 0.0 in labels with no predicted samples. Use `zero_division` parameter to control this behavior.\n",
            "  _warn_prf(average, modifier, msg_start, len(result))\n"
          ]
        },
        {
          "output_type": "stream",
          "name": "stdout",
          "text": [
            "Confusion Matrix:\n",
            "[[ 0  2  0]\n",
            " [ 0 19  0]\n",
            " [ 0  4  0]]\n",
            "\n",
            "Classification Report:\n",
            "              precision    recall  f1-score   support\n",
            "\n",
            "          DF       0.00      0.00      0.00         2\n",
            "          FW       0.76      1.00      0.86        19\n",
            "          MF       0.00      0.00      0.00         4\n",
            "\n",
            "    accuracy                           0.76        25\n",
            "   macro avg       0.25      0.33      0.29        25\n",
            "weighted avg       0.58      0.76      0.66        25\n",
            "\n"
          ]
        },
        {
          "output_type": "display_data",
          "data": {
            "text/plain": [
              "<Figure size 1000x700 with 2 Axes>"
            ],
            "image/png": "[encoded data removed]"
          },
          "metadata": {}
        }
      ]
    },
    {
      "cell_type": "markdown",
      "source": [
        "DF (Defensa): Se predijeron 0 instancias correctamente como DF, mientras que 2 instancias se clasificaron incorrectamente como FW (Delantero).\n",
        "\n",
        "FW (Delantero): Se predijeron correctamente 19 instancias como FW. No hubo errores de predicción en esta categoría.\n",
        "\n",
        "MF (Mediocampista): Se predijeron 0 instancias correctamente como MF, mientras que 4 instancias se clasificaron incorrectamente como FW.\n",
        "\n",
        "El modelo tiene un rendimiento aceptable en la categoría de delanteros (FW), con alta precisión y recall.\n",
        "El rendimiento es muy bajo en las categorías de defensa (DF) y mediocampista (MF), con precisión, recall y F1-score de 0.\n",
        "La alta exactitud del modelo (76%) se debe principalmente a la correcta clasificación de los delanteros, que constituyen la mayoría de las instancias."
      ],
      "metadata": {
        "id": "B4X2KRd4slGR"
      }
    },
    {
      "cell_type": "markdown",
      "source": [
        "Vamos a hacerlo con mas variables no solo con goles y MP"
      ],
      "metadata": {
        "id": "IQqijeZCs2p-"
      }
    },
    {
      "cell_type": "code",
      "source": [
        "\n",
        "\n",
        "# Filtrar jugadores con más de una posición\n",
        "multi_position_players = data[data['Secondary_pos'] != 'NA']\n",
        "\n",
        "# Seleccionar características y etiquetas, añadiendo más características relevantes\n",
        "features = [\n",
        "    'Gls', 'MP', 'Starts', 'Min', '90s', 'Ast', 'NPG', 'PG', 'PA_x', 'YC', 'RC',\n",
        "    'Gls/90', 'Ast/90', 'G+A/90', 'xG', 'npxG', 'xA', 'npxG+xA', 'xG/90', 'xA/90',\n",
        "    'xG+xA/90', 'npxG/90', 'npxG+xA/90', 'SCA', 'SCA/90', 'SCPass', 'SCDeadPass',\n",
        "    'SCDrib', 'GCA', 'GCA/90', 'GCPass', 'GCDeadPass', 'GCDrib', 'PossTkl',\n",
        "    'TklDef3rd', 'TklMid3rd', 'TklAtt3rd', 'DriblTkl%', 'DriblledPast', '%SuccPress',\n",
        "    'PressDef3rd', 'PressMid3rd', 'PressAtt3rd', 'Blocks', 'ShotBlocks', 'Interception',\n",
        "    'Clearances', 'GoalErrors', 'TCP', 'PA_y', 'TotDist', 'PrgDist', 'TSPC', 'SPA', 'TMPC',\n",
        "    'MPA', 'TLPC', 'LPA', 'KeyP', 'Pass18', 'Cross18', 'ProgPass', 'Live', 'Dead', 'FKPass',\n",
        "    'PressPass', 'Cross', 'LeftP', 'RightP', 'Touches', 'Def3rdTouch', 'Mid3rdTouch',\n",
        "    'Att3rdTouch', 'AttPenTouch', 'SuccDrib', 'AtmpDrib', 'Nutnegs', 'Carries',\n",
        "    'TotDistCarry', 'PrgDistCarry', 'CarryAtt3rd', 'Carry18Yd', 'CarryDIsp'\n",
        "]\n",
        "X = multi_position_players[features]\n",
        "y = multi_position_players['Primary_pos']\n",
        "\n",
        "# Dividir los datos en conjuntos de entrenamiento y prueba\n",
        "X_train, X_test, y_train, y_test = train_test_split(X, y, test_size=0.2, random_state=42)\n",
        "\n",
        "# Entrenar el modelo de regresión logística\n",
        "log_reg = LogisticRegression(max_iter=1000, multi_class='ovr', solver='liblinear')\n",
        "log_reg.fit(X_train, y_train)\n",
        "\n",
        "# Predecir las etiquetas en el conjunto de prueba\n",
        "y_pred = log_reg.predict(X_test)\n",
        "\n",
        "# Evaluar el modelo\n",
        "conf_matrix = confusion_matrix(y_test, y_pred)\n",
        "class_report = classification_report(y_test, y_pred)\n",
        "\n",
        "# Mostrar la matriz de confusión y el informe de clasificación\n",
        "print(\"Confusion Matrix:\")\n",
        "print(conf_matrix)\n",
        "print(\"\\nClassification Report:\")\n",
        "print(class_report)\n",
        "\n",
        "# Crear un heatmap de la matriz de confusión\n",
        "plt.figure(figsize=(10, 7))\n",
        "sns.heatmap(conf_matrix, annot=True, fmt='d', xticklabels=y.unique(), yticklabels=y.unique())\n",
        "plt.xlabel('Predicted')\n",
        "plt.ylabel('True')\n",
        "plt.title('Confusion Matrix for Multi-Position Players')\n",
        "plt.show()\n"
      ],
      "metadata": {
        "colab": {
          "base_uri": "https://localhost:8080/",
          "height": 1000
        },
        "id": "4M9M7H_RsuzC",
        "outputId": "e28e3658-087a-4c00-94a3-f329eb7a2f16"
      },
      "execution_count": null,
      "outputs": [
        {
          "output_type": "stream",
          "name": "stderr",
          "text": [
            "/usr/local/lib/python3.10/dist-packages/sklearn/metrics/_classification.py:1344: UndefinedMetricWarning: Precision and F-score are ill-defined and being set to 0.0 in labels with no predicted samples. Use `zero_division` parameter to control this behavior.\n",
            "  _warn_prf(average, modifier, msg_start, len(result))\n",
            "/usr/local/lib/python3.10/dist-packages/sklearn/metrics/_classification.py:1344: UndefinedMetricWarning: Precision and F-score are ill-defined and being set to 0.0 in labels with no predicted samples. Use `zero_division` parameter to control this behavior.\n",
            "  _warn_prf(average, modifier, msg_start, len(result))\n",
            "/usr/local/lib/python3.10/dist-packages/sklearn/metrics/_classification.py:1344: UndefinedMetricWarning: Precision and F-score are ill-defined and being set to 0.0 in labels with no predicted samples. Use `zero_division` parameter to control this behavior.\n",
            "  _warn_prf(average, modifier, msg_start, len(result))\n"
          ]
        },
        {
          "output_type": "stream",
          "name": "stdout",
          "text": [
            "Confusion Matrix:\n",
            "[[ 0  0  2]\n",
            " [ 0 16  3]\n",
            " [ 0  3  1]]\n",
            "\n",
            "Classification Report:\n",
            "              precision    recall  f1-score   support\n",
            "\n",
            "          DF       0.00      0.00      0.00         2\n",
            "          FW       0.84      0.84      0.84        19\n",
            "          MF       0.17      0.25      0.20         4\n",
            "\n",
            "    accuracy                           0.68        25\n",
            "   macro avg       0.34      0.36      0.35        25\n",
            "weighted avg       0.67      0.68      0.67        25\n",
            "\n"
          ]
        },
        {
          "output_type": "display_data",
          "data": {
            "text/plain": [
              "<Figure size 1000x700 with 2 Axes>"
            ],
            "image/png": "[encoded data removed]"
          },
          "metadata": {}
        }
      ]
    },
    {
      "cell_type": "markdown",
      "source": [
        "Dan unos resultados similares con mas variables"
      ],
      "metadata": {
        "id": "DajJK9HBs-na"
      }
    },
    {
      "cell_type": "markdown",
      "source": [
        "## 5 REGRESIÓN LOGÍSTICA DICOTÓMICA"
      ],
      "metadata": {
        "id": "PSc97u2MM60S"
      }
    },
    {
      "cell_type": "markdown",
      "source": [
        "### 5.1 Generación de la variable objetivo"
      ],
      "metadata": {
        "id": "BeQxrBnPNlXc"
      }
    },
    {
      "cell_type": "code",
      "source": [
        "# GENERACIÓN DE NUESTRA VARIABLE DEPENDIENTE\n",
        "\n",
        "# Separar posición primaria y secundaria\n",
        "df_RLD['Primary_pos'] = df_RLD['Pos'].str.split(',').str[0]\n",
        "df_RLD['Secondary_pos'] = df_RLD['Pos'].str.split(',').str[1]\n",
        "\n",
        "# Rellenar valores faltantes en 'Secondary_pos' con 'NA'\n",
        "df_RLD['Secondary_pos'] = df_RLD['Secondary_pos'].fillna('NA')\n",
        "\n",
        "# Eliminar la columna original 'Pos'\n",
        "df_RLD.drop(columns=['Pos'], inplace=True)\n",
        "\n",
        "# Rellenar valores faltantes en todo el DataFrame con 0\n",
        "df_RLD = df_RLD.fillna(0)\n",
        "\n",
        "# Crear una nueva columna 'Has_Secondary_Pos' que será 1 si 'Secondary_pos' no es 'NA', y 0 de lo contrario\n",
        "df_RLD['Has_Secondary_Pos'] = (df_RLD['Secondary_pos'] != 'NA').astype(int)\n",
        "\n",
        "# Eliminar la columna original 'Pos'\n",
        "df_RLD.drop(columns=['Primary_pos', 'Secondary_pos'], inplace=True)\n",
        "\n",
        "# Mostrar las primeras filas para verificar que la columna se ha creado correctamente\n",
        "print(df_RLD[['Has_Secondary_Pos']].head())\n"
      ],
      "metadata": {
        "colab": {
          "base_uri": "https://localhost:8080/"
        },
        "id": "1LyJ9695uywT",
        "outputId": "1867d6ed-c02e-4068-d1b3-af5b47d5361f"
      },
      "execution_count": null,
      "outputs": [
        {
          "output_type": "stream",
          "name": "stdout",
          "text": [
            "   Has_Secondary_Pos\n",
            "0                  0\n",
            "1                  0\n",
            "2                  0\n",
            "3                  0\n",
            "4                  0\n"
          ]
        }
      ]
    },
    {
      "cell_type": "markdown",
      "source": [
        "### 5.2 Preparación de los datos (normalización)"
      ],
      "metadata": {
        "id": "X1FUW99gNxMv"
      }
    },
    {
      "cell_type": "code",
      "source": [
        "# PREPARACIÓN DE LOS DATOS PARA REGRESIÓN LOGÍSTICA SOBRE Has_Secondary_Pos\n",
        "\n",
        "# NORMALIZACIÓN DE LOS DATOS NUMÉRICOS:\n",
        "\n",
        "from sklearn.preprocessing import StandardScaler\n",
        "\n",
        "# Seleccionar solo las columnas numéricas\n",
        "numeric_columns = df_RLD.select_dtypes(include=['int64', 'float64']).columns.tolist()\n",
        "\n",
        "# Asegurarse de excluir la variable dependiente 'Has_Secondary_Pos' de la normalización\n",
        "if 'Has_Secondary_Pos' in numeric_columns:\n",
        "    numeric_columns.remove('Has_Secondary_Pos')\n",
        "\n",
        "# Instanciar el objeto scaler\n",
        "scaler = StandardScaler()\n",
        "\n",
        "# Aplicar normalización solo a las columnas numéricas, excluyendo 'Has_Secondary_Pos'\n",
        "df_RLD[numeric_columns] = scaler.fit_transform(df_RLD[numeric_columns])\n",
        "\n",
        "# Comprobar que 'Has_Secondary_Pos' no ha sido modificada\n",
        "print(df_RLD['Has_Secondary_Pos'].head())"
      ],
      "metadata": {
        "colab": {
          "base_uri": "https://localhost:8080/"
        },
        "id": "Dr_QAj5EvIcC",
        "outputId": "7e9e02e1-8438-415c-f3f2-8d3c44b128aa"
      },
      "execution_count": null,
      "outputs": [
        {
          "output_type": "stream",
          "name": "stdout",
          "text": [
            "0    0\n",
            "1    0\n",
            "2    0\n",
            "3    0\n",
            "4    0\n",
            "Name: Has_Secondary_Pos, dtype: int64\n"
          ]
        }
      ]
    },
    {
      "cell_type": "code",
      "source": [
        "# Identificar columnas categóricas\n",
        "categorical_columns = df_RLD.select_dtypes(include=['object']).columns.tolist()\n",
        "\n",
        "# Filtrar columnas para excluir identificadores únicos como nombres de jugadores\n",
        "# Aquí asumimos que una columna con más del 50% de valores únicos es un identificador personal\n",
        "filtered_categorical_columns = [\n",
        "    col for col in categorical_columns\n",
        "    if df_RLD[col].nunique() / len(df_RLD) < 0.5\n",
        "]\n",
        "# Aplicar One-Hot Encoding a las columnas categóricas filtradas\n",
        "df_RLD = pd.get_dummies(df_RLD, columns=filtered_categorical_columns, drop_first=True)\n",
        "\n",
        "df_RLD_2 = df_RLD.copy()\n",
        "# Mostrar las primeras filas para verificar los cambios\n",
        "print(df_RLD.head())"
      ],
      "metadata": {
        "colab": {
          "base_uri": "https://localhost:8080/"
        },
        "id": "nY6Ttu5axB7Q",
        "outputId": "59c48144-0c9c-48eb-a54f-26fb49dbc572"
      },
      "execution_count": null,
      "outputs": [
        {
          "output_type": "stream",
          "name": "stdout",
          "text": [
            "         Rk           Player        MP    Starts       Min       90s  \\\n",
            "0 -1.785152       Max Aarons  1.230069  1.522817  1.600453  1.599423   \n",
            "1 -1.777564        Che Adams  0.392994  0.391327  0.196365  0.188146   \n",
            "2 -1.769975  Rayan Aït Nouri -0.276665 -0.093598 -0.083705 -0.080669   \n",
            "3 -1.762387  Kristoffer Ajer -0.611495 -0.416881 -0.369378 -0.366285   \n",
            "4 -1.754799       Nathan Aké -0.444080 -0.416881 -0.339503 -0.332683   \n",
            "\n",
            "        Gls    Ast       NPG        PG  ...  SuccDrib  AtmpDrib   Nutnegs  \\\n",
            "0 -0.588333  0.201 -0.592808 -0.198613  ...  2.227468  2.654266  2.826973   \n",
            "1  1.036302  0.201  1.185616 -0.198613  ... -0.305792 -0.038758 -0.427785   \n",
            "2 -0.588333  0.201 -0.592808 -0.198613  ...  1.262417  1.209229  1.199594   \n",
            "3 -0.588333 -0.615 -0.592808 -0.198613  ... -0.305792 -0.432859 -0.427785   \n",
            "4 -0.046788 -0.615  0.000000 -0.198613  ... -0.788317 -0.695593 -0.427785   \n",
            "\n",
            "    Carries  TotDistCarry  PrgDistCarry  CarryAtt3rd  Carry18Yd  CarryDIsp  \\\n",
            "0  1.536469      1.881531      2.157126     2.277351   0.358580   1.011028   \n",
            "1 -0.324548     -0.525627     -0.594041    -0.335137  -0.190906   1.011028   \n",
            "2  0.265123      0.175141      0.411008    -0.148530   0.358580   0.727377   \n",
            "3 -0.642385     -0.543047     -0.479925    -0.428440  -0.603021  -0.690878   \n",
            "4  0.511864      0.494248      0.831726    -0.055227  -0.603021  -0.785428   \n",
            "\n",
            "   Has_Secondary_Pos  \n",
            "0                  0  \n",
            "1                  0  \n",
            "2                  0  \n",
            "3                  0  \n",
            "4                  0  \n",
            "\n",
            "[5 rows x 86 columns]\n"
          ]
        }
      ]
    },
    {
      "cell_type": "markdown",
      "source": [
        "### 5.3 División en train y test"
      ],
      "metadata": {
        "id": "af7w0ykDOJKC"
      }
    },
    {
      "cell_type": "code",
      "source": [
        "# DIVISIÓN DE LOS DATOS EN TRAIN Y TEST\n",
        "\n",
        "from sklearn.model_selection import train_test_split\n",
        "\n",
        "# Definir las variables independientes y la variable dependiente\n",
        "X = df_RLD.drop(['Has_Secondary_Pos','Player'], axis=1)  # Elimina la variable objetivo y cualquier otra no relevante\n",
        "y = df_RLD['Has_Secondary_Pos']  # La variable objetivo\n",
        "\n",
        "# Dividir los datos en entrenamiento y prueba (80% entrenamiento, 20% prueba)\n",
        "X_train, X_test, y_train, y_test = train_test_split(X, y, test_size=0.2, random_state=42)\n",
        "\n",
        "print(\"Datos divididos correctamente.\")"
      ],
      "metadata": {
        "colab": {
          "base_uri": "https://localhost:8080/"
        },
        "id": "NMUGdIfQyM-Y",
        "outputId": "d68fe259-2ff7-46b3-a7b6-e844bca001b3"
      },
      "execution_count": null,
      "outputs": [
        {
          "output_type": "stream",
          "name": "stdout",
          "text": [
            "Datos divididos correctamente.\n"
          ]
        }
      ]
    },
    {
      "cell_type": "code",
      "source": [
        "# CHEQUEO DE FORMA:\n",
        "\n",
        "# Mostrar las primeras filas de los conjuntos de entrenamiento y prueba para verificar los datos\n",
        "print(\"Primeras filas del conjunto de entrenamiento:\")\n",
        "print(X_train.head())\n",
        "\n",
        "print(\"Primeras filas del conjunto de prueba:\")\n",
        "print(X_test.head())\n",
        "\n",
        "# Verificar las dimensiones de los conjuntos de datos\n",
        "print(\"Dimensiones del conjunto de entrenamiento: \", X_train.shape)\n",
        "print(\"Dimensiones del conjunto de prueba: \", X_test.shape)"
      ],
      "metadata": {
        "colab": {
          "base_uri": "https://localhost:8080/"
        },
        "id": "lOUte25vyQEi",
        "outputId": "09c1db5f-c43c-448d-ea0d-661e8c2b293a"
      },
      "execution_count": null,
      "outputs": [
        {
          "output_type": "stream",
          "name": "stdout",
          "text": [
            "Primeras filas del conjunto de entrenamiento:\n",
            "           Rk        MP    Starts       Min       90s       Gls       Ast  \\\n",
            "210 -0.313064  0.727824  0.714610  0.601534  0.608169  0.494757  0.201000   \n",
            "185 -0.381357 -0.946325 -0.901805 -0.826826 -0.819910 -0.588333 -0.615000   \n",
            "370  0.551977 -0.276665 -0.416881 -0.520616 -0.517493 -0.046788  0.201000   \n",
            "543  1.864715  1.230069  0.876251  0.851731  0.843381  1.577847  2.649001   \n",
            "396  0.749267 -1.615985 -1.386729 -1.414975 -1.407942 -0.588333 -0.615000   \n",
            "\n",
            "          NPG        PG     PA_x  ...  AttPenTouch  SuccDrib  AtmpDrib  \\\n",
            "210  0.592808 -0.198613 -0.21541  ...     1.452411  0.417997  0.815128   \n",
            "185 -0.592808 -0.198613 -0.21541  ...    -0.672688 -0.667686 -0.695593   \n",
            "370  0.000000 -0.198613 -0.21541  ...    -0.324944  0.779891  0.749444   \n",
            "543  1.778424 -0.198613 -0.21541  ...     0.486457  0.176734  0.223976   \n",
            "396 -0.592808 -0.198613 -0.21541  ...    -0.827240 -0.788317 -0.826960   \n",
            "\n",
            "      Nutnegs   Carries  TotDistCarry  PrgDistCarry  CarryAtt3rd  Carry18Yd  \\\n",
            "210 -0.427785  0.026745      0.360429      0.475628     0.224682   2.007039   \n",
            "185 -0.427785 -0.776210     -0.779012     -0.837398    -0.894955  -0.603021   \n",
            "370  0.385904 -0.065260     -0.135256     -0.009710     0.504592   0.358580   \n",
            "543 -0.427785  1.151720      0.968553      0.782230     1.624229  -0.190906   \n",
            "396 -0.427785 -1.165142     -1.155922     -1.101378    -0.894955  -0.603021   \n",
            "\n",
            "     CarryDIsp  \n",
            "210   0.916478  \n",
            "185  -0.785428  \n",
            "370   0.916478  \n",
            "543   1.389229  \n",
            "396  -0.785428  \n",
            "\n",
            "[5 rows x 84 columns]\n",
            "Primeras filas del conjunto de prueba:\n",
            "           Rk        MP    Starts       Min       90s       Gls    Ast  \\\n",
            "457  1.212140  0.560409  0.876251  0.777045  0.776178 -0.588333  0.201   \n",
            "257 -0.305476 -1.448570 -1.063446 -1.189051 -1.189530 -0.588333 -0.615   \n",
            "357  0.453332  1.062654  1.199534  1.337187  1.330608 -0.046788  0.201   \n",
            "532  1.781246 -0.611495 -0.740163 -0.742805 -0.735905 -0.588333 -0.615   \n",
            "542  1.857127  0.058164  0.391327  0.386813  0.389757 -0.046788 -0.615   \n",
            "\n",
            "          NPG        PG     PA_x  ...  AttPenTouch  SuccDrib  AtmpDrib  \\\n",
            "457 -0.592808 -0.198613 -0.21541  ...    -0.440859 -0.185160 -0.038758   \n",
            "257 -0.592808 -0.198613 -0.21541  ...    -0.479497 -0.788317 -0.629910   \n",
            "357  0.000000 -0.198613 -0.21541  ...     0.486457 -0.305792 -0.498543   \n",
            "532 -0.592808 -0.198613 -0.21541  ...    -0.711326 -0.547055 -0.564226   \n",
            "542  0.000000 -0.198613 -0.21541  ...    -0.479497 -0.788317 -0.826960   \n",
            "\n",
            "      Nutnegs   Carries  TotDistCarry  PrgDistCarry  CarryAtt3rd  Carry18Yd  \\\n",
            "457 -0.427785  1.285546      1.384263      1.583795     2.557261  -0.465649   \n",
            "257 -0.427785 -1.031316     -0.972218     -0.884144    -0.615046  -0.465649   \n",
            "357 -0.427785  0.741878      0.829191      0.553997    -0.241834  -0.603021   \n",
            "532 -0.427785 -0.232543     -0.194643     -0.356184    -0.055227  -0.465649   \n",
            "542 -0.427785 -0.027622      0.076163     -0.013835    -0.521743  -0.603021   \n",
            "\n",
            "     CarryDIsp  \n",
            "457   0.065525  \n",
            "257  -0.596327  \n",
            "357  -0.690878  \n",
            "532  -0.312676  \n",
            "542  -0.879978  \n",
            "\n",
            "[5 rows x 84 columns]\n",
            "Dimensiones del conjunto de entrenamiento:  (435, 84)\n",
            "Dimensiones del conjunto de prueba:  (109, 84)\n"
          ]
        }
      ]
    },
    {
      "cell_type": "markdown",
      "source": [
        "### 5.4 GENERACIÓN DEL MODELO"
      ],
      "metadata": {
        "id": "TZOlJb0GORZW"
      }
    },
    {
      "cell_type": "code",
      "source": [
        "# GENERACIÓN DEL MODELO.\n",
        "\n",
        "from sklearn.linear_model import LogisticRegression\n",
        "from sklearn.metrics import classification_report, confusion_matrix\n",
        "\n",
        "# Crear instancia del modelo de regresión logística\n",
        "log_reg = LogisticRegression(max_iter=1000)  # Aumenta el número de iteraciones si el modelo no converge\n",
        "\n",
        "# Entrenar el modelo\n",
        "log_reg.fit(X_train, y_train)\n",
        "\n",
        "print(\"Modelo entrenado.\")\n",
        "\n",
        "# Realizar predicciones en el conjunto de prueba\n",
        "y_pred = log_reg.predict(X_test)\n",
        "print(\"Predicciones hechas.\")\n",
        "\n",
        "# Imprimir la matriz de confusión\n",
        "print(\"Matriz de Confusión:\")\n",
        "print(confusion_matrix(y_test, y_pred))\n",
        "\n",
        "# Imprimir el reporte de clasificación\n",
        "print(\"\\nReporte de Clasificación:\")\n",
        "print(classification_report(y_test, y_pred))"
      ],
      "metadata": {
        "colab": {
          "base_uri": "https://localhost:8080/"
        },
        "id": "aU1ll1hIzGlK",
        "outputId": "14e8e647-246c-4fa0-f72d-ead4e98c52c7"
      },
      "execution_count": null,
      "outputs": [
        {
          "output_type": "stream",
          "name": "stdout",
          "text": [
            "Modelo entrenado.\n",
            "Predicciones hechas.\n",
            "Matriz de Confusión:\n",
            "[[76  9]\n",
            " [11 13]]\n",
            "\n",
            "Reporte de Clasificación:\n",
            "              precision    recall  f1-score   support\n",
            "\n",
            "           0       0.87      0.89      0.88        85\n",
            "           1       0.59      0.54      0.57        24\n",
            "\n",
            "    accuracy                           0.82       109\n",
            "   macro avg       0.73      0.72      0.72       109\n",
            "weighted avg       0.81      0.82      0.81       109\n",
            "\n"
          ]
        }
      ]
    },
    {
      "cell_type": "markdown",
      "source": [
        "### 5.5 Análisis de los resultados\n",
        "#### MATRIZ DE CONFUSIÓN:\n",
        "- **Verdaderos positivos (TP): 76** - Estos son los casos en los que el modelo predijo correctamente la clase 0 (sin posición secundaria).\n",
        "- **Falsos positivos (FP): 9** - Estos son los casos en los que el modelo predijo incorrectamente que pertenecían a la clase 1 (tiene posición secundaria).\n",
        "- **Falsos negativos (FN): 11** - Estos son los casos en los que el modelo predijo incorrectamente que pertenecían a la clase 0.\n",
        "- **Verdaderos negativos (TN): 13** - Estos son los casos en los que el modelo predijo correctamente la clase 1.\n",
        "\n",
        "#### Reporte de Clasificación\n",
        "El reporte de clasificación proporciona una visión más detallada del desempeño del modelo en términos de precisión, recall y F1-score para cada clase:\n",
        "\n",
        "#### Clase 0 (sin posición secundaria)\n",
        "- **Precisión**: 0.87 - De todas las predicciones de clase 0, el 87% fueron correctas.\n",
        "- **Recall**: 0.89 - De todos los casos verdaderos de clase 0, el modelo pudo identificar el 89%.\n",
        "- **F1-score**: 0.88 - Es una medida que combina la precisión y el recall. Un valor más alto indica un mejor desempeño.\n",
        "\n",
        "#### Clase 1 (tiene posición secundaria)\n",
        "- **Precisión**: 0.59 - De todas las predicciones de clase 1, el 59% fueron correctas.\n",
        "- **Recall**: 0.54 - De todos los casos verdaderos de clase 1, el modelo pudo identificar el 54%.\n",
        "- **F1-score**: 0.57 - Al igual que para la clase 0, indica el equilibrio entre precisión y recall, pero es considerablemente más bajo para la clase 1.\n",
        "\n",
        "#### General\n",
        "- **Accuracy (Exactitud)**: 0.82 - De todas las predicciones, el 82% fueron correctas.\n",
        "- **Macro avg de F1-score**: 0.72 - Promedio del F1-score sin tener en cuenta el desbalance de clase.\n",
        "- **Weighted avg de F1-score**: 0.81 - Promedio del F1-score ponderado por el soporte de cada clase."
      ],
      "metadata": {
        "id": "Sw3BgCzt3_w6"
      }
    },
    {
      "cell_type": "markdown",
      "source": [
        "## 6 Cálculo de la probabilidad de los grupos"
      ],
      "metadata": {
        "id": "bNDwrobROhvH"
      }
    },
    {
      "cell_type": "code",
      "source": [
        "def calcular_probabilidad_polivalencia(lista_nombres):\n",
        "    # Filtrar el DataFrame para obtener solo los jugadores en la lista de nombres\n",
        "    df_filtrado = df_RLD_2[df_RLD_2['Player'].isin(lista_nombres)]\n",
        "\n",
        "    # Asegurarse de que todas las columnas en X_train estén presentes en df_filtrado, incluso si algunas categorías faltan\n",
        "    # Si X_train fue modificado para el entrenamiento (como eliminar columnas no utilizadas), asegúrate de hacer lo mismo aquí\n",
        "    df_filtrado = df_filtrado.reindex(columns=X_train.columns, fill_value=0)\n",
        "\n",
        "    # Calcular probabilidades de que los jugadores sean polivalentes\n",
        "    probabilidades = log_reg.predict_proba(df_filtrado)[:, 1]  # obtener solo la probabilidad de la clase 1 (polivalente)\n",
        "\n",
        "    # Calcular la media de estas probabilidades\n",
        "    media_probabilidades = probabilidades.mean()\n",
        "\n",
        "    return media_probabilidades\n",
        "\n",
        "\n",
        "# Jugadores en el Cluster 2, ordenados por xG/90 de mayor a menor:\n",
        "Cluster2 = ['Dele Alli', 'Josh Sargent', 'Jóhann Berg Guðmundsson', 'Davinson Sánchez', 'Fernandinho', 'Dan Burn', 'Milot Rashica', 'Ruben Loftus-Cheek', 'Romain Saïss', 'Jacob Murphy', 'Juraj Kucka', 'Vitaly Janelt', 'Thomas Partey', 'Sean Longstaff', 'Jonny Evans', 'Nuno Tavares', 'Pierre Lees-Melou', 'James Tarkowski', 'Solly March', 'Antonio Rüdiger', 'Frank Onyeka', 'Ben Mee', 'Shandon Baptiste', 'Leander Dendoncker', 'Joël Matip', 'Pascal Groß', 'Adam Lallana', 'Virgil van Dijk', 'Nélson Semedo', 'Marc Guéhi', 'Craig Dawson', 'Ryan Fraser', 'Çağlar Söyüncü', 'Ezri Konsa', 'Pontus Jansson', 'Miguel Almirón', 'Rico Henry', 'Ethan Pinnock', 'Stuart Dallas', 'Ben Gibson', 'Rúben Dias', 'Wilfred Ndidi', 'Joe Willock', 'Alex Oxlade-Chamberlain', 'Kenny McLean', 'Ciaran Clark', 'Pierre Højbjerg', 'Ben Godfrey', 'Tariq Lamptey', 'Jan Bednarek', 'Fabinho', 'Matty Cash', 'Trevoh Chalobah', 'Shane Duffy', 'Conor Coady', 'Granit Xhaka', 'Junior Firpo', 'Josh Brownhill', 'Scott McTominay', 'Kalvin Phillips', 'Harry Maguire', 'Moussa Sissoko', 'Gabriel Dos Santos', 'Grant Hanley', 'Ibrahima Diallo', 'César Azpilicueta', 'Ashley Young', 'Albert Sambi Lokonga', 'Rúben Neves', 'Javier Manquillo', 'João Moutinho', 'Fernando Marçal', 'Valentino Livramento', 'Tyrone Mings', 'Dwight McNeil', 'Max Kilman', 'Michael Keane', 'Isaac Hayden', 'Luke Ayling', 'Fred', 'Yves Bissouma', 'Jonjo Shelvey', 'Kieran Tierney', 'Tom Cleverley', 'Matt Targett', 'Ashley Westwood', 'James Milner', 'Thiago Silva', 'Boubakary Soumaré', 'Angelo Ogbonna', 'Mohammed Salisu', 'Oriol Romeu', 'Matt Ritchie', 'Declan Rice', 'Max Aarons', 'Kurt Zouma', 'Andreas Christensen', 'Emerson', 'Lewis Dunk', 'Billy Gilmour', 'Lucas Digne', 'Matthew Lowton', 'Aaron Cresswell', 'Jamaal Lascelles', 'James McArthur', 'Adam Forshaw', 'Kyle Walker-Peters', 'Joel Ward', 'Jamie Shackleton', 'Mathias Jensen', 'Eric Dier', 'Marc Cucurella', 'Diego Llorente', 'Vladimír Coufal', 'Liam Cooper', 'Douglas Luiz', 'Joachim Andersen', 'Adam Masina', 'Nemanja Matić', 'Takehiro Tomiyasu', 'Luke Shaw', 'Oliver Skipp', 'Pascal Struijk', 'Charlie Taylor', 'Séamus Coleman', 'Luke Thomas', 'Dimitris Giannoulis', 'Cheikhou Kouyaté', 'Joël Veltman', 'Kyle Walker', 'Allan', 'Adam Webster', 'Ben Johnson', 'William Troost-Ekong', 'Tyrick Mitchell', 'Victor Lindelöf', 'Ben White', 'Brandon Williams', 'Daniel Amartey', 'Timothy Castagne', 'Daniel Bachmann', 'Aaron Wan-Bissaka', 'Craig Cathcart', 'Alex McCarthy', 'Robert Sánchez', 'Kasper Schmeichel', 'Ederson', 'Edouard Mendy', 'Illan Meslier', 'Emiliano Martínez', 'Alisson', 'Marvelous Nakamba', 'Tim Krul', 'Jordan Pickford', 'Vicente Guaita', 'Nick Pope', 'Aaron Ramsdale', 'David de Gea', 'Álvaro Fernández', 'José Sá', 'Kiko Femenía', 'Łukasz Fabiański', 'Hugo Lloris']\n",
        "\n",
        "# Jugadores en el Cluster 0, ordenados por xG/90 de mayor a menor:\n",
        "Cluster0 = ['Alexandre Lacazette', 'Hakim Ziyech', 'Alexis Mac Allister', 'Armando Broja', 'Jorginho', 'Kelechi Iheanacho', 'Adam Armstrong', 'Christian Pulisic', 'Kai Havertz', 'Ademola Lookman', 'Chris Wood', 'Ismaila Sarr', 'Manuel Lanzini', 'Francisco Trincão', 'Danny Ings', 'Mohamed Elyounoussi', 'Tyler Roberts', 'Rodrigo', 'Mason Greenwood', 'Ivan Toney', 'Salomón Rondón', 'Che Adams', 'Richarlison', 'Youri Tielemans', 'Wilfried Zaha', 'Lucas Moura', 'Saïd Benrahma', 'Leandro Trossard', 'Callum Hudson-Odoi', 'Enock Mwepu', 'Hwang Hee-chan', 'Raúl Jiménez', 'Harvey Barnes', 'Thiago Alcántara', 'Pablo Fornals', 'James Ward-Prowse', 'Naby Keïta', 'Allan Saint-Maximin', 'Demarai Gray', 'Daniel James', 'Daniel James', 'Daniel James', 'Daniel James', 'Aymeric Laporte', 'Daniel James', 'Daniel James', 'Marcus Rashford', 'Jeffrey Schlupp', 'Daniel James', 'Daniel James', 'Daniel James', 'Daniel James', 'Daniel James', 'Daniel James', 'Daniel James', 'Daniel James', 'Daniel James', 'Daniel James', 'Daniel James', 'Daniel James', 'Daniel James', 'Daniel James', 'Daniel James', 'Daniel James', 'Daniel James', 'Daniel James', 'Daniel James', 'Daniel James', 'Daniel James', 'Daniel James', 'Daniel James', 'Daniel James', 'Daniel James', 'Daniel James', 'João Pedro', 'Anthony Gordon', 'Adama Traoré', 'Daniel Podence', 'Andros Townsend', 'Jordan Ayew', 'Reece James', 'Tomáš Souček', 'Nathan Redmond', 'Abdoulaye Doucouré', 'Jakub Moder', 'Mateusz Klich', 'Cucho', 'Sergi Canós', 'Alex Iwobi', 'Jadon Sancho', 'Christian Nørgaard', 'Emi Buendía', 'Mateo Kovačić', 'Marcos Alonso', 'Trent Alexander-Arnold', 'João Cancelo', 'Martin Ødegaard', 'Jacob Ramsey', 'Joelinton', \"N'Golo Kanté\", 'Sergio Reguilón', 'Jack Harrison', 'Rodri', 'Andrew Robertson', 'Jordan Henderson', 'John McGinn']\n",
        "\n",
        "# Jugadores en el Cluster 1, ordenados por xG/90 de mayor a menor:\n",
        "Cluster1 =['Diogo Jota', 'Mohamed Salah', 'Cristiano Ronaldo', 'Raheem Sterling', 'Riyad Mahrez', 'Sadio Mané', 'Pierre-Emerick Aubameyang', 'Phil Foden', 'Harry Kane', 'İlkay Gündoğan', 'Odsonne Édouard', 'Christian Benteke', 'Joshua King', 'Mason Mount', 'Jamie Vardy', 'Son Heung-min', 'Romelu Lukaku', 'Michail Antonio', 'Raphael Dias Belloli', 'Neal Maupay', 'Bryan Mbeumo', 'Martinelli', 'Gabriel Jesus', 'Ollie Watkins', 'Callum Wilson', 'James Maddison', 'Jack Grealish', 'Jarrod Bowen', 'Emmanuel Dennis', 'Maxwel Cornet', 'Teemu Pukki', 'Bukayo Saka', 'Kevin De Bruyne', 'Emile Smith Rowe', 'Bruno Fernandes', 'Conor Gallagher', 'Bernardo Silva']\n",
        "\n",
        "# Llamar a la función con una lista de nombres\n",
        "media_Cluster0 = calcular_probabilidad_polivalencia(Cluster0)\n",
        "media_Cluster1 = calcular_probabilidad_polivalencia(Cluster1)\n",
        "media_Cluster2 = calcular_probabilidad_polivalencia(Cluster2)\n",
        "print(\"Media del cluster 0 de ser polivalente:\", media_Cluster0)\n",
        "print(\"Media del cluster 1 de ser polivalente:\", media_Cluster1)\n",
        "print(\"Media del cluster 2 de ser polivalente:\", media_Cluster2)"
      ],
      "metadata": {
        "colab": {
          "base_uri": "https://localhost:8080/"
        },
        "id": "4Yoq85SC-QOv",
        "outputId": "b17ddd22-6295-4827-f29d-b8bd0a8eee6a"
      },
      "execution_count": null,
      "outputs": [
        {
          "output_type": "stream",
          "name": "stdout",
          "text": [
            "Media del cluster 0 de ser polivalente: 0.4783894570203968\n",
            "Media del cluster 1 de ser polivalente: 0.3654996173042459\n",
            "Media del cluster 2 de ser polivalente: 0.11596760233452799\n"
          ]
        }
      ]
    },
    {
      "cell_type": "markdown",
      "source": [
        "## 7 Conclusión\n",
        "\n",
        "En este proyecto, hemos analizado detalladamente las actuaciones de los jugadores de la Premier League utilizando un dataset con 83 métricas distintas de la temporada 2021-2022. A través de técnicas como el PCA y el clustering mediante K-Means, identificamos perfiles de jugadores que reflejan la complejidad y la fluidez de los roles en el fútbol moderno, más allá de las posiciones convencionales.\n",
        "\n",
        "Los clusters resultantes demostraron cómo las métricas pueden agruparse para formar distintos estilos de juego y niveles de impacto en el campo, proporcionando insights valiosos sobre las interacciones entre diversas métricas y su influencia en el rendimiento.\n",
        "\n",
        "Este análisis ha confirmado que un enfoque basado en métricas puede capturar eficazmente la diversidad de roles en el campo, ofreciendo una comprensión más profunda y matizada que las clasificaciones tradicionales. Estos insights no solo enriquecen nuestra comprensión del juego, sino que también ofrecen recursos valiosos para entrenadores y analistas deportivos en su evaluación y estrategia de juego."
      ],
      "metadata": {
        "id": "wT5Hu-6Br-qQ"
      }
    },
    {
      "cell_type": "markdown",
      "source": [],
      "metadata": {
        "id": "jVSaa8j6PNkB"
      }
    },
    {
      "cell_type": "markdown",
      "source": [
        "## 8 Trabajo a futuro\n",
        "\n",
        "El análisis realizado abre varias posibilidades para investigaciones futuras y aplicaciones prácticas que podrían enriquecer nuestra comprensión del fútbol y optimizar el rendimiento de los equipos. A continuación se detallan algunas direcciones clave que podríamos explorar:\n",
        "\n",
        "1. **Modelos Predictivos Más Complejos**: Desarrollar modelos predictivos avanzados, como regresiones lineales múltiples o modelos de machine learning, para prever el rendimiento futuro de los jugadores basándose en las métricas analizadas.\n",
        "\n",
        "2. **Comparación entre Ligas**: Ampliar el análisis para incluir datos de otras ligas importantes alrededor del mundo y comparar los estilos de juego, la intensidad y la táctica entre diferentes competiciones.\n",
        "\n",
        "3. **Desarrollo de Herramientas de Scouting**: Crear herramientas de scouting basadas en datos que puedan ayudar a los clubes a identificar talentos ocultos o evaluar la compatibilidad de potenciales fichajes con el estilo de juego del equipo.\n"
      ],
      "metadata": {
        "id": "bRlfjT2XtGZl"
      }
    }
  ]
}